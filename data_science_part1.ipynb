{
  "cells": [
    {
      "cell_type": "markdown",
      "metadata": {
        "id": "view-in-github",
        "colab_type": "text"
      },
      "source": [
        "<a href=\"https://colab.research.google.com/github/kalyan-81/DataScience-using-Python/blob/main/data_science_part1.ipynb\" target=\"_parent\"><img src=\"https://colab.research.google.com/assets/colab-badge.svg\" alt=\"Open In Colab\"/></a>"
      ]
    },
    {
      "cell_type": "markdown",
      "id": "8add046c",
      "metadata": {
        "id": "8add046c"
      },
      "source": [
        "# **Importance of data**\n",
        "\n",
        "Data plays an important role in our lives.\n",
        "* hospital contain data related to medical reports and prescriptions of their patients.\n",
        "* A bank contains thousands of customer's transaction details.\n",
        "* Share market data represents minute to minute changes in the values of the shares.\n",
        "\n",
        "* every piece of data is precious\n",
        "\n",
        "# **what is data warehouse?**\n",
        "The data may come from several sources, so we need some mechanism to store that data.\\\n",
        "the data stored in a system called \" data warehoue \".\n",
        "* we can imagine that data warehouse as central repository of integrated data from different sources.\n",
        "\n",
        "* example in a business oraganization, we may get data from \n",
        "1. sales department\n",
        "2. Purchase department\n",
        "3. production department,etc.\\\n",
        "such data is stored in a system is called **data warehouse.**\n",
        "\n",
        "# **who is data analyst?.**\n",
        "1. let a business company wants to know how much amout they had spent in the last 6 months on purchasing the raw material.\n",
        "2. this is called data analysis or data analytics where the data that is retrieved will be analyzed to answer the questions raised by th management of organization.\n",
        "3. A person who does the data analysis is called \"data analyst'\n",
        "\n",
        "https://github.com/kalyan-81/DataScience-using-Python/blob/main/data%20scientist%20and%20data%20analyst.PNG
        "\n",
        "\n",
        "\n"
      ]
    },
    {
      "cell_type": "markdown",
      "id": "35987897",
      "metadata": {
        "id": "35987897"
      },
      "source": [
        "* the primary goal of data visualization is to communicate information clearly and efficiently using statistical graphs, plots and diagrams."
      ]
    },
    {
      "cell_type": "markdown",
      "id": "f2c5150b",
      "metadata": {
        "id": "f2c5150b"
      },
      "source": [
        "# **what is datascience?.**\n",
        "datascience is a word used for techniques to extract information from the dataware house, analyze them and present the necessary data to the business organization.\\\n",
        "A person who is involved in this work is called '**data scientist**'.\n"
      ]
    },
    {
      "cell_type": "markdown",
      "id": "2938df33",
      "metadata": {
        "id": "2938df33"
      },
      "source": [
        "# what is the difference between data scientist and data analyst?\n",
        "\n",
        "https://github.com/kalyan-81/DataScience-using-Python/blob/main/data%20scientist%20and%20data%20analyst.PNG
        "\n",
        "\n"
      ]
    },
    {
      "cell_type": "code",
      "execution_count": null,
      "id": "92fea4a8",
      "metadata": {
        "id": "92fea4a8"
      },
      "outputs": [],
      "source": [
        ""
      ]
    },
    {
      "cell_type": "markdown",
      "id": "182db8b4",
      "metadata": {
        "id": "182db8b4"
      },
      "source": [
        "# the packages required for data analysis in python are\n",
        "1. **pandas** which is useful for data analysis and manupulation.\n",
        "2. **xlrd** which is useful retrieve the data from excel spread sheets.\n",
        "\n",
        "download and install these packages."
      ]
    },
    {
      "cell_type": "code",
      "execution_count": null,
      "id": "1028dc9a",
      "metadata": {
        "id": "1028dc9a"
      },
      "outputs": [],
      "source": [
        ""
      ]
    },
    {
      "cell_type": "code",
      "execution_count": null,
      "id": "4b26c306",
      "metadata": {
        "id": "4b26c306",
        "outputId": "127b6403-78bb-4604-b933-3aa6cb29d0ca"
      },
      "outputs": [
        {
          "name": "stdout",
          "output_type": "stream",
          "text": [
            "Requirement already satisfied: pandas in c:\\users\\home\\miniconda3\\lib\\site-packages (1.2.4)\n",
            "Requirement already satisfied: python-dateutil>=2.7.3 in c:\\users\\home\\miniconda3\\lib\\site-packages (from pandas) (2.8.2)\n",
            "Requirement already satisfied: numpy>=1.16.5 in c:\\users\\home\\miniconda3\\lib\\site-packages (from pandas) (1.18.5)\n",
            "Requirement already satisfied: pytz>=2017.3 in c:\\users\\home\\miniconda3\\lib\\site-packages (from pandas) (2021.3)\n",
            "Requirement already satisfied: six>=1.5 in c:\\users\\home\\miniconda3\\lib\\site-packages (from python-dateutil>=2.7.3->pandas) (1.16.0)\n",
            "Note: you may need to restart the kernel to use updated packages.\n"
          ]
        }
      ],
      "source": [
        "!pip install pandas"
      ]
    },
    {
      "cell_type": "code",
      "execution_count": null,
      "id": "e78075c5",
      "metadata": {
        "id": "e78075c5"
      },
      "outputs": [],
      "source": [
        "import pandas as pd"
      ]
    },
    {
      "cell_type": "markdown",
      "id": "e20d9c01",
      "metadata": {
        "id": "e20d9c01"
      },
      "source": [
        "# reading data using csv file"
      ]
    },
    {
      "cell_type": "code",
      "execution_count": null,
      "id": "de6e0f09",
      "metadata": {
        "id": "de6e0f09"
      },
      "outputs": [],
      "source": [
        "stdata=pd.read_csv('E:\\\\my youtube channel\\\\master python\\\\first page\\\\students.csv')"
      ]
    },
    {
      "cell_type": "code",
      "execution_count": null,
      "id": "8c58cc1f",
      "metadata": {
        "id": "8c58cc1f",
        "outputId": "776b0b1a-4327-41dd-b33e-96a744cb1d12"
      },
      "outputs": [
        {
          "data": {
            "text/html": [
              "<div>\n",
              "<style scoped>\n",
              "    .dataframe tbody tr th:only-of-type {\n",
              "        vertical-align: middle;\n",
              "    }\n",
              "\n",
              "    .dataframe tbody tr th {\n",
              "        vertical-align: top;\n",
              "    }\n",
              "\n",
              "    .dataframe thead th {\n",
              "        text-align: right;\n",
              "    }\n",
              "</style>\n",
              "<table border=\"1\" class=\"dataframe\">\n",
              "  <thead>\n",
              "    <tr style=\"text-align: right;\">\n",
              "      <th></th>\n",
              "      <th>Roll no</th>\n",
              "      <th>name</th>\n",
              "      <th>maths</th>\n",
              "      <th>physics</th>\n",
              "      <th>chemistry</th>\n",
              "      <th>year passing</th>\n",
              "    </tr>\n",
              "  </thead>\n",
              "  <tbody>\n",
              "    <tr>\n",
              "      <th>0</th>\n",
              "      <td>22001</td>\n",
              "      <td>pavan</td>\n",
              "      <td>95</td>\n",
              "      <td>60</td>\n",
              "      <td>50</td>\n",
              "      <td>2019</td>\n",
              "    </tr>\n",
              "    <tr>\n",
              "      <th>1</th>\n",
              "      <td>22002</td>\n",
              "      <td>anil</td>\n",
              "      <td>90</td>\n",
              "      <td>75</td>\n",
              "      <td>60</td>\n",
              "      <td>2018</td>\n",
              "    </tr>\n",
              "    <tr>\n",
              "      <th>2</th>\n",
              "      <td>22003</td>\n",
              "      <td>prashanth</td>\n",
              "      <td>89</td>\n",
              "      <td>85</td>\n",
              "      <td>75</td>\n",
              "      <td>2020</td>\n",
              "    </tr>\n",
              "    <tr>\n",
              "      <th>3</th>\n",
              "      <td>22004</td>\n",
              "      <td>deepak</td>\n",
              "      <td>85</td>\n",
              "      <td>69</td>\n",
              "      <td>54</td>\n",
              "      <td>2020</td>\n",
              "    </tr>\n",
              "    <tr>\n",
              "      <th>4</th>\n",
              "      <td>22005</td>\n",
              "      <td>vishnu</td>\n",
              "      <td>66</td>\n",
              "      <td>78</td>\n",
              "      <td>90</td>\n",
              "      <td>2019</td>\n",
              "    </tr>\n",
              "    <tr>\n",
              "      <th>5</th>\n",
              "      <td>22006</td>\n",
              "      <td>kalyan</td>\n",
              "      <td>90</td>\n",
              "      <td>60</td>\n",
              "      <td>40</td>\n",
              "      <td>2018</td>\n",
              "    </tr>\n",
              "    <tr>\n",
              "      <th>6</th>\n",
              "      <td>22007</td>\n",
              "      <td>abhay</td>\n",
              "      <td>70</td>\n",
              "      <td>75</td>\n",
              "      <td>50</td>\n",
              "      <td>2017</td>\n",
              "    </tr>\n",
              "    <tr>\n",
              "      <th>7</th>\n",
              "      <td>22008</td>\n",
              "      <td>arun</td>\n",
              "      <td>66</td>\n",
              "      <td>98</td>\n",
              "      <td>54</td>\n",
              "      <td>2015</td>\n",
              "    </tr>\n",
              "    <tr>\n",
              "      <th>8</th>\n",
              "      <td>22009</td>\n",
              "      <td>chaitanya</td>\n",
              "      <td>78</td>\n",
              "      <td>87</td>\n",
              "      <td>33</td>\n",
              "      <td>2017</td>\n",
              "    </tr>\n",
              "    <tr>\n",
              "      <th>9</th>\n",
              "      <td>220010</td>\n",
              "      <td>sandeep</td>\n",
              "      <td>80</td>\n",
              "      <td>45</td>\n",
              "      <td>60</td>\n",
              "      <td>2020</td>\n",
              "    </tr>\n",
              "  </tbody>\n",
              "</table>\n",
              "</div>"
            ],
            "text/plain": [
              "   Roll no       name  maths  physics  chemistry  year passing\n",
              "0    22001      pavan     95       60         50          2019\n",
              "1    22002       anil     90       75         60          2018\n",
              "2    22003  prashanth     89       85         75          2020\n",
              "3    22004     deepak     85       69         54          2020\n",
              "4    22005     vishnu     66       78         90          2019\n",
              "5    22006     kalyan     90       60         40          2018\n",
              "6    22007      abhay     70       75         50          2017\n",
              "7    22008       arun     66       98         54          2015\n",
              "8    22009  chaitanya     78       87         33          2017\n",
              "9   220010    sandeep     80       45         60          2020"
            ]
          },
          "execution_count": 4,
          "metadata": {},
          "output_type": "execute_result"
        }
      ],
      "source": [
        "stdata"
      ]
    },
    {
      "cell_type": "code",
      "execution_count": null,
      "id": "3395d152",
      "metadata": {
        "id": "3395d152"
      },
      "outputs": [],
      "source": [
        "dtfm=pd.DataFrame(stdata)"
      ]
    },
    {
      "cell_type": "code",
      "execution_count": null,
      "id": "1c6135ff",
      "metadata": {
        "id": "1c6135ff",
        "outputId": "de158c0d-cb73-4035-f62c-6ebcdfce71fa"
      },
      "outputs": [
        {
          "data": {
            "text/html": [
              "<div>\n",
              "<style scoped>\n",
              "    .dataframe tbody tr th:only-of-type {\n",
              "        vertical-align: middle;\n",
              "    }\n",
              "\n",
              "    .dataframe tbody tr th {\n",
              "        vertical-align: top;\n",
              "    }\n",
              "\n",
              "    .dataframe thead th {\n",
              "        text-align: right;\n",
              "    }\n",
              "</style>\n",
              "<table border=\"1\" class=\"dataframe\">\n",
              "  <thead>\n",
              "    <tr style=\"text-align: right;\">\n",
              "      <th></th>\n",
              "      <th>Roll no</th>\n",
              "      <th>name</th>\n",
              "      <th>maths</th>\n",
              "      <th>physics</th>\n",
              "      <th>chemistry</th>\n",
              "      <th>year passing</th>\n",
              "    </tr>\n",
              "  </thead>\n",
              "  <tbody>\n",
              "    <tr>\n",
              "      <th>0</th>\n",
              "      <td>22001</td>\n",
              "      <td>pavan</td>\n",
              "      <td>95</td>\n",
              "      <td>60</td>\n",
              "      <td>50</td>\n",
              "      <td>2019</td>\n",
              "    </tr>\n",
              "    <tr>\n",
              "      <th>1</th>\n",
              "      <td>22002</td>\n",
              "      <td>anil</td>\n",
              "      <td>90</td>\n",
              "      <td>75</td>\n",
              "      <td>60</td>\n",
              "      <td>2018</td>\n",
              "    </tr>\n",
              "    <tr>\n",
              "      <th>2</th>\n",
              "      <td>22003</td>\n",
              "      <td>prashanth</td>\n",
              "      <td>89</td>\n",
              "      <td>85</td>\n",
              "      <td>75</td>\n",
              "      <td>2020</td>\n",
              "    </tr>\n",
              "    <tr>\n",
              "      <th>3</th>\n",
              "      <td>22004</td>\n",
              "      <td>deepak</td>\n",
              "      <td>85</td>\n",
              "      <td>69</td>\n",
              "      <td>54</td>\n",
              "      <td>2020</td>\n",
              "    </tr>\n",
              "    <tr>\n",
              "      <th>4</th>\n",
              "      <td>22005</td>\n",
              "      <td>vishnu</td>\n",
              "      <td>66</td>\n",
              "      <td>78</td>\n",
              "      <td>90</td>\n",
              "      <td>2019</td>\n",
              "    </tr>\n",
              "    <tr>\n",
              "      <th>5</th>\n",
              "      <td>22006</td>\n",
              "      <td>kalyan</td>\n",
              "      <td>90</td>\n",
              "      <td>60</td>\n",
              "      <td>40</td>\n",
              "      <td>2018</td>\n",
              "    </tr>\n",
              "    <tr>\n",
              "      <th>6</th>\n",
              "      <td>22007</td>\n",
              "      <td>abhay</td>\n",
              "      <td>70</td>\n",
              "      <td>75</td>\n",
              "      <td>50</td>\n",
              "      <td>2017</td>\n",
              "    </tr>\n",
              "    <tr>\n",
              "      <th>7</th>\n",
              "      <td>22008</td>\n",
              "      <td>arun</td>\n",
              "      <td>66</td>\n",
              "      <td>98</td>\n",
              "      <td>54</td>\n",
              "      <td>2015</td>\n",
              "    </tr>\n",
              "    <tr>\n",
              "      <th>8</th>\n",
              "      <td>22009</td>\n",
              "      <td>chaitanya</td>\n",
              "      <td>78</td>\n",
              "      <td>87</td>\n",
              "      <td>33</td>\n",
              "      <td>2017</td>\n",
              "    </tr>\n",
              "    <tr>\n",
              "      <th>9</th>\n",
              "      <td>220010</td>\n",
              "      <td>sandeep</td>\n",
              "      <td>80</td>\n",
              "      <td>45</td>\n",
              "      <td>60</td>\n",
              "      <td>2020</td>\n",
              "    </tr>\n",
              "  </tbody>\n",
              "</table>\n",
              "</div>"
            ],
            "text/plain": [
              "   Roll no       name  maths  physics  chemistry  year passing\n",
              "0    22001      pavan     95       60         50          2019\n",
              "1    22002       anil     90       75         60          2018\n",
              "2    22003  prashanth     89       85         75          2020\n",
              "3    22004     deepak     85       69         54          2020\n",
              "4    22005     vishnu     66       78         90          2019\n",
              "5    22006     kalyan     90       60         40          2018\n",
              "6    22007      abhay     70       75         50          2017\n",
              "7    22008       arun     66       98         54          2015\n",
              "8    22009  chaitanya     78       87         33          2017\n",
              "9   220010    sandeep     80       45         60          2020"
            ]
          },
          "execution_count": 6,
          "metadata": {},
          "output_type": "execute_result"
        }
      ],
      "source": [
        "dtfm"
      ]
    },
    {
      "cell_type": "markdown",
      "id": "cbc8fd5b",
      "metadata": {
        "id": "cbc8fd5b"
      },
      "source": [
        "# reading data using excel file"
      ]
    },
    {
      "cell_type": "code",
      "execution_count": null,
      "id": "917e58cc",
      "metadata": {
        "id": "917e58cc",
        "outputId": "f58f8906-62c0-4c6d-8f79-43e8bb0fe856"
      },
      "outputs": [
        {
          "name": "stdout",
          "output_type": "stream",
          "text": [
            "Requirement already satisfied: xlrd in c:\\users\\home\\miniconda3\\lib\\site-packages (2.0.1)\n",
            "Note: you may need to restart the kernel to use updated packages.\n"
          ]
        }
      ],
      "source": [
        "!pip install xlrd"
      ]
    },
    {
      "cell_type": "code",
      "execution_count": null,
      "id": "d3cf1cb2",
      "metadata": {
        "id": "d3cf1cb2",
        "outputId": "aa782c77-537c-4580-b29b-93282c0c17c7"
      },
      "outputs": [
        {
          "name": "stdout",
          "output_type": "stream",
          "text": [
            "Requirement already satisfied: openpyxl in c:\\users\\home\\miniconda3\\lib\\site-packages (3.0.9)\n",
            "Requirement already satisfied: et-xmlfile in c:\\users\\home\\miniconda3\\lib\\site-packages (from openpyxl) (1.1.0)\n",
            "Note: you may need to restart the kernel to use updated packages.\n"
          ]
        }
      ],
      "source": [
        "!pip install openpyxl"
      ]
    },
    {
      "cell_type": "code",
      "execution_count": null,
      "id": "0a2ceba1",
      "metadata": {
        "id": "0a2ceba1"
      },
      "outputs": [],
      "source": [
        "dtfm2=pd.read_excel('E:\\\\my youtube channel\\\\master python\\\\first page\\\\students.xlsx')"
      ]
    },
    {
      "cell_type": "code",
      "execution_count": null,
      "id": "eee13123",
      "metadata": {
        "id": "eee13123",
        "outputId": "6b54489d-f5d1-4222-ed5c-f01b3e575e6d"
      },
      "outputs": [
        {
          "data": {
            "text/html": [
              "<div>\n",
              "<style scoped>\n",
              "    .dataframe tbody tr th:only-of-type {\n",
              "        vertical-align: middle;\n",
              "    }\n",
              "\n",
              "    .dataframe tbody tr th {\n",
              "        vertical-align: top;\n",
              "    }\n",
              "\n",
              "    .dataframe thead th {\n",
              "        text-align: right;\n",
              "    }\n",
              "</style>\n",
              "<table border=\"1\" class=\"dataframe\">\n",
              "  <thead>\n",
              "    <tr style=\"text-align: right;\">\n",
              "      <th></th>\n",
              "      <th>Roll no</th>\n",
              "      <th>name</th>\n",
              "      <th>maths</th>\n",
              "      <th>physics</th>\n",
              "      <th>chemistry</th>\n",
              "      <th>year passing</th>\n",
              "    </tr>\n",
              "  </thead>\n",
              "  <tbody>\n",
              "    <tr>\n",
              "      <th>0</th>\n",
              "      <td>22001</td>\n",
              "      <td>pavan</td>\n",
              "      <td>95</td>\n",
              "      <td>60</td>\n",
              "      <td>50</td>\n",
              "      <td>2019</td>\n",
              "    </tr>\n",
              "    <tr>\n",
              "      <th>1</th>\n",
              "      <td>22002</td>\n",
              "      <td>anil</td>\n",
              "      <td>90</td>\n",
              "      <td>75</td>\n",
              "      <td>60</td>\n",
              "      <td>2018</td>\n",
              "    </tr>\n",
              "    <tr>\n",
              "      <th>2</th>\n",
              "      <td>22003</td>\n",
              "      <td>prashanth</td>\n",
              "      <td>89</td>\n",
              "      <td>85</td>\n",
              "      <td>75</td>\n",
              "      <td>2020</td>\n",
              "    </tr>\n",
              "    <tr>\n",
              "      <th>3</th>\n",
              "      <td>22004</td>\n",
              "      <td>deepak</td>\n",
              "      <td>85</td>\n",
              "      <td>69</td>\n",
              "      <td>54</td>\n",
              "      <td>2020</td>\n",
              "    </tr>\n",
              "    <tr>\n",
              "      <th>4</th>\n",
              "      <td>22005</td>\n",
              "      <td>vishnu</td>\n",
              "      <td>66</td>\n",
              "      <td>78</td>\n",
              "      <td>90</td>\n",
              "      <td>2019</td>\n",
              "    </tr>\n",
              "    <tr>\n",
              "      <th>5</th>\n",
              "      <td>22006</td>\n",
              "      <td>kalyan</td>\n",
              "      <td>90</td>\n",
              "      <td>60</td>\n",
              "      <td>40</td>\n",
              "      <td>2018</td>\n",
              "    </tr>\n",
              "    <tr>\n",
              "      <th>6</th>\n",
              "      <td>22007</td>\n",
              "      <td>abhay</td>\n",
              "      <td>70</td>\n",
              "      <td>75</td>\n",
              "      <td>50</td>\n",
              "      <td>2017</td>\n",
              "    </tr>\n",
              "    <tr>\n",
              "      <th>7</th>\n",
              "      <td>22008</td>\n",
              "      <td>arun</td>\n",
              "      <td>66</td>\n",
              "      <td>98</td>\n",
              "      <td>54</td>\n",
              "      <td>2015</td>\n",
              "    </tr>\n",
              "    <tr>\n",
              "      <th>8</th>\n",
              "      <td>22009</td>\n",
              "      <td>chaitanya</td>\n",
              "      <td>78</td>\n",
              "      <td>87</td>\n",
              "      <td>33</td>\n",
              "      <td>2017</td>\n",
              "    </tr>\n",
              "    <tr>\n",
              "      <th>9</th>\n",
              "      <td>220010</td>\n",
              "      <td>sandeep</td>\n",
              "      <td>80</td>\n",
              "      <td>45</td>\n",
              "      <td>60</td>\n",
              "      <td>2020</td>\n",
              "    </tr>\n",
              "  </tbody>\n",
              "</table>\n",
              "</div>"
            ],
            "text/plain": [
              "   Roll no       name  maths  physics  chemistry  year passing\n",
              "0    22001      pavan     95       60         50          2019\n",
              "1    22002       anil     90       75         60          2018\n",
              "2    22003  prashanth     89       85         75          2020\n",
              "3    22004     deepak     85       69         54          2020\n",
              "4    22005     vishnu     66       78         90          2019\n",
              "5    22006     kalyan     90       60         40          2018\n",
              "6    22007      abhay     70       75         50          2017\n",
              "7    22008       arun     66       98         54          2015\n",
              "8    22009  chaitanya     78       87         33          2017\n",
              "9   220010    sandeep     80       45         60          2020"
            ]
          },
          "execution_count": 10,
          "metadata": {},
          "output_type": "execute_result"
        }
      ],
      "source": [
        "dtfm2"
      ]
    },
    {
      "cell_type": "markdown",
      "id": "063d110f",
      "metadata": {
        "id": "063d110f"
      },
      "source": [
        "# creating data frame using python dictionary"
      ]
    },
    {
      "cell_type": "code",
      "execution_count": null,
      "id": "d54ae581",
      "metadata": {
        "id": "d54ae581"
      },
      "outputs": [],
      "source": [
        "studentdict={'Roll no':[22001,22002,22003,22004,22005,22006,22007,22008,22009,220010],\n",
        "             'name':['pavan','anil','prashanth','deepak','vishnu','kalyan','abhay','arun','chaitanya','sandeep'],\n",
        "             'maths':[95,90,89,85,66,90,70,66,78,80],\n",
        "             'physics':[60,75,85,69,78,60,75,98,87,45],\n",
        "             'chemistry':[50,60,75,54,90,40,50,54,33,60],\n",
        "             'year passing':[2019,2018,2020,2020,2019,2018,2017,2015,2017,2020]}"
      ]
    },
    {
      "cell_type": "code",
      "execution_count": null,
      "id": "d2bee6d8",
      "metadata": {
        "id": "d2bee6d8"
      },
      "outputs": [],
      "source": [
        "dtfm4=pd.DataFrame(studentdict)"
      ]
    },
    {
      "cell_type": "code",
      "execution_count": null,
      "id": "65429e79",
      "metadata": {
        "id": "65429e79",
        "outputId": "f9d2da7a-4b32-49c1-debe-acfd8b7e7087"
      },
      "outputs": [
        {
          "data": {
            "text/html": [
              "<div>\n",
              "<style scoped>\n",
              "    .dataframe tbody tr th:only-of-type {\n",
              "        vertical-align: middle;\n",
              "    }\n",
              "\n",
              "    .dataframe tbody tr th {\n",
              "        vertical-align: top;\n",
              "    }\n",
              "\n",
              "    .dataframe thead th {\n",
              "        text-align: right;\n",
              "    }\n",
              "</style>\n",
              "<table border=\"1\" class=\"dataframe\">\n",
              "  <thead>\n",
              "    <tr style=\"text-align: right;\">\n",
              "      <th></th>\n",
              "      <th>Roll no</th>\n",
              "      <th>name</th>\n",
              "      <th>maths</th>\n",
              "      <th>physics</th>\n",
              "      <th>chemistry</th>\n",
              "      <th>year passing</th>\n",
              "    </tr>\n",
              "  </thead>\n",
              "  <tbody>\n",
              "    <tr>\n",
              "      <th>0</th>\n",
              "      <td>22001</td>\n",
              "      <td>pavan</td>\n",
              "      <td>95</td>\n",
              "      <td>60</td>\n",
              "      <td>50</td>\n",
              "      <td>2019</td>\n",
              "    </tr>\n",
              "    <tr>\n",
              "      <th>1</th>\n",
              "      <td>22002</td>\n",
              "      <td>anil</td>\n",
              "      <td>90</td>\n",
              "      <td>75</td>\n",
              "      <td>60</td>\n",
              "      <td>2018</td>\n",
              "    </tr>\n",
              "    <tr>\n",
              "      <th>2</th>\n",
              "      <td>22003</td>\n",
              "      <td>prashanth</td>\n",
              "      <td>89</td>\n",
              "      <td>85</td>\n",
              "      <td>75</td>\n",
              "      <td>2020</td>\n",
              "    </tr>\n",
              "    <tr>\n",
              "      <th>3</th>\n",
              "      <td>22004</td>\n",
              "      <td>deepak</td>\n",
              "      <td>85</td>\n",
              "      <td>69</td>\n",
              "      <td>54</td>\n",
              "      <td>2020</td>\n",
              "    </tr>\n",
              "    <tr>\n",
              "      <th>4</th>\n",
              "      <td>22005</td>\n",
              "      <td>vishnu</td>\n",
              "      <td>66</td>\n",
              "      <td>78</td>\n",
              "      <td>90</td>\n",
              "      <td>2019</td>\n",
              "    </tr>\n",
              "    <tr>\n",
              "      <th>5</th>\n",
              "      <td>22006</td>\n",
              "      <td>kalyan</td>\n",
              "      <td>90</td>\n",
              "      <td>60</td>\n",
              "      <td>40</td>\n",
              "      <td>2018</td>\n",
              "    </tr>\n",
              "    <tr>\n",
              "      <th>6</th>\n",
              "      <td>22007</td>\n",
              "      <td>abhay</td>\n",
              "      <td>70</td>\n",
              "      <td>75</td>\n",
              "      <td>50</td>\n",
              "      <td>2017</td>\n",
              "    </tr>\n",
              "    <tr>\n",
              "      <th>7</th>\n",
              "      <td>22008</td>\n",
              "      <td>arun</td>\n",
              "      <td>66</td>\n",
              "      <td>98</td>\n",
              "      <td>54</td>\n",
              "      <td>2015</td>\n",
              "    </tr>\n",
              "    <tr>\n",
              "      <th>8</th>\n",
              "      <td>22009</td>\n",
              "      <td>chaitanya</td>\n",
              "      <td>78</td>\n",
              "      <td>87</td>\n",
              "      <td>33</td>\n",
              "      <td>2017</td>\n",
              "    </tr>\n",
              "    <tr>\n",
              "      <th>9</th>\n",
              "      <td>220010</td>\n",
              "      <td>sandeep</td>\n",
              "      <td>80</td>\n",
              "      <td>45</td>\n",
              "      <td>60</td>\n",
              "      <td>2020</td>\n",
              "    </tr>\n",
              "  </tbody>\n",
              "</table>\n",
              "</div>"
            ],
            "text/plain": [
              "   Roll no       name  maths  physics  chemistry  year passing\n",
              "0    22001      pavan     95       60         50          2019\n",
              "1    22002       anil     90       75         60          2018\n",
              "2    22003  prashanth     89       85         75          2020\n",
              "3    22004     deepak     85       69         54          2020\n",
              "4    22005     vishnu     66       78         90          2019\n",
              "5    22006     kalyan     90       60         40          2018\n",
              "6    22007      abhay     70       75         50          2017\n",
              "7    22008       arun     66       98         54          2015\n",
              "8    22009  chaitanya     78       87         33          2017\n",
              "9   220010    sandeep     80       45         60          2020"
            ]
          },
          "execution_count": 13,
          "metadata": {},
          "output_type": "execute_result"
        }
      ],
      "source": [
        "dtfm4"
      ]
    },
    {
      "cell_type": "markdown",
      "id": "35ef0b72",
      "metadata": {
        "id": "35ef0b72"
      },
      "source": [
        "# creating dataframe from python list of tuples"
      ]
    },
    {
      "cell_type": "code",
      "execution_count": null,
      "id": "cff62858",
      "metadata": {
        "id": "cff62858"
      },
      "outputs": [],
      "source": [
        "stdata_as_list_tuples=[(22001,'pavan',95,60,50,2019),\n",
        "                       (22002,'anil',90,75,60,2018),\n",
        "                      (22003,'prashanth',89,85,75,2020),\n",
        "                      (22004,'deepak',85,69,54,2020),\n",
        "                      (22005,'vishnu',66,78,90,2019),\n",
        "                      (22006,'kalyan',90,60,40,2018),\n",
        "                      (22007,'abhay',70,75,50,2017),\n",
        "                      (22008,'arun',66,98,54,2015),\n",
        "                      (22009,'chaitanya',78,87,33,2017),\n",
        "                      (220010,'sandeep',80,45,60,2020)]"
      ]
    },
    {
      "cell_type": "code",
      "execution_count": null,
      "id": "857d27ea",
      "metadata": {
        "id": "857d27ea",
        "outputId": "49a42d80-b335-4476-e822-047486c0893f"
      },
      "outputs": [
        {
          "data": {
            "text/plain": [
              "[(22001, 'pavan', 95, 60, 50, 2019),\n",
              " (22002, 'anil', 90, 75, 60, 2018),\n",
              " (22003, 'prashanth', 89, 85, 75, 2020),\n",
              " (22004, 'deepak', 85, 69, 54, 2020),\n",
              " (22005, 'vishnu', 66, 78, 90, 2019),\n",
              " (22006, 'kalyan', 90, 60, 40, 2018),\n",
              " (22007, 'abhay', 70, 75, 50, 2017),\n",
              " (22008, 'arun', 66, 98, 54, 2015),\n",
              " (22009, 'chaitanya', 78, 87, 33, 2017),\n",
              " (220010, 'sandeep', 80, 45, 60, 2020)]"
            ]
          },
          "execution_count": 15,
          "metadata": {},
          "output_type": "execute_result"
        }
      ],
      "source": [
        "stdata_as_list_tuples"
      ]
    },
    {
      "cell_type": "code",
      "execution_count": null,
      "id": "245499e5",
      "metadata": {
        "id": "245499e5"
      },
      "outputs": [],
      "source": [
        "dfm5=pd.DataFrame(stdata_as_list_tuples,columns=['Roll no','name','maths','physics','chemistry','year of passing'])"
      ]
    },
    {
      "cell_type": "code",
      "execution_count": null,
      "id": "4399db1a",
      "metadata": {
        "id": "4399db1a",
        "outputId": "6df59d98-8d03-4b41-bda7-ada81db5400f"
      },
      "outputs": [
        {
          "data": {
            "text/html": [
              "<div>\n",
              "<style scoped>\n",
              "    .dataframe tbody tr th:only-of-type {\n",
              "        vertical-align: middle;\n",
              "    }\n",
              "\n",
              "    .dataframe tbody tr th {\n",
              "        vertical-align: top;\n",
              "    }\n",
              "\n",
              "    .dataframe thead th {\n",
              "        text-align: right;\n",
              "    }\n",
              "</style>\n",
              "<table border=\"1\" class=\"dataframe\">\n",
              "  <thead>\n",
              "    <tr style=\"text-align: right;\">\n",
              "      <th></th>\n",
              "      <th>Roll no</th>\n",
              "      <th>name</th>\n",
              "      <th>maths</th>\n",
              "      <th>physics</th>\n",
              "      <th>chemistry</th>\n",
              "      <th>year of passing</th>\n",
              "    </tr>\n",
              "  </thead>\n",
              "  <tbody>\n",
              "    <tr>\n",
              "      <th>0</th>\n",
              "      <td>22001</td>\n",
              "      <td>pavan</td>\n",
              "      <td>95</td>\n",
              "      <td>60</td>\n",
              "      <td>50</td>\n",
              "      <td>2019</td>\n",
              "    </tr>\n",
              "    <tr>\n",
              "      <th>1</th>\n",
              "      <td>22002</td>\n",
              "      <td>anil</td>\n",
              "      <td>90</td>\n",
              "      <td>75</td>\n",
              "      <td>60</td>\n",
              "      <td>2018</td>\n",
              "    </tr>\n",
              "    <tr>\n",
              "      <th>2</th>\n",
              "      <td>22003</td>\n",
              "      <td>prashanth</td>\n",
              "      <td>89</td>\n",
              "      <td>85</td>\n",
              "      <td>75</td>\n",
              "      <td>2020</td>\n",
              "    </tr>\n",
              "    <tr>\n",
              "      <th>3</th>\n",
              "      <td>22004</td>\n",
              "      <td>deepak</td>\n",
              "      <td>85</td>\n",
              "      <td>69</td>\n",
              "      <td>54</td>\n",
              "      <td>2020</td>\n",
              "    </tr>\n",
              "    <tr>\n",
              "      <th>4</th>\n",
              "      <td>22005</td>\n",
              "      <td>vishnu</td>\n",
              "      <td>66</td>\n",
              "      <td>78</td>\n",
              "      <td>90</td>\n",
              "      <td>2019</td>\n",
              "    </tr>\n",
              "    <tr>\n",
              "      <th>5</th>\n",
              "      <td>22006</td>\n",
              "      <td>kalyan</td>\n",
              "      <td>90</td>\n",
              "      <td>60</td>\n",
              "      <td>40</td>\n",
              "      <td>2018</td>\n",
              "    </tr>\n",
              "    <tr>\n",
              "      <th>6</th>\n",
              "      <td>22007</td>\n",
              "      <td>abhay</td>\n",
              "      <td>70</td>\n",
              "      <td>75</td>\n",
              "      <td>50</td>\n",
              "      <td>2017</td>\n",
              "    </tr>\n",
              "    <tr>\n",
              "      <th>7</th>\n",
              "      <td>22008</td>\n",
              "      <td>arun</td>\n",
              "      <td>66</td>\n",
              "      <td>98</td>\n",
              "      <td>54</td>\n",
              "      <td>2015</td>\n",
              "    </tr>\n",
              "    <tr>\n",
              "      <th>8</th>\n",
              "      <td>22009</td>\n",
              "      <td>chaitanya</td>\n",
              "      <td>78</td>\n",
              "      <td>87</td>\n",
              "      <td>33</td>\n",
              "      <td>2017</td>\n",
              "    </tr>\n",
              "    <tr>\n",
              "      <th>9</th>\n",
              "      <td>220010</td>\n",
              "      <td>sandeep</td>\n",
              "      <td>80</td>\n",
              "      <td>45</td>\n",
              "      <td>60</td>\n",
              "      <td>2020</td>\n",
              "    </tr>\n",
              "  </tbody>\n",
              "</table>\n",
              "</div>"
            ],
            "text/plain": [
              "   Roll no       name  maths  physics  chemistry  year of passing\n",
              "0    22001      pavan     95       60         50             2019\n",
              "1    22002       anil     90       75         60             2018\n",
              "2    22003  prashanth     89       85         75             2020\n",
              "3    22004     deepak     85       69         54             2020\n",
              "4    22005     vishnu     66       78         90             2019\n",
              "5    22006     kalyan     90       60         40             2018\n",
              "6    22007      abhay     70       75         50             2017\n",
              "7    22008       arun     66       98         54             2015\n",
              "8    22009  chaitanya     78       87         33             2017\n",
              "9   220010    sandeep     80       45         60             2020"
            ]
          },
          "execution_count": 17,
          "metadata": {},
          "output_type": "execute_result"
        }
      ],
      "source": [
        "dfm5"
      ]
    },
    {
      "cell_type": "markdown",
      "id": "89ad4831",
      "metadata": {
        "id": "89ad4831"
      },
      "source": [
        "# Operations on Data Frames"
      ]
    },
    {
      "cell_type": "markdown",
      "id": "83cc721d",
      "metadata": {
        "id": "83cc721d"
      },
      "source": [
        "* The operations help us in analyzing the data or manipulating the data\\\n",
        "first we will create a data frame from .csv file using read_csv() dunction."
      ]
    },
    {
      "cell_type": "code",
      "execution_count": null,
      "id": "19ec24fa",
      "metadata": {
        "id": "19ec24fa"
      },
      "outputs": [],
      "source": [
        "#creating a dataframe using read_csv() function\n",
        "dfm6=pd.read_csv('E:\\\\my youtube channel\\\\master python\\\\first page\\\\students.csv')"
      ]
    },
    {
      "cell_type": "code",
      "execution_count": null,
      "id": "e23b1a7e",
      "metadata": {
        "id": "e23b1a7e",
        "outputId": "71ab7f96-e1a3-4e9e-bd01-dd474ecc9231"
      },
      "outputs": [
        {
          "data": {
            "text/html": [
              "<div>\n",
              "<style scoped>\n",
              "    .dataframe tbody tr th:only-of-type {\n",
              "        vertical-align: middle;\n",
              "    }\n",
              "\n",
              "    .dataframe tbody tr th {\n",
              "        vertical-align: top;\n",
              "    }\n",
              "\n",
              "    .dataframe thead th {\n",
              "        text-align: right;\n",
              "    }\n",
              "</style>\n",
              "<table border=\"1\" class=\"dataframe\">\n",
              "  <thead>\n",
              "    <tr style=\"text-align: right;\">\n",
              "      <th></th>\n",
              "      <th>Roll no</th>\n",
              "      <th>name</th>\n",
              "      <th>maths</th>\n",
              "      <th>physics</th>\n",
              "      <th>chemistry</th>\n",
              "      <th>year passing</th>\n",
              "    </tr>\n",
              "  </thead>\n",
              "  <tbody>\n",
              "    <tr>\n",
              "      <th>0</th>\n",
              "      <td>22001</td>\n",
              "      <td>pavan</td>\n",
              "      <td>95</td>\n",
              "      <td>60</td>\n",
              "      <td>50</td>\n",
              "      <td>2019</td>\n",
              "    </tr>\n",
              "    <tr>\n",
              "      <th>1</th>\n",
              "      <td>22002</td>\n",
              "      <td>anil</td>\n",
              "      <td>90</td>\n",
              "      <td>75</td>\n",
              "      <td>60</td>\n",
              "      <td>2018</td>\n",
              "    </tr>\n",
              "    <tr>\n",
              "      <th>2</th>\n",
              "      <td>22003</td>\n",
              "      <td>prashanth</td>\n",
              "      <td>89</td>\n",
              "      <td>85</td>\n",
              "      <td>75</td>\n",
              "      <td>2020</td>\n",
              "    </tr>\n",
              "    <tr>\n",
              "      <th>3</th>\n",
              "      <td>22004</td>\n",
              "      <td>deepak</td>\n",
              "      <td>85</td>\n",
              "      <td>69</td>\n",
              "      <td>54</td>\n",
              "      <td>2020</td>\n",
              "    </tr>\n",
              "    <tr>\n",
              "      <th>4</th>\n",
              "      <td>22005</td>\n",
              "      <td>vishnu</td>\n",
              "      <td>66</td>\n",
              "      <td>78</td>\n",
              "      <td>90</td>\n",
              "      <td>2019</td>\n",
              "    </tr>\n",
              "    <tr>\n",
              "      <th>5</th>\n",
              "      <td>22006</td>\n",
              "      <td>kalyan</td>\n",
              "      <td>90</td>\n",
              "      <td>60</td>\n",
              "      <td>40</td>\n",
              "      <td>2018</td>\n",
              "    </tr>\n",
              "    <tr>\n",
              "      <th>6</th>\n",
              "      <td>22007</td>\n",
              "      <td>abhay</td>\n",
              "      <td>70</td>\n",
              "      <td>75</td>\n",
              "      <td>50</td>\n",
              "      <td>2017</td>\n",
              "    </tr>\n",
              "    <tr>\n",
              "      <th>7</th>\n",
              "      <td>22008</td>\n",
              "      <td>arun</td>\n",
              "      <td>66</td>\n",
              "      <td>98</td>\n",
              "      <td>54</td>\n",
              "      <td>2015</td>\n",
              "    </tr>\n",
              "    <tr>\n",
              "      <th>8</th>\n",
              "      <td>22009</td>\n",
              "      <td>chaitanya</td>\n",
              "      <td>78</td>\n",
              "      <td>87</td>\n",
              "      <td>33</td>\n",
              "      <td>2017</td>\n",
              "    </tr>\n",
              "    <tr>\n",
              "      <th>9</th>\n",
              "      <td>220010</td>\n",
              "      <td>sandeep</td>\n",
              "      <td>80</td>\n",
              "      <td>45</td>\n",
              "      <td>60</td>\n",
              "      <td>2020</td>\n",
              "    </tr>\n",
              "  </tbody>\n",
              "</table>\n",
              "</div>"
            ],
            "text/plain": [
              "   Roll no       name  maths  physics  chemistry  year passing\n",
              "0    22001      pavan     95       60         50          2019\n",
              "1    22002       anil     90       75         60          2018\n",
              "2    22003  prashanth     89       85         75          2020\n",
              "3    22004     deepak     85       69         54          2020\n",
              "4    22005     vishnu     66       78         90          2019\n",
              "5    22006     kalyan     90       60         40          2018\n",
              "6    22007      abhay     70       75         50          2017\n",
              "7    22008       arun     66       98         54          2015\n",
              "8    22009  chaitanya     78       87         33          2017\n",
              "9   220010    sandeep     80       45         60          2020"
            ]
          },
          "execution_count": 19,
          "metadata": {},
          "output_type": "execute_result"
        }
      ],
      "source": [
        "dfm6"
      ]
    },
    {
      "cell_type": "markdown",
      "id": "7f5d62be",
      "metadata": {
        "id": "7f5d62be"
      },
      "source": [
        "# Knowing Number of Rows and Columns"
      ]
    },
    {
      "cell_type": "markdown",
      "id": "4ad7147d",
      "metadata": {
        "id": "4ad7147d"
      },
      "source": [
        "we can use **shape** attribute to know the number of rows and columns. It returns a tuple that contains number of rows and columns"
      ]
    },
    {
      "cell_type": "code",
      "execution_count": null,
      "id": "d09e251b",
      "metadata": {
        "id": "d09e251b",
        "outputId": "c3f9b625-8365-497a-ffb6-27b6e553c41b"
      },
      "outputs": [
        {
          "data": {
            "text/plain": [
              "(10, 6)"
            ]
          },
          "execution_count": 20,
          "metadata": {},
          "output_type": "execute_result"
        }
      ],
      "source": [
        "dfm6.shape"
      ]
    },
    {
      "cell_type": "code",
      "execution_count": null,
      "id": "bc24454a",
      "metadata": {
        "id": "bc24454a",
        "outputId": "057d934e-ace3-4cc6-90e4-7f3279e71c2d"
      },
      "outputs": [
        {
          "name": "stdout",
          "output_type": "stream",
          "text": [
            "no of rows:  10\n",
            "no of column:  6\n"
          ]
        }
      ],
      "source": [
        "#if we want to read rows and columns separately\n",
        "\n",
        "rows,columns=dfm6.shape\n",
        "print(\"no of rows: \",rows)\n",
        "print('no of column: ',columns)"
      ]
    },
    {
      "cell_type": "markdown",
      "id": "10c99d74",
      "metadata": {
        "id": "10c99d74"
      },
      "source": [
        "# Retrieving Rows from Data Frame"
      ]
    },
    {
      "cell_type": "markdown",
      "id": "42456c70",
      "metadata": {
        "id": "42456c70"
      },
      "source": [
        "The method head() gives the first 5 rows and the method tail() returns the last 5 rows"
      ]
    },
    {
      "cell_type": "code",
      "execution_count": null,
      "id": "63ca0d8e",
      "metadata": {
        "id": "63ca0d8e",
        "outputId": "814ef58a-27b1-4f79-eed2-d28b5fae8ae6"
      },
      "outputs": [
        {
          "data": {
            "text/html": [
              "<div>\n",
              "<style scoped>\n",
              "    .dataframe tbody tr th:only-of-type {\n",
              "        vertical-align: middle;\n",
              "    }\n",
              "\n",
              "    .dataframe tbody tr th {\n",
              "        vertical-align: top;\n",
              "    }\n",
              "\n",
              "    .dataframe thead th {\n",
              "        text-align: right;\n",
              "    }\n",
              "</style>\n",
              "<table border=\"1\" class=\"dataframe\">\n",
              "  <thead>\n",
              "    <tr style=\"text-align: right;\">\n",
              "      <th></th>\n",
              "      <th>Roll no</th>\n",
              "      <th>name</th>\n",
              "      <th>maths</th>\n",
              "      <th>physics</th>\n",
              "      <th>chemistry</th>\n",
              "      <th>year passing</th>\n",
              "    </tr>\n",
              "  </thead>\n",
              "  <tbody>\n",
              "    <tr>\n",
              "      <th>0</th>\n",
              "      <td>22001</td>\n",
              "      <td>pavan</td>\n",
              "      <td>95</td>\n",
              "      <td>60</td>\n",
              "      <td>50</td>\n",
              "      <td>2019</td>\n",
              "    </tr>\n",
              "    <tr>\n",
              "      <th>1</th>\n",
              "      <td>22002</td>\n",
              "      <td>anil</td>\n",
              "      <td>90</td>\n",
              "      <td>75</td>\n",
              "      <td>60</td>\n",
              "      <td>2018</td>\n",
              "    </tr>\n",
              "    <tr>\n",
              "      <th>2</th>\n",
              "      <td>22003</td>\n",
              "      <td>prashanth</td>\n",
              "      <td>89</td>\n",
              "      <td>85</td>\n",
              "      <td>75</td>\n",
              "      <td>2020</td>\n",
              "    </tr>\n",
              "    <tr>\n",
              "      <th>3</th>\n",
              "      <td>22004</td>\n",
              "      <td>deepak</td>\n",
              "      <td>85</td>\n",
              "      <td>69</td>\n",
              "      <td>54</td>\n",
              "      <td>2020</td>\n",
              "    </tr>\n",
              "    <tr>\n",
              "      <th>4</th>\n",
              "      <td>22005</td>\n",
              "      <td>vishnu</td>\n",
              "      <td>66</td>\n",
              "      <td>78</td>\n",
              "      <td>90</td>\n",
              "      <td>2019</td>\n",
              "    </tr>\n",
              "  </tbody>\n",
              "</table>\n",
              "</div>"
            ],
            "text/plain": [
              "   Roll no       name  maths  physics  chemistry  year passing\n",
              "0    22001      pavan     95       60         50          2019\n",
              "1    22002       anil     90       75         60          2018\n",
              "2    22003  prashanth     89       85         75          2020\n",
              "3    22004     deepak     85       69         54          2020\n",
              "4    22005     vishnu     66       78         90          2019"
            ]
          },
          "execution_count": 22,
          "metadata": {},
          "output_type": "execute_result"
        }
      ],
      "source": [
        "dfm6.head()"
      ]
    },
    {
      "cell_type": "code",
      "execution_count": null,
      "id": "af74ee29",
      "metadata": {
        "id": "af74ee29",
        "outputId": "922c7cf6-8515-407f-ecbc-c8c3e8f47b75"
      },
      "outputs": [
        {
          "data": {
            "text/html": [
              "<div>\n",
              "<style scoped>\n",
              "    .dataframe tbody tr th:only-of-type {\n",
              "        vertical-align: middle;\n",
              "    }\n",
              "\n",
              "    .dataframe tbody tr th {\n",
              "        vertical-align: top;\n",
              "    }\n",
              "\n",
              "    .dataframe thead th {\n",
              "        text-align: right;\n",
              "    }\n",
              "</style>\n",
              "<table border=\"1\" class=\"dataframe\">\n",
              "  <thead>\n",
              "    <tr style=\"text-align: right;\">\n",
              "      <th></th>\n",
              "      <th>Roll no</th>\n",
              "      <th>name</th>\n",
              "      <th>maths</th>\n",
              "      <th>physics</th>\n",
              "      <th>chemistry</th>\n",
              "      <th>year passing</th>\n",
              "    </tr>\n",
              "  </thead>\n",
              "  <tbody>\n",
              "    <tr>\n",
              "      <th>5</th>\n",
              "      <td>22006</td>\n",
              "      <td>kalyan</td>\n",
              "      <td>90</td>\n",
              "      <td>60</td>\n",
              "      <td>40</td>\n",
              "      <td>2018</td>\n",
              "    </tr>\n",
              "    <tr>\n",
              "      <th>6</th>\n",
              "      <td>22007</td>\n",
              "      <td>abhay</td>\n",
              "      <td>70</td>\n",
              "      <td>75</td>\n",
              "      <td>50</td>\n",
              "      <td>2017</td>\n",
              "    </tr>\n",
              "    <tr>\n",
              "      <th>7</th>\n",
              "      <td>22008</td>\n",
              "      <td>arun</td>\n",
              "      <td>66</td>\n",
              "      <td>98</td>\n",
              "      <td>54</td>\n",
              "      <td>2015</td>\n",
              "    </tr>\n",
              "    <tr>\n",
              "      <th>8</th>\n",
              "      <td>22009</td>\n",
              "      <td>chaitanya</td>\n",
              "      <td>78</td>\n",
              "      <td>87</td>\n",
              "      <td>33</td>\n",
              "      <td>2017</td>\n",
              "    </tr>\n",
              "    <tr>\n",
              "      <th>9</th>\n",
              "      <td>220010</td>\n",
              "      <td>sandeep</td>\n",
              "      <td>80</td>\n",
              "      <td>45</td>\n",
              "      <td>60</td>\n",
              "      <td>2020</td>\n",
              "    </tr>\n",
              "  </tbody>\n",
              "</table>\n",
              "</div>"
            ],
            "text/plain": [
              "   Roll no       name  maths  physics  chemistry  year passing\n",
              "5    22006     kalyan     90       60         40          2018\n",
              "6    22007      abhay     70       75         50          2017\n",
              "7    22008       arun     66       98         54          2015\n",
              "8    22009  chaitanya     78       87         33          2017\n",
              "9   220010    sandeep     80       45         60          2020"
            ]
          },
          "execution_count": 23,
          "metadata": {},
          "output_type": "execute_result"
        }
      ],
      "source": [
        "dfm6.tail()"
      ]
    },
    {
      "cell_type": "markdown",
      "id": "ccfdd605",
      "metadata": {
        "id": "ccfdd605"
      },
      "source": [
        "To display on user defined rows, we can use head() method by passing integer value to it as:"
      ]
    },
    {
      "cell_type": "code",
      "execution_count": null,
      "id": "8c9b7e48",
      "metadata": {
        "id": "8c9b7e48",
        "outputId": "1efa78cf-07cb-40b4-c852-c00d994b43b2"
      },
      "outputs": [
        {
          "data": {
            "text/html": [
              "<div>\n",
              "<style scoped>\n",
              "    .dataframe tbody tr th:only-of-type {\n",
              "        vertical-align: middle;\n",
              "    }\n",
              "\n",
              "    .dataframe tbody tr th {\n",
              "        vertical-align: top;\n",
              "    }\n",
              "\n",
              "    .dataframe thead th {\n",
              "        text-align: right;\n",
              "    }\n",
              "</style>\n",
              "<table border=\"1\" class=\"dataframe\">\n",
              "  <thead>\n",
              "    <tr style=\"text-align: right;\">\n",
              "      <th></th>\n",
              "      <th>Roll no</th>\n",
              "      <th>name</th>\n",
              "      <th>maths</th>\n",
              "      <th>physics</th>\n",
              "      <th>chemistry</th>\n",
              "      <th>year passing</th>\n",
              "    </tr>\n",
              "  </thead>\n",
              "  <tbody>\n",
              "    <tr>\n",
              "      <th>0</th>\n",
              "      <td>22001</td>\n",
              "      <td>pavan</td>\n",
              "      <td>95</td>\n",
              "      <td>60</td>\n",
              "      <td>50</td>\n",
              "      <td>2019</td>\n",
              "    </tr>\n",
              "    <tr>\n",
              "      <th>1</th>\n",
              "      <td>22002</td>\n",
              "      <td>anil</td>\n",
              "      <td>90</td>\n",
              "      <td>75</td>\n",
              "      <td>60</td>\n",
              "      <td>2018</td>\n",
              "    </tr>\n",
              "  </tbody>\n",
              "</table>\n",
              "</div>"
            ],
            "text/plain": [
              "   Roll no   name  maths  physics  chemistry  year passing\n",
              "0    22001  pavan     95       60         50          2019\n",
              "1    22002   anil     90       75         60          2018"
            ]
          },
          "execution_count": 24,
          "metadata": {},
          "output_type": "execute_result"
        }
      ],
      "source": [
        "dfm6.head(2)"
      ]
    },
    {
      "cell_type": "code",
      "execution_count": null,
      "id": "7cd08c9e",
      "metadata": {
        "id": "7cd08c9e",
        "outputId": "90fdbd65-e8b5-4bb7-9474-e125043cfb4d"
      },
      "outputs": [
        {
          "data": {
            "text/html": [
              "<div>\n",
              "<style scoped>\n",
              "    .dataframe tbody tr th:only-of-type {\n",
              "        vertical-align: middle;\n",
              "    }\n",
              "\n",
              "    .dataframe tbody tr th {\n",
              "        vertical-align: top;\n",
              "    }\n",
              "\n",
              "    .dataframe thead th {\n",
              "        text-align: right;\n",
              "    }\n",
              "</style>\n",
              "<table border=\"1\" class=\"dataframe\">\n",
              "  <thead>\n",
              "    <tr style=\"text-align: right;\">\n",
              "      <th></th>\n",
              "      <th>Roll no</th>\n",
              "      <th>name</th>\n",
              "      <th>maths</th>\n",
              "      <th>physics</th>\n",
              "      <th>chemistry</th>\n",
              "      <th>year passing</th>\n",
              "    </tr>\n",
              "  </thead>\n",
              "  <tbody>\n",
              "    <tr>\n",
              "      <th>6</th>\n",
              "      <td>22007</td>\n",
              "      <td>abhay</td>\n",
              "      <td>70</td>\n",
              "      <td>75</td>\n",
              "      <td>50</td>\n",
              "      <td>2017</td>\n",
              "    </tr>\n",
              "    <tr>\n",
              "      <th>7</th>\n",
              "      <td>22008</td>\n",
              "      <td>arun</td>\n",
              "      <td>66</td>\n",
              "      <td>98</td>\n",
              "      <td>54</td>\n",
              "      <td>2015</td>\n",
              "    </tr>\n",
              "    <tr>\n",
              "      <th>8</th>\n",
              "      <td>22009</td>\n",
              "      <td>chaitanya</td>\n",
              "      <td>78</td>\n",
              "      <td>87</td>\n",
              "      <td>33</td>\n",
              "      <td>2017</td>\n",
              "    </tr>\n",
              "    <tr>\n",
              "      <th>9</th>\n",
              "      <td>220010</td>\n",
              "      <td>sandeep</td>\n",
              "      <td>80</td>\n",
              "      <td>45</td>\n",
              "      <td>60</td>\n",
              "      <td>2020</td>\n",
              "    </tr>\n",
              "  </tbody>\n",
              "</table>\n",
              "</div>"
            ],
            "text/plain": [
              "   Roll no       name  maths  physics  chemistry  year passing\n",
              "6    22007      abhay     70       75         50          2017\n",
              "7    22008       arun     66       98         54          2015\n",
              "8    22009  chaitanya     78       87         33          2017\n",
              "9   220010    sandeep     80       45         60          2020"
            ]
          },
          "execution_count": 25,
          "metadata": {},
          "output_type": "execute_result"
        }
      ],
      "source": [
        "dfm6.tail(4)"
      ]
    },
    {
      "cell_type": "markdown",
      "id": "22efda7e",
      "metadata": {
        "id": "22efda7e"
      },
      "source": [
        "# To retrieve the range of Rows using slicing operation"
      ]
    },
    {
      "cell_type": "markdown",
      "id": "3d54816a",
      "metadata": {
        "id": "3d54816a"
      },
      "source": [
        "If we write dfm6[2:5] we can get 2nd  row to 4th row (excludes 5th row)"
      ]
    },
    {
      "cell_type": "code",
      "execution_count": null,
      "id": "3d9fd1bb",
      "metadata": {
        "id": "3d9fd1bb",
        "outputId": "351605b5-9bf7-41f4-fd45-19e545500681"
      },
      "outputs": [
        {
          "data": {
            "text/html": [
              "<div>\n",
              "<style scoped>\n",
              "    .dataframe tbody tr th:only-of-type {\n",
              "        vertical-align: middle;\n",
              "    }\n",
              "\n",
              "    .dataframe tbody tr th {\n",
              "        vertical-align: top;\n",
              "    }\n",
              "\n",
              "    .dataframe thead th {\n",
              "        text-align: right;\n",
              "    }\n",
              "</style>\n",
              "<table border=\"1\" class=\"dataframe\">\n",
              "  <thead>\n",
              "    <tr style=\"text-align: right;\">\n",
              "      <th></th>\n",
              "      <th>Roll no</th>\n",
              "      <th>name</th>\n",
              "      <th>maths</th>\n",
              "      <th>physics</th>\n",
              "      <th>chemistry</th>\n",
              "      <th>year passing</th>\n",
              "    </tr>\n",
              "  </thead>\n",
              "  <tbody>\n",
              "    <tr>\n",
              "      <th>2</th>\n",
              "      <td>22003</td>\n",
              "      <td>prashanth</td>\n",
              "      <td>89</td>\n",
              "      <td>85</td>\n",
              "      <td>75</td>\n",
              "      <td>2020</td>\n",
              "    </tr>\n",
              "    <tr>\n",
              "      <th>3</th>\n",
              "      <td>22004</td>\n",
              "      <td>deepak</td>\n",
              "      <td>85</td>\n",
              "      <td>69</td>\n",
              "      <td>54</td>\n",
              "      <td>2020</td>\n",
              "    </tr>\n",
              "    <tr>\n",
              "      <th>4</th>\n",
              "      <td>22005</td>\n",
              "      <td>vishnu</td>\n",
              "      <td>66</td>\n",
              "      <td>78</td>\n",
              "      <td>90</td>\n",
              "      <td>2019</td>\n",
              "    </tr>\n",
              "  </tbody>\n",
              "</table>\n",
              "</div>"
            ],
            "text/plain": [
              "   Roll no       name  maths  physics  chemistry  year passing\n",
              "2    22003  prashanth     89       85         75          2020\n",
              "3    22004     deepak     85       69         54          2020\n",
              "4    22005     vishnu     66       78         90          2019"
            ]
          },
          "execution_count": 26,
          "metadata": {},
          "output_type": "execute_result"
        }
      ],
      "source": [
        "dfm6[2:5]"
      ]
    },
    {
      "cell_type": "code",
      "execution_count": null,
      "id": "139e8bc4",
      "metadata": {
        "id": "139e8bc4",
        "outputId": "543c90dc-1442-4300-8bde-0fabc21a5c62"
      },
      "outputs": [
        {
          "data": {
            "text/html": [
              "<div>\n",
              "<style scoped>\n",
              "    .dataframe tbody tr th:only-of-type {\n",
              "        vertical-align: middle;\n",
              "    }\n",
              "\n",
              "    .dataframe tbody tr th {\n",
              "        vertical-align: top;\n",
              "    }\n",
              "\n",
              "    .dataframe thead th {\n",
              "        text-align: right;\n",
              "    }\n",
              "</style>\n",
              "<table border=\"1\" class=\"dataframe\">\n",
              "  <thead>\n",
              "    <tr style=\"text-align: right;\">\n",
              "      <th></th>\n",
              "      <th>Roll no</th>\n",
              "      <th>name</th>\n",
              "      <th>maths</th>\n",
              "      <th>physics</th>\n",
              "      <th>chemistry</th>\n",
              "      <th>year passing</th>\n",
              "    </tr>\n",
              "  </thead>\n",
              "  <tbody>\n",
              "    <tr>\n",
              "      <th>0</th>\n",
              "      <td>22001</td>\n",
              "      <td>pavan</td>\n",
              "      <td>95</td>\n",
              "      <td>60</td>\n",
              "      <td>50</td>\n",
              "      <td>2019</td>\n",
              "    </tr>\n",
              "    <tr>\n",
              "      <th>1</th>\n",
              "      <td>22002</td>\n",
              "      <td>anil</td>\n",
              "      <td>90</td>\n",
              "      <td>75</td>\n",
              "      <td>60</td>\n",
              "      <td>2018</td>\n",
              "    </tr>\n",
              "    <tr>\n",
              "      <th>2</th>\n",
              "      <td>22003</td>\n",
              "      <td>prashanth</td>\n",
              "      <td>89</td>\n",
              "      <td>85</td>\n",
              "      <td>75</td>\n",
              "      <td>2020</td>\n",
              "    </tr>\n",
              "  </tbody>\n",
              "</table>\n",
              "</div>"
            ],
            "text/plain": [
              "   Roll no       name  maths  physics  chemistry  year passing\n",
              "0    22001      pavan     95       60         50          2019\n",
              "1    22002       anil     90       75         60          2018\n",
              "2    22003  prashanth     89       85         75          2020"
            ]
          },
          "execution_count": 27,
          "metadata": {},
          "output_type": "execute_result"
        }
      ],
      "source": [
        "dfm6[0:3]"
      ]
    },
    {
      "cell_type": "code",
      "execution_count": null,
      "id": "e635295f",
      "metadata": {
        "id": "e635295f",
        "outputId": "7fd62f82-5bd1-4a82-f79b-18ba6874733a"
      },
      "outputs": [
        {
          "data": {
            "text/html": [
              "<div>\n",
              "<style scoped>\n",
              "    .dataframe tbody tr th:only-of-type {\n",
              "        vertical-align: middle;\n",
              "    }\n",
              "\n",
              "    .dataframe tbody tr th {\n",
              "        vertical-align: top;\n",
              "    }\n",
              "\n",
              "    .dataframe thead th {\n",
              "        text-align: right;\n",
              "    }\n",
              "</style>\n",
              "<table border=\"1\" class=\"dataframe\">\n",
              "  <thead>\n",
              "    <tr style=\"text-align: right;\">\n",
              "      <th></th>\n",
              "      <th>Roll no</th>\n",
              "      <th>name</th>\n",
              "      <th>maths</th>\n",
              "      <th>physics</th>\n",
              "      <th>chemistry</th>\n",
              "      <th>year passing</th>\n",
              "    </tr>\n",
              "  </thead>\n",
              "  <tbody>\n",
              "    <tr>\n",
              "      <th>0</th>\n",
              "      <td>22001</td>\n",
              "      <td>pavan</td>\n",
              "      <td>95</td>\n",
              "      <td>60</td>\n",
              "      <td>50</td>\n",
              "      <td>2019</td>\n",
              "    </tr>\n",
              "    <tr>\n",
              "      <th>1</th>\n",
              "      <td>22002</td>\n",
              "      <td>anil</td>\n",
              "      <td>90</td>\n",
              "      <td>75</td>\n",
              "      <td>60</td>\n",
              "      <td>2018</td>\n",
              "    </tr>\n",
              "    <tr>\n",
              "      <th>2</th>\n",
              "      <td>22003</td>\n",
              "      <td>prashanth</td>\n",
              "      <td>89</td>\n",
              "      <td>85</td>\n",
              "      <td>75</td>\n",
              "      <td>2020</td>\n",
              "    </tr>\n",
              "  </tbody>\n",
              "</table>\n",
              "</div>"
            ],
            "text/plain": [
              "   Roll no       name  maths  physics  chemistry  year passing\n",
              "0    22001      pavan     95       60         50          2019\n",
              "1    22002       anil     90       75         60          2018\n",
              "2    22003  prashanth     89       85         75          2020"
            ]
          },
          "execution_count": 28,
          "metadata": {},
          "output_type": "execute_result"
        }
      ],
      "source": [
        "dfm6[:3]"
      ]
    },
    {
      "cell_type": "code",
      "execution_count": null,
      "id": "651f5818",
      "metadata": {
        "id": "651f5818",
        "outputId": "0baf353f-9115-4ab8-ab72-37ca8f41df00"
      },
      "outputs": [
        {
          "data": {
            "text/html": [
              "<div>\n",
              "<style scoped>\n",
              "    .dataframe tbody tr th:only-of-type {\n",
              "        vertical-align: middle;\n",
              "    }\n",
              "\n",
              "    .dataframe tbody tr th {\n",
              "        vertical-align: top;\n",
              "    }\n",
              "\n",
              "    .dataframe thead th {\n",
              "        text-align: right;\n",
              "    }\n",
              "</style>\n",
              "<table border=\"1\" class=\"dataframe\">\n",
              "  <thead>\n",
              "    <tr style=\"text-align: right;\">\n",
              "      <th></th>\n",
              "      <th>Roll no</th>\n",
              "      <th>name</th>\n",
              "      <th>maths</th>\n",
              "      <th>physics</th>\n",
              "      <th>chemistry</th>\n",
              "      <th>year passing</th>\n",
              "    </tr>\n",
              "  </thead>\n",
              "  <tbody>\n",
              "    <tr>\n",
              "      <th>4</th>\n",
              "      <td>22005</td>\n",
              "      <td>vishnu</td>\n",
              "      <td>66</td>\n",
              "      <td>78</td>\n",
              "      <td>90</td>\n",
              "      <td>2019</td>\n",
              "    </tr>\n",
              "    <tr>\n",
              "      <th>5</th>\n",
              "      <td>22006</td>\n",
              "      <td>kalyan</td>\n",
              "      <td>90</td>\n",
              "      <td>60</td>\n",
              "      <td>40</td>\n",
              "      <td>2018</td>\n",
              "    </tr>\n",
              "    <tr>\n",
              "      <th>6</th>\n",
              "      <td>22007</td>\n",
              "      <td>abhay</td>\n",
              "      <td>70</td>\n",
              "      <td>75</td>\n",
              "      <td>50</td>\n",
              "      <td>2017</td>\n",
              "    </tr>\n",
              "    <tr>\n",
              "      <th>7</th>\n",
              "      <td>22008</td>\n",
              "      <td>arun</td>\n",
              "      <td>66</td>\n",
              "      <td>98</td>\n",
              "      <td>54</td>\n",
              "      <td>2015</td>\n",
              "    </tr>\n",
              "    <tr>\n",
              "      <th>8</th>\n",
              "      <td>22009</td>\n",
              "      <td>chaitanya</td>\n",
              "      <td>78</td>\n",
              "      <td>87</td>\n",
              "      <td>33</td>\n",
              "      <td>2017</td>\n",
              "    </tr>\n",
              "    <tr>\n",
              "      <th>9</th>\n",
              "      <td>220010</td>\n",
              "      <td>sandeep</td>\n",
              "      <td>80</td>\n",
              "      <td>45</td>\n",
              "      <td>60</td>\n",
              "      <td>2020</td>\n",
              "    </tr>\n",
              "  </tbody>\n",
              "</table>\n",
              "</div>"
            ],
            "text/plain": [
              "   Roll no       name  maths  physics  chemistry  year passing\n",
              "4    22005     vishnu     66       78         90          2019\n",
              "5    22006     kalyan     90       60         40          2018\n",
              "6    22007      abhay     70       75         50          2017\n",
              "7    22008       arun     66       98         54          2015\n",
              "8    22009  chaitanya     78       87         33          2017\n",
              "9   220010    sandeep     80       45         60          2020"
            ]
          },
          "execution_count": 29,
          "metadata": {},
          "output_type": "execute_result"
        }
      ],
      "source": [
        "dfm6[4:]"
      ]
    },
    {
      "cell_type": "markdown",
      "id": "8330e2fd",
      "metadata": {
        "id": "8330e2fd"
      },
      "source": [
        "To retrieve the rows in reverse order we can use negative step size in slicing"
      ]
    },
    {
      "cell_type": "code",
      "execution_count": null,
      "id": "22482835",
      "metadata": {
        "id": "22482835",
        "outputId": "c91001d9-0b83-434b-8653-4a3179867ca2"
      },
      "outputs": [
        {
          "data": {
            "text/html": [
              "<div>\n",
              "<style scoped>\n",
              "    .dataframe tbody tr th:only-of-type {\n",
              "        vertical-align: middle;\n",
              "    }\n",
              "\n",
              "    .dataframe tbody tr th {\n",
              "        vertical-align: top;\n",
              "    }\n",
              "\n",
              "    .dataframe thead th {\n",
              "        text-align: right;\n",
              "    }\n",
              "</style>\n",
              "<table border=\"1\" class=\"dataframe\">\n",
              "  <thead>\n",
              "    <tr style=\"text-align: right;\">\n",
              "      <th></th>\n",
              "      <th>Roll no</th>\n",
              "      <th>name</th>\n",
              "      <th>maths</th>\n",
              "      <th>physics</th>\n",
              "      <th>chemistry</th>\n",
              "      <th>year passing</th>\n",
              "    </tr>\n",
              "  </thead>\n",
              "  <tbody>\n",
              "    <tr>\n",
              "      <th>9</th>\n",
              "      <td>220010</td>\n",
              "      <td>sandeep</td>\n",
              "      <td>80</td>\n",
              "      <td>45</td>\n",
              "      <td>60</td>\n",
              "      <td>2020</td>\n",
              "    </tr>\n",
              "    <tr>\n",
              "      <th>8</th>\n",
              "      <td>22009</td>\n",
              "      <td>chaitanya</td>\n",
              "      <td>78</td>\n",
              "      <td>87</td>\n",
              "      <td>33</td>\n",
              "      <td>2017</td>\n",
              "    </tr>\n",
              "    <tr>\n",
              "      <th>7</th>\n",
              "      <td>22008</td>\n",
              "      <td>arun</td>\n",
              "      <td>66</td>\n",
              "      <td>98</td>\n",
              "      <td>54</td>\n",
              "      <td>2015</td>\n",
              "    </tr>\n",
              "    <tr>\n",
              "      <th>6</th>\n",
              "      <td>22007</td>\n",
              "      <td>abhay</td>\n",
              "      <td>70</td>\n",
              "      <td>75</td>\n",
              "      <td>50</td>\n",
              "      <td>2017</td>\n",
              "    </tr>\n",
              "    <tr>\n",
              "      <th>5</th>\n",
              "      <td>22006</td>\n",
              "      <td>kalyan</td>\n",
              "      <td>90</td>\n",
              "      <td>60</td>\n",
              "      <td>40</td>\n",
              "      <td>2018</td>\n",
              "    </tr>\n",
              "    <tr>\n",
              "      <th>4</th>\n",
              "      <td>22005</td>\n",
              "      <td>vishnu</td>\n",
              "      <td>66</td>\n",
              "      <td>78</td>\n",
              "      <td>90</td>\n",
              "      <td>2019</td>\n",
              "    </tr>\n",
              "    <tr>\n",
              "      <th>3</th>\n",
              "      <td>22004</td>\n",
              "      <td>deepak</td>\n",
              "      <td>85</td>\n",
              "      <td>69</td>\n",
              "      <td>54</td>\n",
              "      <td>2020</td>\n",
              "    </tr>\n",
              "    <tr>\n",
              "      <th>2</th>\n",
              "      <td>22003</td>\n",
              "      <td>prashanth</td>\n",
              "      <td>89</td>\n",
              "      <td>85</td>\n",
              "      <td>75</td>\n",
              "      <td>2020</td>\n",
              "    </tr>\n",
              "    <tr>\n",
              "      <th>1</th>\n",
              "      <td>22002</td>\n",
              "      <td>anil</td>\n",
              "      <td>90</td>\n",
              "      <td>75</td>\n",
              "      <td>60</td>\n",
              "      <td>2018</td>\n",
              "    </tr>\n",
              "    <tr>\n",
              "      <th>0</th>\n",
              "      <td>22001</td>\n",
              "      <td>pavan</td>\n",
              "      <td>95</td>\n",
              "      <td>60</td>\n",
              "      <td>50</td>\n",
              "      <td>2019</td>\n",
              "    </tr>\n",
              "  </tbody>\n",
              "</table>\n",
              "</div>"
            ],
            "text/plain": [
              "   Roll no       name  maths  physics  chemistry  year passing\n",
              "9   220010    sandeep     80       45         60          2020\n",
              "8    22009  chaitanya     78       87         33          2017\n",
              "7    22008       arun     66       98         54          2015\n",
              "6    22007      abhay     70       75         50          2017\n",
              "5    22006     kalyan     90       60         40          2018\n",
              "4    22005     vishnu     66       78         90          2019\n",
              "3    22004     deepak     85       69         54          2020\n",
              "2    22003  prashanth     89       85         75          2020\n",
              "1    22002       anil     90       75         60          2018\n",
              "0    22001      pavan     95       60         50          2019"
            ]
          },
          "execution_count": 30,
          "metadata": {},
          "output_type": "execute_result"
        }
      ],
      "source": [
        "dfm6[::-1]"
      ]
    },
    {
      "cell_type": "code",
      "execution_count": null,
      "id": "5718b6fa",
      "metadata": {
        "id": "5718b6fa",
        "outputId": "ae718970-44e5-4c4d-c2e8-ad88ce6db2a5"
      },
      "outputs": [
        {
          "data": {
            "text/html": [
              "<div>\n",
              "<style scoped>\n",
              "    .dataframe tbody tr th:only-of-type {\n",
              "        vertical-align: middle;\n",
              "    }\n",
              "\n",
              "    .dataframe tbody tr th {\n",
              "        vertical-align: top;\n",
              "    }\n",
              "\n",
              "    .dataframe thead th {\n",
              "        text-align: right;\n",
              "    }\n",
              "</style>\n",
              "<table border=\"1\" class=\"dataframe\">\n",
              "  <thead>\n",
              "    <tr style=\"text-align: right;\">\n",
              "      <th></th>\n",
              "      <th>Roll no</th>\n",
              "      <th>name</th>\n",
              "      <th>maths</th>\n",
              "      <th>physics</th>\n",
              "      <th>chemistry</th>\n",
              "      <th>year passing</th>\n",
              "    </tr>\n",
              "  </thead>\n",
              "  <tbody>\n",
              "    <tr>\n",
              "      <th>5</th>\n",
              "      <td>22006</td>\n",
              "      <td>kalyan</td>\n",
              "      <td>90</td>\n",
              "      <td>60</td>\n",
              "      <td>40</td>\n",
              "      <td>2018</td>\n",
              "    </tr>\n",
              "    <tr>\n",
              "      <th>4</th>\n",
              "      <td>22005</td>\n",
              "      <td>vishnu</td>\n",
              "      <td>66</td>\n",
              "      <td>78</td>\n",
              "      <td>90</td>\n",
              "      <td>2019</td>\n",
              "    </tr>\n",
              "    <tr>\n",
              "      <th>3</th>\n",
              "      <td>22004</td>\n",
              "      <td>deepak</td>\n",
              "      <td>85</td>\n",
              "      <td>69</td>\n",
              "      <td>54</td>\n",
              "      <td>2020</td>\n",
              "    </tr>\n",
              "    <tr>\n",
              "      <th>2</th>\n",
              "      <td>22003</td>\n",
              "      <td>prashanth</td>\n",
              "      <td>89</td>\n",
              "      <td>85</td>\n",
              "      <td>75</td>\n",
              "      <td>2020</td>\n",
              "    </tr>\n",
              "  </tbody>\n",
              "</table>\n",
              "</div>"
            ],
            "text/plain": [
              "   Roll no       name  maths  physics  chemistry  year passing\n",
              "5    22006     kalyan     90       60         40          2018\n",
              "4    22005     vishnu     66       78         90          2019\n",
              "3    22004     deepak     85       69         54          2020\n",
              "2    22003  prashanth     89       85         75          2020"
            ]
          },
          "execution_count": 31,
          "metadata": {},
          "output_type": "execute_result"
        }
      ],
      "source": [
        "dfm6[5:1:-1]\n"
      ]
    },
    {
      "cell_type": "code",
      "execution_count": null,
      "id": "e0dd07af",
      "metadata": {
        "id": "e0dd07af",
        "outputId": "db00d573-a9f2-4d53-a5ce-ae5fde824b87"
      },
      "outputs": [
        {
          "data": {
            "text/html": [
              "<div>\n",
              "<style scoped>\n",
              "    .dataframe tbody tr th:only-of-type {\n",
              "        vertical-align: middle;\n",
              "    }\n",
              "\n",
              "    .dataframe tbody tr th {\n",
              "        vertical-align: top;\n",
              "    }\n",
              "\n",
              "    .dataframe thead th {\n",
              "        text-align: right;\n",
              "    }\n",
              "</style>\n",
              "<table border=\"1\" class=\"dataframe\">\n",
              "  <thead>\n",
              "    <tr style=\"text-align: right;\">\n",
              "      <th></th>\n",
              "      <th>Roll no</th>\n",
              "      <th>name</th>\n",
              "      <th>maths</th>\n",
              "      <th>physics</th>\n",
              "      <th>chemistry</th>\n",
              "      <th>year passing</th>\n",
              "    </tr>\n",
              "  </thead>\n",
              "  <tbody>\n",
              "  </tbody>\n",
              "</table>\n",
              "</div>"
            ],
            "text/plain": [
              "Empty DataFrame\n",
              "Columns: [Roll no, name, maths, physics, chemistry, year passing]\n",
              "Index: []"
            ]
          },
          "execution_count": 32,
          "metadata": {},
          "output_type": "execute_result"
        }
      ],
      "source": [
        "dfm6[2:6:-1]"
      ]
    },
    {
      "cell_type": "markdown",
      "id": "375187e0",
      "metadata": {
        "id": "375187e0"
      },
      "source": [
        "# To retrieve column Names"
      ]
    },
    {
      "cell_type": "markdown",
      "id": "59cfe9c9",
      "metadata": {
        "id": "59cfe9c9"
      },
      "source": [
        "we can retrive column names from the data frame, we can use **columns** attibute as:\n"
      ]
    },
    {
      "cell_type": "code",
      "execution_count": null,
      "id": "03224824",
      "metadata": {
        "id": "03224824",
        "outputId": "6d52215e-72a8-4a4e-d3ae-9680ebbeb462"
      },
      "outputs": [
        {
          "data": {
            "text/plain": [
              "Index(['Roll no', 'name', 'maths', 'physics', 'chemistry', 'year passing'], dtype='object')"
            ]
          },
          "execution_count": 33,
          "metadata": {},
          "output_type": "execute_result"
        }
      ],
      "source": [
        "dfm6.columns"
      ]
    },
    {
      "cell_type": "code",
      "execution_count": null,
      "id": "5730218a",
      "metadata": {
        "id": "5730218a",
        "outputId": "336105a1-00ad-42c3-b03a-aea8f403fae7"
      },
      "outputs": [
        {
          "ename": "AttributeError",
          "evalue": "'DataFrame' object has no attribute 'rows'",
          "output_type": "error",
          "traceback": [
            "\u001b[1;31m---------------------------------------------------------------------------\u001b[0m",
            "\u001b[1;31mAttributeError\u001b[0m                            Traceback (most recent call last)",
            "\u001b[1;32m~\\AppData\\Local\\Temp/ipykernel_11268/1943156443.py\u001b[0m in \u001b[0;36m<module>\u001b[1;34m\u001b[0m\n\u001b[1;32m----> 1\u001b[1;33m \u001b[0mdfm6\u001b[0m\u001b[1;33m.\u001b[0m\u001b[0mrows\u001b[0m\u001b[1;33m\u001b[0m\u001b[1;33m\u001b[0m\u001b[0m\n\u001b[0m",
            "\u001b[1;32m~\\miniconda3\\lib\\site-packages\\pandas\\core\\generic.py\u001b[0m in \u001b[0;36m__getattr__\u001b[1;34m(self, name)\u001b[0m\n\u001b[0;32m   5463\u001b[0m             \u001b[1;32mif\u001b[0m \u001b[0mself\u001b[0m\u001b[1;33m.\u001b[0m\u001b[0m_info_axis\u001b[0m\u001b[1;33m.\u001b[0m\u001b[0m_can_hold_identifiers_and_holds_name\u001b[0m\u001b[1;33m(\u001b[0m\u001b[0mname\u001b[0m\u001b[1;33m)\u001b[0m\u001b[1;33m:\u001b[0m\u001b[1;33m\u001b[0m\u001b[1;33m\u001b[0m\u001b[0m\n\u001b[0;32m   5464\u001b[0m                 \u001b[1;32mreturn\u001b[0m \u001b[0mself\u001b[0m\u001b[1;33m[\u001b[0m\u001b[0mname\u001b[0m\u001b[1;33m]\u001b[0m\u001b[1;33m\u001b[0m\u001b[1;33m\u001b[0m\u001b[0m\n\u001b[1;32m-> 5465\u001b[1;33m             \u001b[1;32mreturn\u001b[0m \u001b[0mobject\u001b[0m\u001b[1;33m.\u001b[0m\u001b[0m__getattribute__\u001b[0m\u001b[1;33m(\u001b[0m\u001b[0mself\u001b[0m\u001b[1;33m,\u001b[0m \u001b[0mname\u001b[0m\u001b[1;33m)\u001b[0m\u001b[1;33m\u001b[0m\u001b[1;33m\u001b[0m\u001b[0m\n\u001b[0m\u001b[0;32m   5466\u001b[0m \u001b[1;33m\u001b[0m\u001b[0m\n\u001b[0;32m   5467\u001b[0m     \u001b[1;32mdef\u001b[0m \u001b[0m__setattr__\u001b[0m\u001b[1;33m(\u001b[0m\u001b[0mself\u001b[0m\u001b[1;33m,\u001b[0m \u001b[0mname\u001b[0m\u001b[1;33m:\u001b[0m \u001b[0mstr\u001b[0m\u001b[1;33m,\u001b[0m \u001b[0mvalue\u001b[0m\u001b[1;33m)\u001b[0m \u001b[1;33m->\u001b[0m \u001b[1;32mNone\u001b[0m\u001b[1;33m:\u001b[0m\u001b[1;33m\u001b[0m\u001b[1;33m\u001b[0m\u001b[0m\n",
            "\u001b[1;31mAttributeError\u001b[0m: 'DataFrame' object has no attribute 'rows'"
          ]
        }
      ],
      "source": [
        "dfm6.rows"
      ]
    },
    {
      "cell_type": "code",
      "execution_count": null,
      "id": "dced8977",
      "metadata": {
        "id": "dced8977",
        "outputId": "c6462cd0-43bc-4015-d8d6-abe993b8785d"
      },
      "outputs": [
        {
          "data": {
            "text/html": [
              "<div>\n",
              "<style scoped>\n",
              "    .dataframe tbody tr th:only-of-type {\n",
              "        vertical-align: middle;\n",
              "    }\n",
              "\n",
              "    .dataframe tbody tr th {\n",
              "        vertical-align: top;\n",
              "    }\n",
              "\n",
              "    .dataframe thead th {\n",
              "        text-align: right;\n",
              "    }\n",
              "</style>\n",
              "<table border=\"1\" class=\"dataframe\">\n",
              "  <thead>\n",
              "    <tr style=\"text-align: right;\">\n",
              "      <th></th>\n",
              "      <th>Roll no</th>\n",
              "      <th>name</th>\n",
              "      <th>maths</th>\n",
              "      <th>physics</th>\n",
              "      <th>chemistry</th>\n",
              "      <th>year passing</th>\n",
              "    </tr>\n",
              "  </thead>\n",
              "  <tbody>\n",
              "    <tr>\n",
              "      <th>0</th>\n",
              "      <td>22001</td>\n",
              "      <td>pavan</td>\n",
              "      <td>95</td>\n",
              "      <td>60</td>\n",
              "      <td>50</td>\n",
              "      <td>2019</td>\n",
              "    </tr>\n",
              "    <tr>\n",
              "      <th>1</th>\n",
              "      <td>22002</td>\n",
              "      <td>anil</td>\n",
              "      <td>90</td>\n",
              "      <td>75</td>\n",
              "      <td>60</td>\n",
              "      <td>2018</td>\n",
              "    </tr>\n",
              "    <tr>\n",
              "      <th>2</th>\n",
              "      <td>22003</td>\n",
              "      <td>prashanth</td>\n",
              "      <td>89</td>\n",
              "      <td>85</td>\n",
              "      <td>75</td>\n",
              "      <td>2020</td>\n",
              "    </tr>\n",
              "    <tr>\n",
              "      <th>3</th>\n",
              "      <td>22004</td>\n",
              "      <td>deepak</td>\n",
              "      <td>85</td>\n",
              "      <td>69</td>\n",
              "      <td>54</td>\n",
              "      <td>2020</td>\n",
              "    </tr>\n",
              "    <tr>\n",
              "      <th>4</th>\n",
              "      <td>22005</td>\n",
              "      <td>vishnu</td>\n",
              "      <td>66</td>\n",
              "      <td>78</td>\n",
              "      <td>90</td>\n",
              "      <td>2019</td>\n",
              "    </tr>\n",
              "    <tr>\n",
              "      <th>5</th>\n",
              "      <td>22006</td>\n",
              "      <td>kalyan</td>\n",
              "      <td>90</td>\n",
              "      <td>60</td>\n",
              "      <td>40</td>\n",
              "      <td>2018</td>\n",
              "    </tr>\n",
              "    <tr>\n",
              "      <th>6</th>\n",
              "      <td>22007</td>\n",
              "      <td>abhay</td>\n",
              "      <td>70</td>\n",
              "      <td>75</td>\n",
              "      <td>50</td>\n",
              "      <td>2017</td>\n",
              "    </tr>\n",
              "    <tr>\n",
              "      <th>7</th>\n",
              "      <td>22008</td>\n",
              "      <td>arun</td>\n",
              "      <td>66</td>\n",
              "      <td>98</td>\n",
              "      <td>54</td>\n",
              "      <td>2015</td>\n",
              "    </tr>\n",
              "    <tr>\n",
              "      <th>8</th>\n",
              "      <td>22009</td>\n",
              "      <td>chaitanya</td>\n",
              "      <td>78</td>\n",
              "      <td>87</td>\n",
              "      <td>33</td>\n",
              "      <td>2017</td>\n",
              "    </tr>\n",
              "    <tr>\n",
              "      <th>9</th>\n",
              "      <td>220010</td>\n",
              "      <td>sandeep</td>\n",
              "      <td>80</td>\n",
              "      <td>45</td>\n",
              "      <td>60</td>\n",
              "      <td>2020</td>\n",
              "    </tr>\n",
              "  </tbody>\n",
              "</table>\n",
              "</div>"
            ],
            "text/plain": [
              "   Roll no       name  maths  physics  chemistry  year passing\n",
              "0    22001      pavan     95       60         50          2019\n",
              "1    22002       anil     90       75         60          2018\n",
              "2    22003  prashanth     89       85         75          2020\n",
              "3    22004     deepak     85       69         54          2020\n",
              "4    22005     vishnu     66       78         90          2019\n",
              "5    22006     kalyan     90       60         40          2018\n",
              "6    22007      abhay     70       75         50          2017\n",
              "7    22008       arun     66       98         54          2015\n",
              "8    22009  chaitanya     78       87         33          2017\n",
              "9   220010    sandeep     80       45         60          2020"
            ]
          },
          "execution_count": 35,
          "metadata": {},
          "output_type": "execute_result"
        }
      ],
      "source": [
        "dfm6"
      ]
    },
    {
      "cell_type": "markdown",
      "id": "ca0858a9",
      "metadata": {
        "id": "ca0858a9"
      },
      "source": [
        "# To Retrieve column Data"
      ]
    },
    {
      "cell_type": "markdown",
      "id": "9d8e3a07",
      "metadata": {
        "id": "9d8e3a07"
      },
      "source": [
        "to get the column data, we can mention the column name as subscript. we can retrieve in two ways\n",
        "1. dfm6.name\n",
        "2. dfm6['name']"
      ]
    },
    {
      "cell_type": "code",
      "execution_count": null,
      "id": "8665b9fd",
      "metadata": {
        "id": "8665b9fd",
        "outputId": "21ee2b20-ebd3-475f-acc0-34faa406bc2d"
      },
      "outputs": [
        {
          "data": {
            "text/plain": [
              "0        pavan\n",
              "1         anil\n",
              "2    prashanth\n",
              "3       deepak\n",
              "4       vishnu\n",
              "5       kalyan\n",
              "6        abhay\n",
              "7         arun\n",
              "8    chaitanya\n",
              "9      sandeep\n",
              "Name: name, dtype: object"
            ]
          },
          "execution_count": 37,
          "metadata": {},
          "output_type": "execute_result"
        }
      ],
      "source": [
        "dfm6.name"
      ]
    },
    {
      "cell_type": "code",
      "execution_count": null,
      "id": "5b88e4f7",
      "metadata": {
        "id": "5b88e4f7",
        "outputId": "a57b44e9-744d-4c9f-ec19-714a9221f2db"
      },
      "outputs": [
        {
          "data": {
            "text/plain": [
              "0        pavan\n",
              "1         anil\n",
              "2    prashanth\n",
              "3       deepak\n",
              "4       vishnu\n",
              "5       kalyan\n",
              "6        abhay\n",
              "7         arun\n",
              "8    chaitanya\n",
              "9      sandeep\n",
              "Name: name, dtype: object"
            ]
          },
          "execution_count": 38,
          "metadata": {},
          "output_type": "execute_result"
        }
      ],
      "source": [
        "dfm6['name']"
      ]
    },
    {
      "cell_type": "markdown",
      "id": "dd4311cf",
      "metadata": {
        "id": "dd4311cf"
      },
      "source": [
        "# retrieving the data from multiple columns"
      ]
    },
    {
      "cell_type": "markdown",
      "id": "57f9d81a",
      "metadata": {
        "id": "57f9d81a"
      },
      "source": [
        "To retrieve multiple columns data, we can provide the list of column names"
      ]
    },
    {
      "cell_type": "code",
      "execution_count": null,
      "id": "d792a5ab",
      "metadata": {
        "id": "d792a5ab",
        "outputId": "c93b5ce9-8ea0-491e-c1a2-83ae3bb4dce7"
      },
      "outputs": [
        {
          "data": {
            "text/html": [
              "<div>\n",
              "<style scoped>\n",
              "    .dataframe tbody tr th:only-of-type {\n",
              "        vertical-align: middle;\n",
              "    }\n",
              "\n",
              "    .dataframe tbody tr th {\n",
              "        vertical-align: top;\n",
              "    }\n",
              "\n",
              "    .dataframe thead th {\n",
              "        text-align: right;\n",
              "    }\n",
              "</style>\n",
              "<table border=\"1\" class=\"dataframe\">\n",
              "  <thead>\n",
              "    <tr style=\"text-align: right;\">\n",
              "      <th></th>\n",
              "      <th>Roll no</th>\n",
              "      <th>name</th>\n",
              "    </tr>\n",
              "  </thead>\n",
              "  <tbody>\n",
              "    <tr>\n",
              "      <th>0</th>\n",
              "      <td>22001</td>\n",
              "      <td>pavan</td>\n",
              "    </tr>\n",
              "    <tr>\n",
              "      <th>1</th>\n",
              "      <td>22002</td>\n",
              "      <td>anil</td>\n",
              "    </tr>\n",
              "    <tr>\n",
              "      <th>2</th>\n",
              "      <td>22003</td>\n",
              "      <td>prashanth</td>\n",
              "    </tr>\n",
              "    <tr>\n",
              "      <th>3</th>\n",
              "      <td>22004</td>\n",
              "      <td>deepak</td>\n",
              "    </tr>\n",
              "    <tr>\n",
              "      <th>4</th>\n",
              "      <td>22005</td>\n",
              "      <td>vishnu</td>\n",
              "    </tr>\n",
              "    <tr>\n",
              "      <th>5</th>\n",
              "      <td>22006</td>\n",
              "      <td>kalyan</td>\n",
              "    </tr>\n",
              "    <tr>\n",
              "      <th>6</th>\n",
              "      <td>22007</td>\n",
              "      <td>abhay</td>\n",
              "    </tr>\n",
              "    <tr>\n",
              "      <th>7</th>\n",
              "      <td>22008</td>\n",
              "      <td>arun</td>\n",
              "    </tr>\n",
              "    <tr>\n",
              "      <th>8</th>\n",
              "      <td>22009</td>\n",
              "      <td>chaitanya</td>\n",
              "    </tr>\n",
              "    <tr>\n",
              "      <th>9</th>\n",
              "      <td>220010</td>\n",
              "      <td>sandeep</td>\n",
              "    </tr>\n",
              "  </tbody>\n",
              "</table>\n",
              "</div>"
            ],
            "text/plain": [
              "   Roll no       name\n",
              "0    22001      pavan\n",
              "1    22002       anil\n",
              "2    22003  prashanth\n",
              "3    22004     deepak\n",
              "4    22005     vishnu\n",
              "5    22006     kalyan\n",
              "6    22007      abhay\n",
              "7    22008       arun\n",
              "8    22009  chaitanya\n",
              "9   220010    sandeep"
            ]
          },
          "execution_count": 39,
          "metadata": {},
          "output_type": "execute_result"
        }
      ],
      "source": [
        "dfm6[['Roll no','name']]"
      ]
    },
    {
      "cell_type": "markdown",
      "id": "bc31675f",
      "metadata": {
        "id": "bc31675f"
      },
      "source": [
        "# Finding maximum and minimum values"
      ]
    },
    {
      "cell_type": "markdown",
      "id": "eea514c8",
      "metadata": {
        "id": "eea514c8"
      },
      "source": [
        "1. max() method to find maximum values\n",
        "2. min() method to find minimum values\n",
        "\n",
        "these methods are applied to columns containing numerical data\n"
      ]
    },
    {
      "cell_type": "code",
      "execution_count": null,
      "id": "41b7a83c",
      "metadata": {
        "id": "41b7a83c",
        "outputId": "bf8ef22e-1efc-4ae0-9365-afc80789b8be"
      },
      "outputs": [
        {
          "data": {
            "text/plain": [
              "95"
            ]
          },
          "execution_count": 40,
          "metadata": {},
          "output_type": "execute_result"
        }
      ],
      "source": [
        "dfm6['maths'].max()"
      ]
    },
    {
      "cell_type": "code",
      "execution_count": null,
      "id": "418c7436",
      "metadata": {
        "id": "418c7436",
        "outputId": "6aa3aede-11fb-46e9-d566-96526e390f97"
      },
      "outputs": [
        {
          "data": {
            "text/plain": [
              "66"
            ]
          },
          "execution_count": 41,
          "metadata": {},
          "output_type": "execute_result"
        }
      ],
      "source": [
        "dfm6['maths'].min()"
      ]
    },
    {
      "cell_type": "code",
      "execution_count": null,
      "id": "56d4301d",
      "metadata": {
        "id": "56d4301d",
        "outputId": "e1819f1e-8895-49b3-a198-c00e726f8e15"
      },
      "outputs": [
        {
          "data": {
            "text/plain": [
              "90"
            ]
          },
          "execution_count": 42,
          "metadata": {},
          "output_type": "execute_result"
        }
      ],
      "source": [
        "dfm6['chemistry'].max()"
      ]
    },
    {
      "cell_type": "code",
      "execution_count": null,
      "id": "5d0881f1",
      "metadata": {
        "id": "5d0881f1",
        "outputId": "0615cdc1-c265-4cc3-d392-ce50a0bae829"
      },
      "outputs": [
        {
          "data": {
            "text/plain": [
              "45"
            ]
          },
          "execution_count": 43,
          "metadata": {},
          "output_type": "execute_result"
        }
      ],
      "source": [
        "dfm6['physics'].min()"
      ]
    },
    {
      "cell_type": "markdown",
      "id": "3cd1c9e2",
      "metadata": {
        "id": "3cd1c9e2"
      },
      "source": [
        "# To display statistical information"
      ]
    },
    {
      "cell_type": "markdown",
      "id": "72841885",
      "metadata": {
        "id": "72841885"
      },
      "source": [
        "we have **describe()** method that displays very important information like number of values, average, standard deviation, minimum, maximum, 25%, 50%, and 75% of the Total value. This information is highly useful for statistical analysis."
      ]
    },
    {
      "cell_type": "code",
      "execution_count": null,
      "id": "6a316433",
      "metadata": {
        "id": "6a316433",
        "outputId": "75b0b0d7-783a-4b0a-f5f4-b432310a9e0a"
      },
      "outputs": [
        {
          "data": {
            "text/html": [
              "<div>\n",
              "<style scoped>\n",
              "    .dataframe tbody tr th:only-of-type {\n",
              "        vertical-align: middle;\n",
              "    }\n",
              "\n",
              "    .dataframe tbody tr th {\n",
              "        vertical-align: top;\n",
              "    }\n",
              "\n",
              "    .dataframe thead th {\n",
              "        text-align: right;\n",
              "    }\n",
              "</style>\n",
              "<table border=\"1\" class=\"dataframe\">\n",
              "  <thead>\n",
              "    <tr style=\"text-align: right;\">\n",
              "      <th></th>\n",
              "      <th>Roll no</th>\n",
              "      <th>maths</th>\n",
              "      <th>physics</th>\n",
              "      <th>chemistry</th>\n",
              "      <th>year passing</th>\n",
              "    </tr>\n",
              "  </thead>\n",
              "  <tbody>\n",
              "    <tr>\n",
              "      <th>count</th>\n",
              "      <td>10.000000</td>\n",
              "      <td>10.000000</td>\n",
              "      <td>10.000000</td>\n",
              "      <td>10.000000</td>\n",
              "      <td>10.000000</td>\n",
              "    </tr>\n",
              "    <tr>\n",
              "      <th>mean</th>\n",
              "      <td>41805.500000</td>\n",
              "      <td>80.900000</td>\n",
              "      <td>73.200000</td>\n",
              "      <td>56.600000</td>\n",
              "      <td>2018.300000</td>\n",
              "    </tr>\n",
              "    <tr>\n",
              "      <th>std</th>\n",
              "      <td>62614.678863</td>\n",
              "      <td>10.640071</td>\n",
              "      <td>15.404184</td>\n",
              "      <td>16.365275</td>\n",
              "      <td>1.636392</td>\n",
              "    </tr>\n",
              "    <tr>\n",
              "      <th>min</th>\n",
              "      <td>22001.000000</td>\n",
              "      <td>66.000000</td>\n",
              "      <td>45.000000</td>\n",
              "      <td>33.000000</td>\n",
              "      <td>2015.000000</td>\n",
              "    </tr>\n",
              "    <tr>\n",
              "      <th>25%</th>\n",
              "      <td>22003.250000</td>\n",
              "      <td>72.000000</td>\n",
              "      <td>62.250000</td>\n",
              "      <td>50.000000</td>\n",
              "      <td>2017.250000</td>\n",
              "    </tr>\n",
              "    <tr>\n",
              "      <th>50%</th>\n",
              "      <td>22005.500000</td>\n",
              "      <td>82.500000</td>\n",
              "      <td>75.000000</td>\n",
              "      <td>54.000000</td>\n",
              "      <td>2018.500000</td>\n",
              "    </tr>\n",
              "    <tr>\n",
              "      <th>75%</th>\n",
              "      <td>22007.750000</td>\n",
              "      <td>89.750000</td>\n",
              "      <td>83.250000</td>\n",
              "      <td>60.000000</td>\n",
              "      <td>2019.750000</td>\n",
              "    </tr>\n",
              "    <tr>\n",
              "      <th>max</th>\n",
              "      <td>220010.000000</td>\n",
              "      <td>95.000000</td>\n",
              "      <td>98.000000</td>\n",
              "      <td>90.000000</td>\n",
              "      <td>2020.000000</td>\n",
              "    </tr>\n",
              "  </tbody>\n",
              "</table>\n",
              "</div>"
            ],
            "text/plain": [
              "             Roll no      maths    physics  chemistry  year passing\n",
              "count      10.000000  10.000000  10.000000  10.000000     10.000000\n",
              "mean    41805.500000  80.900000  73.200000  56.600000   2018.300000\n",
              "std     62614.678863  10.640071  15.404184  16.365275      1.636392\n",
              "min     22001.000000  66.000000  45.000000  33.000000   2015.000000\n",
              "25%     22003.250000  72.000000  62.250000  50.000000   2017.250000\n",
              "50%     22005.500000  82.500000  75.000000  54.000000   2018.500000\n",
              "75%     22007.750000  89.750000  83.250000  60.000000   2019.750000\n",
              "max    220010.000000  95.000000  98.000000  90.000000   2020.000000"
            ]
          },
          "execution_count": 44,
          "metadata": {},
          "output_type": "execute_result"
        }
      ],
      "source": [
        "dfm6.describe()"
      ]
    },
    {
      "cell_type": "markdown",
      "id": "605f92af",
      "metadata": {
        "id": "605f92af"
      },
      "source": [
        "# performing Queries on Data"
      ]
    },
    {
      "cell_type": "markdown",
      "id": "fab9b9ff",
      "metadata": {
        "id": "fab9b9ff"
      },
      "source": [
        "we can retrieve rows based on query."
      ]
    },
    {
      "cell_type": "code",
      "execution_count": null,
      "id": "1e1275c9",
      "metadata": {
        "id": "1e1275c9",
        "outputId": "0fadf7fd-b3ac-4b7e-819a-7a68086b30ef"
      },
      "outputs": [
        {
          "data": {
            "text/html": [
              "<div>\n",
              "<style scoped>\n",
              "    .dataframe tbody tr th:only-of-type {\n",
              "        vertical-align: middle;\n",
              "    }\n",
              "\n",
              "    .dataframe tbody tr th {\n",
              "        vertical-align: top;\n",
              "    }\n",
              "\n",
              "    .dataframe thead th {\n",
              "        text-align: right;\n",
              "    }\n",
              "</style>\n",
              "<table border=\"1\" class=\"dataframe\">\n",
              "  <thead>\n",
              "    <tr style=\"text-align: right;\">\n",
              "      <th></th>\n",
              "      <th>Roll no</th>\n",
              "      <th>name</th>\n",
              "      <th>maths</th>\n",
              "      <th>physics</th>\n",
              "      <th>chemistry</th>\n",
              "      <th>year passing</th>\n",
              "    </tr>\n",
              "  </thead>\n",
              "  <tbody>\n",
              "    <tr>\n",
              "      <th>0</th>\n",
              "      <td>22001</td>\n",
              "      <td>pavan</td>\n",
              "      <td>95</td>\n",
              "      <td>60</td>\n",
              "      <td>50</td>\n",
              "      <td>2019</td>\n",
              "    </tr>\n",
              "    <tr>\n",
              "      <th>1</th>\n",
              "      <td>22002</td>\n",
              "      <td>anil</td>\n",
              "      <td>90</td>\n",
              "      <td>75</td>\n",
              "      <td>60</td>\n",
              "      <td>2018</td>\n",
              "    </tr>\n",
              "    <tr>\n",
              "      <th>2</th>\n",
              "      <td>22003</td>\n",
              "      <td>prashanth</td>\n",
              "      <td>89</td>\n",
              "      <td>85</td>\n",
              "      <td>75</td>\n",
              "      <td>2020</td>\n",
              "    </tr>\n",
              "    <tr>\n",
              "      <th>3</th>\n",
              "      <td>22004</td>\n",
              "      <td>deepak</td>\n",
              "      <td>85</td>\n",
              "      <td>69</td>\n",
              "      <td>54</td>\n",
              "      <td>2020</td>\n",
              "    </tr>\n",
              "    <tr>\n",
              "      <th>5</th>\n",
              "      <td>22006</td>\n",
              "      <td>kalyan</td>\n",
              "      <td>90</td>\n",
              "      <td>60</td>\n",
              "      <td>40</td>\n",
              "      <td>2018</td>\n",
              "    </tr>\n",
              "  </tbody>\n",
              "</table>\n",
              "</div>"
            ],
            "text/plain": [
              "   Roll no       name  maths  physics  chemistry  year passing\n",
              "0    22001      pavan     95       60         50          2019\n",
              "1    22002       anil     90       75         60          2018\n",
              "2    22003  prashanth     89       85         75          2020\n",
              "3    22004     deepak     85       69         54          2020\n",
              "5    22006     kalyan     90       60         40          2018"
            ]
          },
          "execution_count": 45,
          "metadata": {},
          "output_type": "execute_result"
        }
      ],
      "source": [
        "dfm6[dfm6.maths>80]"
      ]
    },
    {
      "cell_type": "markdown",
      "id": "ccb4d8a9",
      "metadata": {
        "id": "ccb4d8a9"
      },
      "source": [
        "if we want to show data from some columns based on a query."
      ]
    },
    {
      "cell_type": "code",
      "execution_count": null,
      "id": "6f968a7b",
      "metadata": {
        "id": "6f968a7b",
        "outputId": "ad26786f-9321-4982-fd3a-d8cc99aed635"
      },
      "outputs": [
        {
          "data": {
            "text/html": [
              "<div>\n",
              "<style scoped>\n",
              "    .dataframe tbody tr th:only-of-type {\n",
              "        vertical-align: middle;\n",
              "    }\n",
              "\n",
              "    .dataframe tbody tr th {\n",
              "        vertical-align: top;\n",
              "    }\n",
              "\n",
              "    .dataframe thead th {\n",
              "        text-align: right;\n",
              "    }\n",
              "</style>\n",
              "<table border=\"1\" class=\"dataframe\">\n",
              "  <thead>\n",
              "    <tr style=\"text-align: right;\">\n",
              "      <th></th>\n",
              "      <th>Roll no</th>\n",
              "      <th>name</th>\n",
              "    </tr>\n",
              "  </thead>\n",
              "  <tbody>\n",
              "    <tr>\n",
              "      <th>0</th>\n",
              "      <td>22001</td>\n",
              "      <td>pavan</td>\n",
              "    </tr>\n",
              "    <tr>\n",
              "      <th>1</th>\n",
              "      <td>22002</td>\n",
              "      <td>anil</td>\n",
              "    </tr>\n",
              "    <tr>\n",
              "      <th>2</th>\n",
              "      <td>22003</td>\n",
              "      <td>prashanth</td>\n",
              "    </tr>\n",
              "    <tr>\n",
              "      <th>3</th>\n",
              "      <td>22004</td>\n",
              "      <td>deepak</td>\n",
              "    </tr>\n",
              "    <tr>\n",
              "      <th>5</th>\n",
              "      <td>22006</td>\n",
              "      <td>kalyan</td>\n",
              "    </tr>\n",
              "  </tbody>\n",
              "</table>\n",
              "</div>"
            ],
            "text/plain": [
              "   Roll no       name\n",
              "0    22001      pavan\n",
              "1    22002       anil\n",
              "2    22003  prashanth\n",
              "3    22004     deepak\n",
              "5    22006     kalyan"
            ]
          },
          "execution_count": 46,
          "metadata": {},
          "output_type": "execute_result"
        }
      ],
      "source": [
        "dfm6[['Roll no','name']][dfm6.maths>80]"
      ]
    },
    {
      "cell_type": "markdown",
      "id": "734fe5e7",
      "metadata": {
        "id": "734fe5e7"
      },
      "source": [
        "To retrieve the row where the physics marks are maximum"
      ]
    },
    {
      "cell_type": "code",
      "execution_count": null,
      "id": "ca4c4be0",
      "metadata": {
        "id": "ca4c4be0",
        "outputId": "c7e722df-0d71-4e7f-d477-3dc88b613954"
      },
      "outputs": [
        {
          "data": {
            "text/html": [
              "<div>\n",
              "<style scoped>\n",
              "    .dataframe tbody tr th:only-of-type {\n",
              "        vertical-align: middle;\n",
              "    }\n",
              "\n",
              "    .dataframe tbody tr th {\n",
              "        vertical-align: top;\n",
              "    }\n",
              "\n",
              "    .dataframe thead th {\n",
              "        text-align: right;\n",
              "    }\n",
              "</style>\n",
              "<table border=\"1\" class=\"dataframe\">\n",
              "  <thead>\n",
              "    <tr style=\"text-align: right;\">\n",
              "      <th></th>\n",
              "      <th>Roll no</th>\n",
              "      <th>name</th>\n",
              "      <th>maths</th>\n",
              "      <th>physics</th>\n",
              "      <th>chemistry</th>\n",
              "      <th>year passing</th>\n",
              "    </tr>\n",
              "  </thead>\n",
              "  <tbody>\n",
              "    <tr>\n",
              "      <th>7</th>\n",
              "      <td>22008</td>\n",
              "      <td>arun</td>\n",
              "      <td>66</td>\n",
              "      <td>98</td>\n",
              "      <td>54</td>\n",
              "      <td>2015</td>\n",
              "    </tr>\n",
              "  </tbody>\n",
              "</table>\n",
              "</div>"
            ],
            "text/plain": [
              "   Roll no  name  maths  physics  chemistry  year passing\n",
              "7    22008  arun     66       98         54          2015"
            ]
          },
          "execution_count": 47,
          "metadata": {},
          "output_type": "execute_result"
        }
      ],
      "source": [
        "dfm6[dfm6.physics == dfm6.physics.max() ]"
      ]
    },
    {
      "cell_type": "code",
      "execution_count": null,
      "id": "c196660b",
      "metadata": {
        "id": "c196660b",
        "outputId": "53a83be9-d3f0-4d0a-f9eb-17e540f3eb16"
      },
      "outputs": [
        {
          "data": {
            "text/plain": [
              "0    False\n",
              "1    False\n",
              "2    False\n",
              "3    False\n",
              "4    False\n",
              "5    False\n",
              "6    False\n",
              "7     True\n",
              "8    False\n",
              "9    False\n",
              "Name: physics, dtype: bool"
            ]
          },
          "execution_count": 48,
          "metadata": {},
          "output_type": "execute_result"
        }
      ],
      "source": [
        "dfm6['physics']==dfm6['physics'].max()"
      ]
    },
    {
      "cell_type": "markdown",
      "id": "1f0dd91b",
      "metadata": {
        "id": "1f0dd91b"
      },
      "source": [
        "# knowing Index Range"
      ]
    },
    {
      "cell_type": "markdown",
      "id": "7b1c29d0",
      "metadata": {
        "id": "7b1c29d0"
      },
      "source": [
        "the first column is called index column in data frame and it is generated automatically."
      ]
    },
    {
      "cell_type": "code",
      "execution_count": null,
      "id": "3d301f30",
      "metadata": {
        "scrolled": true,
        "id": "3d301f30",
        "outputId": "77058d7f-5fdb-4be0-b548-3ade364befc1"
      },
      "outputs": [
        {
          "data": {
            "text/html": [
              "<div>\n",
              "<style scoped>\n",
              "    .dataframe tbody tr th:only-of-type {\n",
              "        vertical-align: middle;\n",
              "    }\n",
              "\n",
              "    .dataframe tbody tr th {\n",
              "        vertical-align: top;\n",
              "    }\n",
              "\n",
              "    .dataframe thead th {\n",
              "        text-align: right;\n",
              "    }\n",
              "</style>\n",
              "<table border=\"1\" class=\"dataframe\">\n",
              "  <thead>\n",
              "    <tr style=\"text-align: right;\">\n",
              "      <th></th>\n",
              "      <th>name</th>\n",
              "      <th>maths</th>\n",
              "      <th>physics</th>\n",
              "      <th>chemistry</th>\n",
              "      <th>year passing</th>\n",
              "    </tr>\n",
              "    <tr>\n",
              "      <th>Roll no</th>\n",
              "      <th></th>\n",
              "      <th></th>\n",
              "      <th></th>\n",
              "      <th></th>\n",
              "      <th></th>\n",
              "    </tr>\n",
              "  </thead>\n",
              "  <tbody>\n",
              "    <tr>\n",
              "      <th>22001</th>\n",
              "      <td>pavan</td>\n",
              "      <td>95</td>\n",
              "      <td>60</td>\n",
              "      <td>50</td>\n",
              "      <td>2019</td>\n",
              "    </tr>\n",
              "    <tr>\n",
              "      <th>22002</th>\n",
              "      <td>anil</td>\n",
              "      <td>90</td>\n",
              "      <td>75</td>\n",
              "      <td>60</td>\n",
              "      <td>2018</td>\n",
              "    </tr>\n",
              "    <tr>\n",
              "      <th>22003</th>\n",
              "      <td>prashanth</td>\n",
              "      <td>89</td>\n",
              "      <td>85</td>\n",
              "      <td>75</td>\n",
              "      <td>2020</td>\n",
              "    </tr>\n",
              "    <tr>\n",
              "      <th>22004</th>\n",
              "      <td>deepak</td>\n",
              "      <td>85</td>\n",
              "      <td>69</td>\n",
              "      <td>54</td>\n",
              "      <td>2020</td>\n",
              "    </tr>\n",
              "    <tr>\n",
              "      <th>22005</th>\n",
              "      <td>vishnu</td>\n",
              "      <td>66</td>\n",
              "      <td>78</td>\n",
              "      <td>90</td>\n",
              "      <td>2019</td>\n",
              "    </tr>\n",
              "    <tr>\n",
              "      <th>22006</th>\n",
              "      <td>kalyan</td>\n",
              "      <td>90</td>\n",
              "      <td>60</td>\n",
              "      <td>40</td>\n",
              "      <td>2018</td>\n",
              "    </tr>\n",
              "    <tr>\n",
              "      <th>22007</th>\n",
              "      <td>abhay</td>\n",
              "      <td>70</td>\n",
              "      <td>75</td>\n",
              "      <td>50</td>\n",
              "      <td>2017</td>\n",
              "    </tr>\n",
              "    <tr>\n",
              "      <th>22008</th>\n",
              "      <td>arun</td>\n",
              "      <td>66</td>\n",
              "      <td>98</td>\n",
              "      <td>54</td>\n",
              "      <td>2015</td>\n",
              "    </tr>\n",
              "    <tr>\n",
              "      <th>22009</th>\n",
              "      <td>chaitanya</td>\n",
              "      <td>78</td>\n",
              "      <td>87</td>\n",
              "      <td>33</td>\n",
              "      <td>2017</td>\n",
              "    </tr>\n",
              "    <tr>\n",
              "      <th>220010</th>\n",
              "      <td>sandeep</td>\n",
              "      <td>80</td>\n",
              "      <td>45</td>\n",
              "      <td>60</td>\n",
              "      <td>2020</td>\n",
              "    </tr>\n",
              "  </tbody>\n",
              "</table>\n",
              "</div>"
            ],
            "text/plain": [
              "              name  maths  physics  chemistry  year passing\n",
              "Roll no                                                    \n",
              "22001        pavan     95       60         50          2019\n",
              "22002         anil     90       75         60          2018\n",
              "22003    prashanth     89       85         75          2020\n",
              "22004       deepak     85       69         54          2020\n",
              "22005       vishnu     66       78         90          2019\n",
              "22006       kalyan     90       60         40          2018\n",
              "22007        abhay     70       75         50          2017\n",
              "22008         arun     66       98         54          2015\n",
              "22009    chaitanya     78       87         33          2017\n",
              "220010     sandeep     80       45         60          2020"
            ]
          },
          "execution_count": 72,
          "metadata": {},
          "output_type": "execute_result"
        }
      ],
      "source": [
        "dfm6"
      ]
    },
    {
      "cell_type": "code",
      "execution_count": null,
      "id": "48b200af",
      "metadata": {
        "id": "48b200af",
        "outputId": "3b468c94-ab5b-484d-8386-33edb6ad86f9"
      },
      "outputs": [
        {
          "data": {
            "text/plain": [
              "(10, 6)"
            ]
          },
          "execution_count": 50,
          "metadata": {},
          "output_type": "execute_result"
        }
      ],
      "source": [
        "dfm6.shape"
      ]
    },
    {
      "cell_type": "markdown",
      "id": "c4967d9c",
      "metadata": {
        "id": "c4967d9c"
      },
      "source": [
        "we can retrieve the index information using **index** attribute."
      ]
    },
    {
      "cell_type": "code",
      "execution_count": null,
      "id": "f10827a5",
      "metadata": {
        "id": "f10827a5",
        "outputId": "11c15499-f3cd-4781-a955-ae3431f4787c"
      },
      "outputs": [
        {
          "data": {
            "text/plain": [
              "RangeIndex(start=0, stop=10, step=1)"
            ]
          },
          "execution_count": 51,
          "metadata": {},
          "output_type": "execute_result"
        }
      ],
      "source": [
        "dfm6.index"
      ]
    },
    {
      "cell_type": "markdown",
      "id": "e827d911",
      "metadata": {
        "id": "e827d911"
      },
      "source": [
        "# setting a column as index"
      ]
    },
    {
      "cell_type": "markdown",
      "id": "33e2f221",
      "metadata": {
        "id": "33e2f221"
      },
      "source": [
        "if we don't want auto generated column as index, we can set a column from our data as index column, using **set_index()** method."
      ]
    },
    {
      "cell_type": "code",
      "execution_count": null,
      "id": "b89fd9ff",
      "metadata": {
        "id": "b89fd9ff"
      },
      "outputs": [],
      "source": [
        "dfm7=dfm6.set_index('Roll no')"
      ]
    },
    {
      "cell_type": "code",
      "execution_count": null,
      "id": "7bdc6b3b",
      "metadata": {
        "id": "7bdc6b3b",
        "outputId": "0d3391a5-4f49-4ea5-88b1-2637e27d9c05"
      },
      "outputs": [
        {
          "data": {
            "text/html": [
              "<div>\n",
              "<style scoped>\n",
              "    .dataframe tbody tr th:only-of-type {\n",
              "        vertical-align: middle;\n",
              "    }\n",
              "\n",
              "    .dataframe tbody tr th {\n",
              "        vertical-align: top;\n",
              "    }\n",
              "\n",
              "    .dataframe thead th {\n",
              "        text-align: right;\n",
              "    }\n",
              "</style>\n",
              "<table border=\"1\" class=\"dataframe\">\n",
              "  <thead>\n",
              "    <tr style=\"text-align: right;\">\n",
              "      <th></th>\n",
              "      <th>name</th>\n",
              "      <th>maths</th>\n",
              "      <th>physics</th>\n",
              "      <th>chemistry</th>\n",
              "      <th>year passing</th>\n",
              "    </tr>\n",
              "    <tr>\n",
              "      <th>Roll no</th>\n",
              "      <th></th>\n",
              "      <th></th>\n",
              "      <th></th>\n",
              "      <th></th>\n",
              "      <th></th>\n",
              "    </tr>\n",
              "  </thead>\n",
              "  <tbody>\n",
              "    <tr>\n",
              "      <th>22001</th>\n",
              "      <td>pavan</td>\n",
              "      <td>95</td>\n",
              "      <td>60</td>\n",
              "      <td>50</td>\n",
              "      <td>2019</td>\n",
              "    </tr>\n",
              "    <tr>\n",
              "      <th>22002</th>\n",
              "      <td>anil</td>\n",
              "      <td>90</td>\n",
              "      <td>75</td>\n",
              "      <td>60</td>\n",
              "      <td>2018</td>\n",
              "    </tr>\n",
              "    <tr>\n",
              "      <th>22003</th>\n",
              "      <td>prashanth</td>\n",
              "      <td>89</td>\n",
              "      <td>85</td>\n",
              "      <td>75</td>\n",
              "      <td>2020</td>\n",
              "    </tr>\n",
              "    <tr>\n",
              "      <th>22004</th>\n",
              "      <td>deepak</td>\n",
              "      <td>85</td>\n",
              "      <td>69</td>\n",
              "      <td>54</td>\n",
              "      <td>2020</td>\n",
              "    </tr>\n",
              "    <tr>\n",
              "      <th>22005</th>\n",
              "      <td>vishnu</td>\n",
              "      <td>66</td>\n",
              "      <td>78</td>\n",
              "      <td>90</td>\n",
              "      <td>2019</td>\n",
              "    </tr>\n",
              "    <tr>\n",
              "      <th>22006</th>\n",
              "      <td>kalyan</td>\n",
              "      <td>90</td>\n",
              "      <td>60</td>\n",
              "      <td>40</td>\n",
              "      <td>2018</td>\n",
              "    </tr>\n",
              "    <tr>\n",
              "      <th>22007</th>\n",
              "      <td>abhay</td>\n",
              "      <td>70</td>\n",
              "      <td>75</td>\n",
              "      <td>50</td>\n",
              "      <td>2017</td>\n",
              "    </tr>\n",
              "    <tr>\n",
              "      <th>22008</th>\n",
              "      <td>arun</td>\n",
              "      <td>66</td>\n",
              "      <td>98</td>\n",
              "      <td>54</td>\n",
              "      <td>2015</td>\n",
              "    </tr>\n",
              "    <tr>\n",
              "      <th>22009</th>\n",
              "      <td>chaitanya</td>\n",
              "      <td>78</td>\n",
              "      <td>87</td>\n",
              "      <td>33</td>\n",
              "      <td>2017</td>\n",
              "    </tr>\n",
              "    <tr>\n",
              "      <th>220010</th>\n",
              "      <td>sandeep</td>\n",
              "      <td>80</td>\n",
              "      <td>45</td>\n",
              "      <td>60</td>\n",
              "      <td>2020</td>\n",
              "    </tr>\n",
              "  </tbody>\n",
              "</table>\n",
              "</div>"
            ],
            "text/plain": [
              "              name  maths  physics  chemistry  year passing\n",
              "Roll no                                                    \n",
              "22001        pavan     95       60         50          2019\n",
              "22002         anil     90       75         60          2018\n",
              "22003    prashanth     89       85         75          2020\n",
              "22004       deepak     85       69         54          2020\n",
              "22005       vishnu     66       78         90          2019\n",
              "22006       kalyan     90       60         40          2018\n",
              "22007        abhay     70       75         50          2017\n",
              "22008         arun     66       98         54          2015\n",
              "22009    chaitanya     78       87         33          2017\n",
              "220010     sandeep     80       45         60          2020"
            ]
          },
          "execution_count": 53,
          "metadata": {},
          "output_type": "execute_result"
        }
      ],
      "source": [
        "dfm7"
      ]
    },
    {
      "cell_type": "code",
      "execution_count": null,
      "id": "28fb6cd8",
      "metadata": {
        "id": "28fb6cd8",
        "outputId": "adb65a70-2998-448f-8573-986498563257"
      },
      "outputs": [
        {
          "ename": "KeyError",
          "evalue": "\"None of ['Roll no'] are in the columns\"",
          "output_type": "error",
          "traceback": [
            "\u001b[1;31m---------------------------------------------------------------------------\u001b[0m",
            "\u001b[1;31mKeyError\u001b[0m                                  Traceback (most recent call last)",
            "\u001b[1;32m~\\AppData\\Local\\Temp/ipykernel_11268/2387324730.py\u001b[0m in \u001b[0;36m<module>\u001b[1;34m\u001b[0m\n\u001b[0;32m      1\u001b[0m \u001b[1;31m#another way\u001b[0m\u001b[1;33m\u001b[0m\u001b[1;33m\u001b[0m\u001b[1;33m\u001b[0m\u001b[0m\n\u001b[1;32m----> 2\u001b[1;33m \u001b[0mdfm6\u001b[0m\u001b[1;33m.\u001b[0m\u001b[0mset_index\u001b[0m\u001b[1;33m(\u001b[0m\u001b[1;34m'Roll no'\u001b[0m\u001b[1;33m,\u001b[0m\u001b[0minplace\u001b[0m\u001b[1;33m=\u001b[0m\u001b[1;32mFalse\u001b[0m\u001b[1;33m)\u001b[0m\u001b[1;33m\u001b[0m\u001b[1;33m\u001b[0m\u001b[0m\n\u001b[0m\u001b[0;32m      3\u001b[0m \u001b[0mdfm6\u001b[0m\u001b[1;33m\u001b[0m\u001b[1;33m\u001b[0m\u001b[0m\n",
            "\u001b[1;32m~\\miniconda3\\lib\\site-packages\\pandas\\core\\frame.py\u001b[0m in \u001b[0;36mset_index\u001b[1;34m(self, keys, drop, append, inplace, verify_integrity)\u001b[0m\n\u001b[0;32m   4725\u001b[0m \u001b[1;33m\u001b[0m\u001b[0m\n\u001b[0;32m   4726\u001b[0m         \u001b[1;32mif\u001b[0m \u001b[0mmissing\u001b[0m\u001b[1;33m:\u001b[0m\u001b[1;33m\u001b[0m\u001b[1;33m\u001b[0m\u001b[0m\n\u001b[1;32m-> 4727\u001b[1;33m             \u001b[1;32mraise\u001b[0m \u001b[0mKeyError\u001b[0m\u001b[1;33m(\u001b[0m\u001b[1;34mf\"None of {missing} are in the columns\"\u001b[0m\u001b[1;33m)\u001b[0m\u001b[1;33m\u001b[0m\u001b[1;33m\u001b[0m\u001b[0m\n\u001b[0m\u001b[0;32m   4728\u001b[0m \u001b[1;33m\u001b[0m\u001b[0m\n\u001b[0;32m   4729\u001b[0m         \u001b[1;32mif\u001b[0m \u001b[0minplace\u001b[0m\u001b[1;33m:\u001b[0m\u001b[1;33m\u001b[0m\u001b[1;33m\u001b[0m\u001b[0m\n",
            "\u001b[1;31mKeyError\u001b[0m: \"None of ['Roll no'] are in the columns\""
          ]
        }
      ],
      "source": [
        "#another way\n",
        "dfm6.set_index('Roll no',inplace=True)\n",
        "dfm6"
      ]
    },
    {
      "cell_type": "code",
      "execution_count": null,
      "id": "406a434c",
      "metadata": {
        "id": "406a434c",
        "outputId": "7540076d-2bb9-4c3f-cbd3-53d60cbbeef7"
      },
      "outputs": [
        {
          "data": {
            "text/html": [
              "<div>\n",
              "<style scoped>\n",
              "    .dataframe tbody tr th:only-of-type {\n",
              "        vertical-align: middle;\n",
              "    }\n",
              "\n",
              "    .dataframe tbody tr th {\n",
              "        vertical-align: top;\n",
              "    }\n",
              "\n",
              "    .dataframe thead th {\n",
              "        text-align: right;\n",
              "    }\n",
              "</style>\n",
              "<table border=\"1\" class=\"dataframe\">\n",
              "  <thead>\n",
              "    <tr style=\"text-align: right;\">\n",
              "      <th></th>\n",
              "      <th>name</th>\n",
              "      <th>maths</th>\n",
              "      <th>physics</th>\n",
              "      <th>chemistry</th>\n",
              "      <th>year passing</th>\n",
              "    </tr>\n",
              "    <tr>\n",
              "      <th>Roll no</th>\n",
              "      <th></th>\n",
              "      <th></th>\n",
              "      <th></th>\n",
              "      <th></th>\n",
              "      <th></th>\n",
              "    </tr>\n",
              "  </thead>\n",
              "  <tbody>\n",
              "  </tbody>\n",
              "</table>\n",
              "</div>"
            ],
            "text/plain": [
              "Empty DataFrame\n",
              "Columns: [name, maths, physics, chemistry, year passing]\n",
              "Index: []"
            ]
          },
          "execution_count": 56,
          "metadata": {},
          "output_type": "execute_result"
        }
      ],
      "source": [
        "dfm7[22003:22007]"
      ]
    },
    {
      "cell_type": "code",
      "execution_count": null,
      "id": "99224aa1",
      "metadata": {
        "id": "99224aa1",
        "outputId": "335d236c-a39a-4ce6-c8a6-4970dffd8da6"
      },
      "outputs": [
        {
          "data": {
            "text/html": [
              "<div>\n",
              "<style scoped>\n",
              "    .dataframe tbody tr th:only-of-type {\n",
              "        vertical-align: middle;\n",
              "    }\n",
              "\n",
              "    .dataframe tbody tr th {\n",
              "        vertical-align: top;\n",
              "    }\n",
              "\n",
              "    .dataframe thead th {\n",
              "        text-align: right;\n",
              "    }\n",
              "</style>\n",
              "<table border=\"1\" class=\"dataframe\">\n",
              "  <thead>\n",
              "    <tr style=\"text-align: right;\">\n",
              "      <th></th>\n",
              "      <th>name</th>\n",
              "      <th>maths</th>\n",
              "      <th>physics</th>\n",
              "      <th>chemistry</th>\n",
              "      <th>year passing</th>\n",
              "    </tr>\n",
              "    <tr>\n",
              "      <th>Roll no</th>\n",
              "      <th></th>\n",
              "      <th></th>\n",
              "      <th></th>\n",
              "      <th></th>\n",
              "      <th></th>\n",
              "    </tr>\n",
              "  </thead>\n",
              "  <tbody>\n",
              "    <tr>\n",
              "      <th>22004</th>\n",
              "      <td>deepak</td>\n",
              "      <td>85</td>\n",
              "      <td>69</td>\n",
              "      <td>54</td>\n",
              "      <td>2020</td>\n",
              "    </tr>\n",
              "    <tr>\n",
              "      <th>22005</th>\n",
              "      <td>vishnu</td>\n",
              "      <td>66</td>\n",
              "      <td>78</td>\n",
              "      <td>90</td>\n",
              "      <td>2019</td>\n",
              "    </tr>\n",
              "    <tr>\n",
              "      <th>22006</th>\n",
              "      <td>kalyan</td>\n",
              "      <td>90</td>\n",
              "      <td>60</td>\n",
              "      <td>40</td>\n",
              "      <td>2018</td>\n",
              "    </tr>\n",
              "    <tr>\n",
              "      <th>22007</th>\n",
              "      <td>abhay</td>\n",
              "      <td>70</td>\n",
              "      <td>75</td>\n",
              "      <td>50</td>\n",
              "      <td>2017</td>\n",
              "    </tr>\n",
              "  </tbody>\n",
              "</table>\n",
              "</div>"
            ],
            "text/plain": [
              "           name  maths  physics  chemistry  year passing\n",
              "Roll no                                                 \n",
              "22004    deepak     85       69         54          2020\n",
              "22005    vishnu     66       78         90          2019\n",
              "22006    kalyan     90       60         40          2018\n",
              "22007     abhay     70       75         50          2017"
            ]
          },
          "execution_count": 57,
          "metadata": {},
          "output_type": "execute_result"
        }
      ],
      "source": [
        "dfm7[3:7]"
      ]
    },
    {
      "cell_type": "code",
      "execution_count": null,
      "id": "8dda66ac",
      "metadata": {
        "id": "8dda66ac",
        "outputId": "73f6fe21-9e96-49fc-9d6b-0e746af4e798"
      },
      "outputs": [
        {
          "data": {
            "text/html": [
              "<div>\n",
              "<style scoped>\n",
              "    .dataframe tbody tr th:only-of-type {\n",
              "        vertical-align: middle;\n",
              "    }\n",
              "\n",
              "    .dataframe tbody tr th {\n",
              "        vertical-align: top;\n",
              "    }\n",
              "\n",
              "    .dataframe thead th {\n",
              "        text-align: right;\n",
              "    }\n",
              "</style>\n",
              "<table border=\"1\" class=\"dataframe\">\n",
              "  <thead>\n",
              "    <tr style=\"text-align: right;\">\n",
              "      <th></th>\n",
              "      <th>Roll no</th>\n",
              "      <th>name</th>\n",
              "      <th>maths</th>\n",
              "      <th>physics</th>\n",
              "      <th>chemistry</th>\n",
              "      <th>year passing</th>\n",
              "    </tr>\n",
              "  </thead>\n",
              "  <tbody>\n",
              "    <tr>\n",
              "      <th>0</th>\n",
              "      <td>22001</td>\n",
              "      <td>pavan</td>\n",
              "      <td>95</td>\n",
              "      <td>60</td>\n",
              "      <td>50</td>\n",
              "      <td>2019</td>\n",
              "    </tr>\n",
              "    <tr>\n",
              "      <th>1</th>\n",
              "      <td>22002</td>\n",
              "      <td>anil</td>\n",
              "      <td>90</td>\n",
              "      <td>75</td>\n",
              "      <td>60</td>\n",
              "      <td>2018</td>\n",
              "    </tr>\n",
              "    <tr>\n",
              "      <th>2</th>\n",
              "      <td>22003</td>\n",
              "      <td>prashanth</td>\n",
              "      <td>89</td>\n",
              "      <td>85</td>\n",
              "      <td>75</td>\n",
              "      <td>2020</td>\n",
              "    </tr>\n",
              "    <tr>\n",
              "      <th>3</th>\n",
              "      <td>22004</td>\n",
              "      <td>deepak</td>\n",
              "      <td>85</td>\n",
              "      <td>69</td>\n",
              "      <td>54</td>\n",
              "      <td>2020</td>\n",
              "    </tr>\n",
              "    <tr>\n",
              "      <th>4</th>\n",
              "      <td>22005</td>\n",
              "      <td>vishnu</td>\n",
              "      <td>66</td>\n",
              "      <td>78</td>\n",
              "      <td>90</td>\n",
              "      <td>2019</td>\n",
              "    </tr>\n",
              "    <tr>\n",
              "      <th>5</th>\n",
              "      <td>22006</td>\n",
              "      <td>kalyan</td>\n",
              "      <td>90</td>\n",
              "      <td>60</td>\n",
              "      <td>40</td>\n",
              "      <td>2018</td>\n",
              "    </tr>\n",
              "    <tr>\n",
              "      <th>6</th>\n",
              "      <td>22007</td>\n",
              "      <td>abhay</td>\n",
              "      <td>70</td>\n",
              "      <td>75</td>\n",
              "      <td>50</td>\n",
              "      <td>2017</td>\n",
              "    </tr>\n",
              "    <tr>\n",
              "      <th>7</th>\n",
              "      <td>22008</td>\n",
              "      <td>arun</td>\n",
              "      <td>66</td>\n",
              "      <td>98</td>\n",
              "      <td>54</td>\n",
              "      <td>2015</td>\n",
              "    </tr>\n",
              "    <tr>\n",
              "      <th>8</th>\n",
              "      <td>22009</td>\n",
              "      <td>chaitanya</td>\n",
              "      <td>78</td>\n",
              "      <td>87</td>\n",
              "      <td>33</td>\n",
              "      <td>2017</td>\n",
              "    </tr>\n",
              "    <tr>\n",
              "      <th>9</th>\n",
              "      <td>220010</td>\n",
              "      <td>sandeep</td>\n",
              "      <td>80</td>\n",
              "      <td>45</td>\n",
              "      <td>60</td>\n",
              "      <td>2020</td>\n",
              "    </tr>\n",
              "  </tbody>\n",
              "</table>\n",
              "</div>"
            ],
            "text/plain": [
              "   Roll no       name  maths  physics  chemistry  year passing\n",
              "0    22001      pavan     95       60         50          2019\n",
              "1    22002       anil     90       75         60          2018\n",
              "2    22003  prashanth     89       85         75          2020\n",
              "3    22004     deepak     85       69         54          2020\n",
              "4    22005     vishnu     66       78         90          2019\n",
              "5    22006     kalyan     90       60         40          2018\n",
              "6    22007      abhay     70       75         50          2017\n",
              "7    22008       arun     66       98         54          2015\n",
              "8    22009  chaitanya     78       87         33          2017\n",
              "9   220010    sandeep     80       45         60          2020"
            ]
          },
          "execution_count": 59,
          "metadata": {},
          "output_type": "execute_result"
        }
      ],
      "source": [
        "#there is no change in original data\n",
        "dfm6"
      ]
    },
    {
      "cell_type": "code",
      "execution_count": null,
      "id": "950ac8c7",
      "metadata": {
        "id": "950ac8c7",
        "outputId": "06b70327-9535-4a89-e5dd-5cba4f2efa2f"
      },
      "outputs": [
        {
          "ename": "KeyError",
          "evalue": "4",
          "output_type": "error",
          "traceback": [
            "\u001b[1;31m---------------------------------------------------------------------------\u001b[0m",
            "\u001b[1;31mKeyError\u001b[0m                                  Traceback (most recent call last)",
            "\u001b[1;32m~\\miniconda3\\lib\\site-packages\\pandas\\core\\indexes\\base.py\u001b[0m in \u001b[0;36mget_loc\u001b[1;34m(self, key, method, tolerance)\u001b[0m\n\u001b[0;32m   3079\u001b[0m             \u001b[1;32mtry\u001b[0m\u001b[1;33m:\u001b[0m\u001b[1;33m\u001b[0m\u001b[1;33m\u001b[0m\u001b[0m\n\u001b[1;32m-> 3080\u001b[1;33m                 \u001b[1;32mreturn\u001b[0m \u001b[0mself\u001b[0m\u001b[1;33m.\u001b[0m\u001b[0m_engine\u001b[0m\u001b[1;33m.\u001b[0m\u001b[0mget_loc\u001b[0m\u001b[1;33m(\u001b[0m\u001b[0mcasted_key\u001b[0m\u001b[1;33m)\u001b[0m\u001b[1;33m\u001b[0m\u001b[1;33m\u001b[0m\u001b[0m\n\u001b[0m\u001b[0;32m   3081\u001b[0m             \u001b[1;32mexcept\u001b[0m \u001b[0mKeyError\u001b[0m \u001b[1;32mas\u001b[0m \u001b[0merr\u001b[0m\u001b[1;33m:\u001b[0m\u001b[1;33m\u001b[0m\u001b[1;33m\u001b[0m\u001b[0m\n",
            "\u001b[1;32mpandas\\_libs\\index.pyx\u001b[0m in \u001b[0;36mpandas._libs.index.IndexEngine.get_loc\u001b[1;34m()\u001b[0m\n",
            "\u001b[1;32mpandas\\_libs\\index.pyx\u001b[0m in \u001b[0;36mpandas._libs.index.IndexEngine.get_loc\u001b[1;34m()\u001b[0m\n",
            "\u001b[1;32mpandas\\_libs\\hashtable_class_helper.pxi\u001b[0m in \u001b[0;36mpandas._libs.hashtable.PyObjectHashTable.get_item\u001b[1;34m()\u001b[0m\n",
            "\u001b[1;32mpandas\\_libs\\hashtable_class_helper.pxi\u001b[0m in \u001b[0;36mpandas._libs.hashtable.PyObjectHashTable.get_item\u001b[1;34m()\u001b[0m\n",
            "\u001b[1;31mKeyError\u001b[0m: 4",
            "\nThe above exception was the direct cause of the following exception:\n",
            "\u001b[1;31mKeyError\u001b[0m                                  Traceback (most recent call last)",
            "\u001b[1;32m~\\AppData\\Local\\Temp/ipykernel_11268/449845820.py\u001b[0m in \u001b[0;36m<module>\u001b[1;34m\u001b[0m\n\u001b[1;32m----> 1\u001b[1;33m \u001b[0mdfm6\u001b[0m\u001b[1;33m[\u001b[0m\u001b[1;36m4\u001b[0m\u001b[1;33m]\u001b[0m\u001b[1;33m\u001b[0m\u001b[1;33m\u001b[0m\u001b[0m\n\u001b[0m",
            "\u001b[1;32m~\\miniconda3\\lib\\site-packages\\pandas\\core\\frame.py\u001b[0m in \u001b[0;36m__getitem__\u001b[1;34m(self, key)\u001b[0m\n\u001b[0;32m   3022\u001b[0m             \u001b[1;32mif\u001b[0m \u001b[0mself\u001b[0m\u001b[1;33m.\u001b[0m\u001b[0mcolumns\u001b[0m\u001b[1;33m.\u001b[0m\u001b[0mnlevels\u001b[0m \u001b[1;33m>\u001b[0m \u001b[1;36m1\u001b[0m\u001b[1;33m:\u001b[0m\u001b[1;33m\u001b[0m\u001b[1;33m\u001b[0m\u001b[0m\n\u001b[0;32m   3023\u001b[0m                 \u001b[1;32mreturn\u001b[0m \u001b[0mself\u001b[0m\u001b[1;33m.\u001b[0m\u001b[0m_getitem_multilevel\u001b[0m\u001b[1;33m(\u001b[0m\u001b[0mkey\u001b[0m\u001b[1;33m)\u001b[0m\u001b[1;33m\u001b[0m\u001b[1;33m\u001b[0m\u001b[0m\n\u001b[1;32m-> 3024\u001b[1;33m             \u001b[0mindexer\u001b[0m \u001b[1;33m=\u001b[0m \u001b[0mself\u001b[0m\u001b[1;33m.\u001b[0m\u001b[0mcolumns\u001b[0m\u001b[1;33m.\u001b[0m\u001b[0mget_loc\u001b[0m\u001b[1;33m(\u001b[0m\u001b[0mkey\u001b[0m\u001b[1;33m)\u001b[0m\u001b[1;33m\u001b[0m\u001b[1;33m\u001b[0m\u001b[0m\n\u001b[0m\u001b[0;32m   3025\u001b[0m             \u001b[1;32mif\u001b[0m \u001b[0mis_integer\u001b[0m\u001b[1;33m(\u001b[0m\u001b[0mindexer\u001b[0m\u001b[1;33m)\u001b[0m\u001b[1;33m:\u001b[0m\u001b[1;33m\u001b[0m\u001b[1;33m\u001b[0m\u001b[0m\n\u001b[0;32m   3026\u001b[0m                 \u001b[0mindexer\u001b[0m \u001b[1;33m=\u001b[0m \u001b[1;33m[\u001b[0m\u001b[0mindexer\u001b[0m\u001b[1;33m]\u001b[0m\u001b[1;33m\u001b[0m\u001b[1;33m\u001b[0m\u001b[0m\n",
            "\u001b[1;32m~\\miniconda3\\lib\\site-packages\\pandas\\core\\indexes\\base.py\u001b[0m in \u001b[0;36mget_loc\u001b[1;34m(self, key, method, tolerance)\u001b[0m\n\u001b[0;32m   3080\u001b[0m                 \u001b[1;32mreturn\u001b[0m \u001b[0mself\u001b[0m\u001b[1;33m.\u001b[0m\u001b[0m_engine\u001b[0m\u001b[1;33m.\u001b[0m\u001b[0mget_loc\u001b[0m\u001b[1;33m(\u001b[0m\u001b[0mcasted_key\u001b[0m\u001b[1;33m)\u001b[0m\u001b[1;33m\u001b[0m\u001b[1;33m\u001b[0m\u001b[0m\n\u001b[0;32m   3081\u001b[0m             \u001b[1;32mexcept\u001b[0m \u001b[0mKeyError\u001b[0m \u001b[1;32mas\u001b[0m \u001b[0merr\u001b[0m\u001b[1;33m:\u001b[0m\u001b[1;33m\u001b[0m\u001b[1;33m\u001b[0m\u001b[0m\n\u001b[1;32m-> 3082\u001b[1;33m                 \u001b[1;32mraise\u001b[0m \u001b[0mKeyError\u001b[0m\u001b[1;33m(\u001b[0m\u001b[0mkey\u001b[0m\u001b[1;33m)\u001b[0m \u001b[1;32mfrom\u001b[0m \u001b[0merr\u001b[0m\u001b[1;33m\u001b[0m\u001b[1;33m\u001b[0m\u001b[0m\n\u001b[0m\u001b[0;32m   3083\u001b[0m \u001b[1;33m\u001b[0m\u001b[0m\n\u001b[0;32m   3084\u001b[0m         \u001b[1;32mif\u001b[0m \u001b[0mtolerance\u001b[0m \u001b[1;32mis\u001b[0m \u001b[1;32mnot\u001b[0m \u001b[1;32mNone\u001b[0m\u001b[1;33m:\u001b[0m\u001b[1;33m\u001b[0m\u001b[1;33m\u001b[0m\u001b[0m\n",
            "\u001b[1;31mKeyError\u001b[0m: 4"
          ]
        }
      ],
      "source": [
        "dfm6[4]"
      ]
    },
    {
      "cell_type": "code",
      "execution_count": null,
      "id": "ecbeea80",
      "metadata": {
        "id": "ecbeea80",
        "outputId": "68fde35f-71cc-4e5a-eee2-7599be0aab24"
      },
      "outputs": [
        {
          "data": {
            "text/html": [
              "<div>\n",
              "<style scoped>\n",
              "    .dataframe tbody tr th:only-of-type {\n",
              "        vertical-align: middle;\n",
              "    }\n",
              "\n",
              "    .dataframe tbody tr th {\n",
              "        vertical-align: top;\n",
              "    }\n",
              "\n",
              "    .dataframe thead th {\n",
              "        text-align: right;\n",
              "    }\n",
              "</style>\n",
              "<table border=\"1\" class=\"dataframe\">\n",
              "  <thead>\n",
              "    <tr style=\"text-align: right;\">\n",
              "      <th></th>\n",
              "      <th>name</th>\n",
              "      <th>maths</th>\n",
              "      <th>physics</th>\n",
              "      <th>chemistry</th>\n",
              "      <th>year passing</th>\n",
              "    </tr>\n",
              "    <tr>\n",
              "      <th>Roll no</th>\n",
              "      <th></th>\n",
              "      <th></th>\n",
              "      <th></th>\n",
              "      <th></th>\n",
              "      <th></th>\n",
              "    </tr>\n",
              "  </thead>\n",
              "  <tbody>\n",
              "    <tr>\n",
              "      <th>22001</th>\n",
              "      <td>pavan</td>\n",
              "      <td>95</td>\n",
              "      <td>60</td>\n",
              "      <td>50</td>\n",
              "      <td>2019</td>\n",
              "    </tr>\n",
              "    <tr>\n",
              "      <th>22002</th>\n",
              "      <td>anil</td>\n",
              "      <td>90</td>\n",
              "      <td>75</td>\n",
              "      <td>60</td>\n",
              "      <td>2018</td>\n",
              "    </tr>\n",
              "    <tr>\n",
              "      <th>22003</th>\n",
              "      <td>prashanth</td>\n",
              "      <td>89</td>\n",
              "      <td>85</td>\n",
              "      <td>75</td>\n",
              "      <td>2020</td>\n",
              "    </tr>\n",
              "    <tr>\n",
              "      <th>22004</th>\n",
              "      <td>deepak</td>\n",
              "      <td>85</td>\n",
              "      <td>69</td>\n",
              "      <td>54</td>\n",
              "      <td>2020</td>\n",
              "    </tr>\n",
              "    <tr>\n",
              "      <th>22005</th>\n",
              "      <td>vishnu</td>\n",
              "      <td>66</td>\n",
              "      <td>78</td>\n",
              "      <td>90</td>\n",
              "      <td>2019</td>\n",
              "    </tr>\n",
              "    <tr>\n",
              "      <th>22006</th>\n",
              "      <td>kalyan</td>\n",
              "      <td>90</td>\n",
              "      <td>60</td>\n",
              "      <td>40</td>\n",
              "      <td>2018</td>\n",
              "    </tr>\n",
              "    <tr>\n",
              "      <th>22007</th>\n",
              "      <td>abhay</td>\n",
              "      <td>70</td>\n",
              "      <td>75</td>\n",
              "      <td>50</td>\n",
              "      <td>2017</td>\n",
              "    </tr>\n",
              "    <tr>\n",
              "      <th>22008</th>\n",
              "      <td>arun</td>\n",
              "      <td>66</td>\n",
              "      <td>98</td>\n",
              "      <td>54</td>\n",
              "      <td>2015</td>\n",
              "    </tr>\n",
              "    <tr>\n",
              "      <th>22009</th>\n",
              "      <td>chaitanya</td>\n",
              "      <td>78</td>\n",
              "      <td>87</td>\n",
              "      <td>33</td>\n",
              "      <td>2017</td>\n",
              "    </tr>\n",
              "    <tr>\n",
              "      <th>220010</th>\n",
              "      <td>sandeep</td>\n",
              "      <td>80</td>\n",
              "      <td>45</td>\n",
              "      <td>60</td>\n",
              "      <td>2020</td>\n",
              "    </tr>\n",
              "  </tbody>\n",
              "</table>\n",
              "</div>"
            ],
            "text/plain": [
              "              name  maths  physics  chemistry  year passing\n",
              "Roll no                                                    \n",
              "22001        pavan     95       60         50          2019\n",
              "22002         anil     90       75         60          2018\n",
              "22003    prashanth     89       85         75          2020\n",
              "22004       deepak     85       69         54          2020\n",
              "22005       vishnu     66       78         90          2019\n",
              "22006       kalyan     90       60         40          2018\n",
              "22007        abhay     70       75         50          2017\n",
              "22008         arun     66       98         54          2015\n",
              "22009    chaitanya     78       87         33          2017\n",
              "220010     sandeep     80       45         60          2020"
            ]
          },
          "execution_count": 66,
          "metadata": {},
          "output_type": "execute_result"
        }
      ],
      "source": [
        "dfm7"
      ]
    },
    {
      "cell_type": "code",
      "execution_count": null,
      "id": "7bca5083",
      "metadata": {
        "id": "7bca5083",
        "outputId": "3bc91305-4998-4cea-ba8a-2f0c75b79857"
      },
      "outputs": [
        {
          "data": {
            "text/html": [
              "<div>\n",
              "<style scoped>\n",
              "    .dataframe tbody tr th:only-of-type {\n",
              "        vertical-align: middle;\n",
              "    }\n",
              "\n",
              "    .dataframe tbody tr th {\n",
              "        vertical-align: top;\n",
              "    }\n",
              "\n",
              "    .dataframe thead th {\n",
              "        text-align: right;\n",
              "    }\n",
              "</style>\n",
              "<table border=\"1\" class=\"dataframe\">\n",
              "  <thead>\n",
              "    <tr style=\"text-align: right;\">\n",
              "      <th></th>\n",
              "      <th>name</th>\n",
              "      <th>maths</th>\n",
              "      <th>physics</th>\n",
              "      <th>chemistry</th>\n",
              "      <th>year passing</th>\n",
              "    </tr>\n",
              "    <tr>\n",
              "      <th>Roll no</th>\n",
              "      <th></th>\n",
              "      <th></th>\n",
              "      <th></th>\n",
              "      <th></th>\n",
              "      <th></th>\n",
              "    </tr>\n",
              "  </thead>\n",
              "  <tbody>\n",
              "    <tr>\n",
              "      <th>22004</th>\n",
              "      <td>deepak</td>\n",
              "      <td>85</td>\n",
              "      <td>69</td>\n",
              "      <td>54</td>\n",
              "      <td>2020</td>\n",
              "    </tr>\n",
              "    <tr>\n",
              "      <th>22005</th>\n",
              "      <td>vishnu</td>\n",
              "      <td>66</td>\n",
              "      <td>78</td>\n",
              "      <td>90</td>\n",
              "      <td>2019</td>\n",
              "    </tr>\n",
              "    <tr>\n",
              "      <th>22006</th>\n",
              "      <td>kalyan</td>\n",
              "      <td>90</td>\n",
              "      <td>60</td>\n",
              "      <td>40</td>\n",
              "      <td>2018</td>\n",
              "    </tr>\n",
              "  </tbody>\n",
              "</table>\n",
              "</div>"
            ],
            "text/plain": [
              "           name  maths  physics  chemistry  year passing\n",
              "Roll no                                                 \n",
              "22004    deepak     85       69         54          2020\n",
              "22005    vishnu     66       78         90          2019\n",
              "22006    kalyan     90       60         40          2018"
            ]
          },
          "execution_count": 67,
          "metadata": {},
          "output_type": "execute_result"
        }
      ],
      "source": [
        "dfm7[3:6]"
      ]
    },
    {
      "cell_type": "code",
      "execution_count": null,
      "id": "f8b481a1",
      "metadata": {
        "id": "f8b481a1",
        "outputId": "ccecd5d3-4f80-49df-b4ed-2798f8dc2980"
      },
      "outputs": [
        {
          "ename": "KeyError",
          "evalue": "22005",
          "output_type": "error",
          "traceback": [
            "\u001b[1;31m---------------------------------------------------------------------------\u001b[0m",
            "\u001b[1;31mKeyError\u001b[0m                                  Traceback (most recent call last)",
            "\u001b[1;32m~\\miniconda3\\lib\\site-packages\\pandas\\core\\indexes\\base.py\u001b[0m in \u001b[0;36mget_loc\u001b[1;34m(self, key, method, tolerance)\u001b[0m\n\u001b[0;32m   3079\u001b[0m             \u001b[1;32mtry\u001b[0m\u001b[1;33m:\u001b[0m\u001b[1;33m\u001b[0m\u001b[1;33m\u001b[0m\u001b[0m\n\u001b[1;32m-> 3080\u001b[1;33m                 \u001b[1;32mreturn\u001b[0m \u001b[0mself\u001b[0m\u001b[1;33m.\u001b[0m\u001b[0m_engine\u001b[0m\u001b[1;33m.\u001b[0m\u001b[0mget_loc\u001b[0m\u001b[1;33m(\u001b[0m\u001b[0mcasted_key\u001b[0m\u001b[1;33m)\u001b[0m\u001b[1;33m\u001b[0m\u001b[1;33m\u001b[0m\u001b[0m\n\u001b[0m\u001b[0;32m   3081\u001b[0m             \u001b[1;32mexcept\u001b[0m \u001b[0mKeyError\u001b[0m \u001b[1;32mas\u001b[0m \u001b[0merr\u001b[0m\u001b[1;33m:\u001b[0m\u001b[1;33m\u001b[0m\u001b[1;33m\u001b[0m\u001b[0m\n",
            "\u001b[1;32mpandas\\_libs\\index.pyx\u001b[0m in \u001b[0;36mpandas._libs.index.IndexEngine.get_loc\u001b[1;34m()\u001b[0m\n",
            "\u001b[1;32mpandas\\_libs\\index.pyx\u001b[0m in \u001b[0;36mpandas._libs.index.IndexEngine.get_loc\u001b[1;34m()\u001b[0m\n",
            "\u001b[1;32mpandas\\_libs\\hashtable_class_helper.pxi\u001b[0m in \u001b[0;36mpandas._libs.hashtable.PyObjectHashTable.get_item\u001b[1;34m()\u001b[0m\n",
            "\u001b[1;32mpandas\\_libs\\hashtable_class_helper.pxi\u001b[0m in \u001b[0;36mpandas._libs.hashtable.PyObjectHashTable.get_item\u001b[1;34m()\u001b[0m\n",
            "\u001b[1;31mKeyError\u001b[0m: 22005",
            "\nThe above exception was the direct cause of the following exception:\n",
            "\u001b[1;31mKeyError\u001b[0m                                  Traceback (most recent call last)",
            "\u001b[1;32m~\\AppData\\Local\\Temp/ipykernel_11268/1222463279.py\u001b[0m in \u001b[0;36m<module>\u001b[1;34m\u001b[0m\n\u001b[1;32m----> 1\u001b[1;33m \u001b[0mdfm7\u001b[0m\u001b[1;33m[\u001b[0m\u001b[1;36m22005\u001b[0m\u001b[1;33m]\u001b[0m\u001b[1;33m\u001b[0m\u001b[1;33m\u001b[0m\u001b[0m\n\u001b[0m",
            "\u001b[1;32m~\\miniconda3\\lib\\site-packages\\pandas\\core\\frame.py\u001b[0m in \u001b[0;36m__getitem__\u001b[1;34m(self, key)\u001b[0m\n\u001b[0;32m   3022\u001b[0m             \u001b[1;32mif\u001b[0m \u001b[0mself\u001b[0m\u001b[1;33m.\u001b[0m\u001b[0mcolumns\u001b[0m\u001b[1;33m.\u001b[0m\u001b[0mnlevels\u001b[0m \u001b[1;33m>\u001b[0m \u001b[1;36m1\u001b[0m\u001b[1;33m:\u001b[0m\u001b[1;33m\u001b[0m\u001b[1;33m\u001b[0m\u001b[0m\n\u001b[0;32m   3023\u001b[0m                 \u001b[1;32mreturn\u001b[0m \u001b[0mself\u001b[0m\u001b[1;33m.\u001b[0m\u001b[0m_getitem_multilevel\u001b[0m\u001b[1;33m(\u001b[0m\u001b[0mkey\u001b[0m\u001b[1;33m)\u001b[0m\u001b[1;33m\u001b[0m\u001b[1;33m\u001b[0m\u001b[0m\n\u001b[1;32m-> 3024\u001b[1;33m             \u001b[0mindexer\u001b[0m \u001b[1;33m=\u001b[0m \u001b[0mself\u001b[0m\u001b[1;33m.\u001b[0m\u001b[0mcolumns\u001b[0m\u001b[1;33m.\u001b[0m\u001b[0mget_loc\u001b[0m\u001b[1;33m(\u001b[0m\u001b[0mkey\u001b[0m\u001b[1;33m)\u001b[0m\u001b[1;33m\u001b[0m\u001b[1;33m\u001b[0m\u001b[0m\n\u001b[0m\u001b[0;32m   3025\u001b[0m             \u001b[1;32mif\u001b[0m \u001b[0mis_integer\u001b[0m\u001b[1;33m(\u001b[0m\u001b[0mindexer\u001b[0m\u001b[1;33m)\u001b[0m\u001b[1;33m:\u001b[0m\u001b[1;33m\u001b[0m\u001b[1;33m\u001b[0m\u001b[0m\n\u001b[0;32m   3026\u001b[0m                 \u001b[0mindexer\u001b[0m \u001b[1;33m=\u001b[0m \u001b[1;33m[\u001b[0m\u001b[0mindexer\u001b[0m\u001b[1;33m]\u001b[0m\u001b[1;33m\u001b[0m\u001b[1;33m\u001b[0m\u001b[0m\n",
            "\u001b[1;32m~\\miniconda3\\lib\\site-packages\\pandas\\core\\indexes\\base.py\u001b[0m in \u001b[0;36mget_loc\u001b[1;34m(self, key, method, tolerance)\u001b[0m\n\u001b[0;32m   3080\u001b[0m                 \u001b[1;32mreturn\u001b[0m \u001b[0mself\u001b[0m\u001b[1;33m.\u001b[0m\u001b[0m_engine\u001b[0m\u001b[1;33m.\u001b[0m\u001b[0mget_loc\u001b[0m\u001b[1;33m(\u001b[0m\u001b[0mcasted_key\u001b[0m\u001b[1;33m)\u001b[0m\u001b[1;33m\u001b[0m\u001b[1;33m\u001b[0m\u001b[0m\n\u001b[0;32m   3081\u001b[0m             \u001b[1;32mexcept\u001b[0m \u001b[0mKeyError\u001b[0m \u001b[1;32mas\u001b[0m \u001b[0merr\u001b[0m\u001b[1;33m:\u001b[0m\u001b[1;33m\u001b[0m\u001b[1;33m\u001b[0m\u001b[0m\n\u001b[1;32m-> 3082\u001b[1;33m                 \u001b[1;32mraise\u001b[0m \u001b[0mKeyError\u001b[0m\u001b[1;33m(\u001b[0m\u001b[0mkey\u001b[0m\u001b[1;33m)\u001b[0m \u001b[1;32mfrom\u001b[0m \u001b[0merr\u001b[0m\u001b[1;33m\u001b[0m\u001b[1;33m\u001b[0m\u001b[0m\n\u001b[0m\u001b[0;32m   3083\u001b[0m \u001b[1;33m\u001b[0m\u001b[0m\n\u001b[0;32m   3084\u001b[0m         \u001b[1;32mif\u001b[0m \u001b[0mtolerance\u001b[0m \u001b[1;32mis\u001b[0m \u001b[1;32mnot\u001b[0m \u001b[1;32mNone\u001b[0m\u001b[1;33m:\u001b[0m\u001b[1;33m\u001b[0m\u001b[1;33m\u001b[0m\u001b[0m\n",
            "\u001b[1;31mKeyError\u001b[0m: 22005"
          ]
        }
      ],
      "source": [
        "dfm7[22005]"
      ]
    },
    {
      "cell_type": "markdown",
      "id": "683b0fb9",
      "metadata": {
        "id": "683b0fb9"
      },
      "source": [
        "once we set **Roll no** as index, it is possible to locate the data of any Student by passing Roll no to **loc** attribute"
      ]
    },
    {
      "cell_type": "code",
      "execution_count": null,
      "id": "47da528b",
      "metadata": {
        "id": "47da528b",
        "outputId": "bc119e0c-f4ed-45aa-c6c5-ba5cdfa7c508"
      },
      "outputs": [
        {
          "data": {
            "text/plain": [
              "name            vishnu\n",
              "maths               66\n",
              "physics             78\n",
              "chemistry           90\n",
              "year passing      2019\n",
              "Name: 22005, dtype: object"
            ]
          },
          "execution_count": 78,
          "metadata": {},
          "output_type": "execute_result"
        }
      ],
      "source": [
        "dfm7.loc[22005]"
      ]
    },
    {
      "cell_type": "code",
      "execution_count": null,
      "id": "3638a2d8",
      "metadata": {
        "id": "3638a2d8",
        "outputId": "14ebbc44-1bff-40a0-8096-997ca3267365"
      },
      "outputs": [
        {
          "data": {
            "text/plain": [
              "name            vishnu\n",
              "maths               66\n",
              "physics             78\n",
              "chemistry           90\n",
              "year passing      2019\n",
              "Name: 22005, dtype: object"
            ]
          },
          "execution_count": 76,
          "metadata": {},
          "output_type": "execute_result"
        }
      ],
      "source": [
        "dfm7.iloc[4]"
      ]
    },
    {
      "cell_type": "markdown",
      "id": "f9ffe18b",
      "metadata": {
        "id": "f9ffe18b"
      },
      "source": [
        "# Resetting the Index"
      ]
    },
    {
      "cell_type": "markdown",
      "id": "d4a42263",
      "metadata": {
        "id": "d4a42263"
      },
      "source": [
        "To reset the index value from **Roll no** back to auto generated index number, we can use **reset_index()** method with **inplace = True** option"
      ]
    },
    {
      "cell_type": "code",
      "execution_count": null,
      "id": "f625eb6b",
      "metadata": {
        "id": "f625eb6b",
        "outputId": "7bfe842e-04b3-4dad-cf00-c5f3b2e528dc"
      },
      "outputs": [
        {
          "data": {
            "text/html": [
              "<div>\n",
              "<style scoped>\n",
              "    .dataframe tbody tr th:only-of-type {\n",
              "        vertical-align: middle;\n",
              "    }\n",
              "\n",
              "    .dataframe tbody tr th {\n",
              "        vertical-align: top;\n",
              "    }\n",
              "\n",
              "    .dataframe thead th {\n",
              "        text-align: right;\n",
              "    }\n",
              "</style>\n",
              "<table border=\"1\" class=\"dataframe\">\n",
              "  <thead>\n",
              "    <tr style=\"text-align: right;\">\n",
              "      <th></th>\n",
              "      <th>name</th>\n",
              "      <th>maths</th>\n",
              "      <th>physics</th>\n",
              "      <th>chemistry</th>\n",
              "      <th>year passing</th>\n",
              "    </tr>\n",
              "    <tr>\n",
              "      <th>Roll no</th>\n",
              "      <th></th>\n",
              "      <th></th>\n",
              "      <th></th>\n",
              "      <th></th>\n",
              "      <th></th>\n",
              "    </tr>\n",
              "  </thead>\n",
              "  <tbody>\n",
              "    <tr>\n",
              "      <th>22001</th>\n",
              "      <td>pavan</td>\n",
              "      <td>95</td>\n",
              "      <td>60</td>\n",
              "      <td>50</td>\n",
              "      <td>2019</td>\n",
              "    </tr>\n",
              "    <tr>\n",
              "      <th>22002</th>\n",
              "      <td>anil</td>\n",
              "      <td>90</td>\n",
              "      <td>75</td>\n",
              "      <td>60</td>\n",
              "      <td>2018</td>\n",
              "    </tr>\n",
              "    <tr>\n",
              "      <th>22003</th>\n",
              "      <td>prashanth</td>\n",
              "      <td>89</td>\n",
              "      <td>85</td>\n",
              "      <td>75</td>\n",
              "      <td>2020</td>\n",
              "    </tr>\n",
              "    <tr>\n",
              "      <th>22004</th>\n",
              "      <td>deepak</td>\n",
              "      <td>85</td>\n",
              "      <td>69</td>\n",
              "      <td>54</td>\n",
              "      <td>2020</td>\n",
              "    </tr>\n",
              "    <tr>\n",
              "      <th>22005</th>\n",
              "      <td>vishnu</td>\n",
              "      <td>66</td>\n",
              "      <td>78</td>\n",
              "      <td>90</td>\n",
              "      <td>2019</td>\n",
              "    </tr>\n",
              "    <tr>\n",
              "      <th>22006</th>\n",
              "      <td>kalyan</td>\n",
              "      <td>90</td>\n",
              "      <td>60</td>\n",
              "      <td>40</td>\n",
              "      <td>2018</td>\n",
              "    </tr>\n",
              "    <tr>\n",
              "      <th>22007</th>\n",
              "      <td>abhay</td>\n",
              "      <td>70</td>\n",
              "      <td>75</td>\n",
              "      <td>50</td>\n",
              "      <td>2017</td>\n",
              "    </tr>\n",
              "    <tr>\n",
              "      <th>22008</th>\n",
              "      <td>arun</td>\n",
              "      <td>66</td>\n",
              "      <td>98</td>\n",
              "      <td>54</td>\n",
              "      <td>2015</td>\n",
              "    </tr>\n",
              "    <tr>\n",
              "      <th>22009</th>\n",
              "      <td>chaitanya</td>\n",
              "      <td>78</td>\n",
              "      <td>87</td>\n",
              "      <td>33</td>\n",
              "      <td>2017</td>\n",
              "    </tr>\n",
              "    <tr>\n",
              "      <th>220010</th>\n",
              "      <td>sandeep</td>\n",
              "      <td>80</td>\n",
              "      <td>45</td>\n",
              "      <td>60</td>\n",
              "      <td>2020</td>\n",
              "    </tr>\n",
              "  </tbody>\n",
              "</table>\n",
              "</div>"
            ],
            "text/plain": [
              "              name  maths  physics  chemistry  year passing\n",
              "Roll no                                                    \n",
              "22001        pavan     95       60         50          2019\n",
              "22002         anil     90       75         60          2018\n",
              "22003    prashanth     89       85         75          2020\n",
              "22004       deepak     85       69         54          2020\n",
              "22005       vishnu     66       78         90          2019\n",
              "22006       kalyan     90       60         40          2018\n",
              "22007        abhay     70       75         50          2017\n",
              "22008         arun     66       98         54          2015\n",
              "22009    chaitanya     78       87         33          2017\n",
              "220010     sandeep     80       45         60          2020"
            ]
          },
          "execution_count": 79,
          "metadata": {},
          "output_type": "execute_result"
        }
      ],
      "source": [
        "dfm7"
      ]
    },
    {
      "cell_type": "code",
      "execution_count": null,
      "id": "2bff9ea3",
      "metadata": {
        "id": "2bff9ea3",
        "outputId": "4d0dbfcb-99b8-4eb7-d5d1-6a3fd4a2dfe5"
      },
      "outputs": [
        {
          "data": {
            "text/html": [
              "<div>\n",
              "<style scoped>\n",
              "    .dataframe tbody tr th:only-of-type {\n",
              "        vertical-align: middle;\n",
              "    }\n",
              "\n",
              "    .dataframe tbody tr th {\n",
              "        vertical-align: top;\n",
              "    }\n",
              "\n",
              "    .dataframe thead th {\n",
              "        text-align: right;\n",
              "    }\n",
              "</style>\n",
              "<table border=\"1\" class=\"dataframe\">\n",
              "  <thead>\n",
              "    <tr style=\"text-align: right;\">\n",
              "      <th></th>\n",
              "      <th>Roll no</th>\n",
              "      <th>name</th>\n",
              "      <th>maths</th>\n",
              "      <th>physics</th>\n",
              "      <th>chemistry</th>\n",
              "      <th>year passing</th>\n",
              "    </tr>\n",
              "  </thead>\n",
              "  <tbody>\n",
              "    <tr>\n",
              "      <th>0</th>\n",
              "      <td>22001</td>\n",
              "      <td>pavan</td>\n",
              "      <td>95</td>\n",
              "      <td>60</td>\n",
              "      <td>50</td>\n",
              "      <td>2019</td>\n",
              "    </tr>\n",
              "    <tr>\n",
              "      <th>1</th>\n",
              "      <td>22002</td>\n",
              "      <td>anil</td>\n",
              "      <td>90</td>\n",
              "      <td>75</td>\n",
              "      <td>60</td>\n",
              "      <td>2018</td>\n",
              "    </tr>\n",
              "    <tr>\n",
              "      <th>2</th>\n",
              "      <td>22003</td>\n",
              "      <td>prashanth</td>\n",
              "      <td>89</td>\n",
              "      <td>85</td>\n",
              "      <td>75</td>\n",
              "      <td>2020</td>\n",
              "    </tr>\n",
              "    <tr>\n",
              "      <th>3</th>\n",
              "      <td>22004</td>\n",
              "      <td>deepak</td>\n",
              "      <td>85</td>\n",
              "      <td>69</td>\n",
              "      <td>54</td>\n",
              "      <td>2020</td>\n",
              "    </tr>\n",
              "    <tr>\n",
              "      <th>4</th>\n",
              "      <td>22005</td>\n",
              "      <td>vishnu</td>\n",
              "      <td>66</td>\n",
              "      <td>78</td>\n",
              "      <td>90</td>\n",
              "      <td>2019</td>\n",
              "    </tr>\n",
              "    <tr>\n",
              "      <th>5</th>\n",
              "      <td>22006</td>\n",
              "      <td>kalyan</td>\n",
              "      <td>90</td>\n",
              "      <td>60</td>\n",
              "      <td>40</td>\n",
              "      <td>2018</td>\n",
              "    </tr>\n",
              "    <tr>\n",
              "      <th>6</th>\n",
              "      <td>22007</td>\n",
              "      <td>abhay</td>\n",
              "      <td>70</td>\n",
              "      <td>75</td>\n",
              "      <td>50</td>\n",
              "      <td>2017</td>\n",
              "    </tr>\n",
              "    <tr>\n",
              "      <th>7</th>\n",
              "      <td>22008</td>\n",
              "      <td>arun</td>\n",
              "      <td>66</td>\n",
              "      <td>98</td>\n",
              "      <td>54</td>\n",
              "      <td>2015</td>\n",
              "    </tr>\n",
              "    <tr>\n",
              "      <th>8</th>\n",
              "      <td>22009</td>\n",
              "      <td>chaitanya</td>\n",
              "      <td>78</td>\n",
              "      <td>87</td>\n",
              "      <td>33</td>\n",
              "      <td>2017</td>\n",
              "    </tr>\n",
              "    <tr>\n",
              "      <th>9</th>\n",
              "      <td>220010</td>\n",
              "      <td>sandeep</td>\n",
              "      <td>80</td>\n",
              "      <td>45</td>\n",
              "      <td>60</td>\n",
              "      <td>2020</td>\n",
              "    </tr>\n",
              "  </tbody>\n",
              "</table>\n",
              "</div>"
            ],
            "text/plain": [
              "   Roll no       name  maths  physics  chemistry  year passing\n",
              "0    22001      pavan     95       60         50          2019\n",
              "1    22002       anil     90       75         60          2018\n",
              "2    22003  prashanth     89       85         75          2020\n",
              "3    22004     deepak     85       69         54          2020\n",
              "4    22005     vishnu     66       78         90          2019\n",
              "5    22006     kalyan     90       60         40          2018\n",
              "6    22007      abhay     70       75         50          2017\n",
              "7    22008       arun     66       98         54          2015\n",
              "8    22009  chaitanya     78       87         33          2017\n",
              "9   220010    sandeep     80       45         60          2020"
            ]
          },
          "execution_count": 80,
          "metadata": {},
          "output_type": "execute_result"
        }
      ],
      "source": [
        "dfm7.reset_index(inplace=True)\n",
        "dfm7"
      ]
    },
    {
      "cell_type": "markdown",
      "id": "579e96cc",
      "metadata": {
        "id": "579e96cc"
      },
      "source": [
        "# sorting the data"
      ]
    },
    {
      "cell_type": "markdown",
      "id": "63b842e2",
      "metadata": {
        "id": "63b842e2"
      },
      "source": [
        "To sort the rows of 'year of passing' column ino ascending order, we can use **sort_values()** method."
      ]
    },
    {
      "cell_type": "code",
      "execution_count": null,
      "id": "d287432b",
      "metadata": {
        "id": "d287432b",
        "outputId": "9671e17b-f4f0-4e77-e32f-2fb3d8c85518"
      },
      "outputs": [
        {
          "data": {
            "text/html": [
              "<div>\n",
              "<style scoped>\n",
              "    .dataframe tbody tr th:only-of-type {\n",
              "        vertical-align: middle;\n",
              "    }\n",
              "\n",
              "    .dataframe tbody tr th {\n",
              "        vertical-align: top;\n",
              "    }\n",
              "\n",
              "    .dataframe thead th {\n",
              "        text-align: right;\n",
              "    }\n",
              "</style>\n",
              "<table border=\"1\" class=\"dataframe\">\n",
              "  <thead>\n",
              "    <tr style=\"text-align: right;\">\n",
              "      <th></th>\n",
              "      <th>name</th>\n",
              "      <th>maths</th>\n",
              "      <th>physics</th>\n",
              "      <th>chemistry</th>\n",
              "      <th>year passing</th>\n",
              "    </tr>\n",
              "    <tr>\n",
              "      <th>Roll no</th>\n",
              "      <th></th>\n",
              "      <th></th>\n",
              "      <th></th>\n",
              "      <th></th>\n",
              "      <th></th>\n",
              "    </tr>\n",
              "  </thead>\n",
              "  <tbody>\n",
              "    <tr>\n",
              "      <th>22001</th>\n",
              "      <td>pavan</td>\n",
              "      <td>95</td>\n",
              "      <td>60</td>\n",
              "      <td>50</td>\n",
              "      <td>2019</td>\n",
              "    </tr>\n",
              "    <tr>\n",
              "      <th>22002</th>\n",
              "      <td>anil</td>\n",
              "      <td>90</td>\n",
              "      <td>75</td>\n",
              "      <td>60</td>\n",
              "      <td>2018</td>\n",
              "    </tr>\n",
              "    <tr>\n",
              "      <th>22003</th>\n",
              "      <td>prashanth</td>\n",
              "      <td>89</td>\n",
              "      <td>85</td>\n",
              "      <td>75</td>\n",
              "      <td>2020</td>\n",
              "    </tr>\n",
              "    <tr>\n",
              "      <th>22004</th>\n",
              "      <td>deepak</td>\n",
              "      <td>85</td>\n",
              "      <td>69</td>\n",
              "      <td>54</td>\n",
              "      <td>2020</td>\n",
              "    </tr>\n",
              "    <tr>\n",
              "      <th>22005</th>\n",
              "      <td>vishnu</td>\n",
              "      <td>66</td>\n",
              "      <td>78</td>\n",
              "      <td>90</td>\n",
              "      <td>2019</td>\n",
              "    </tr>\n",
              "    <tr>\n",
              "      <th>22006</th>\n",
              "      <td>kalyan</td>\n",
              "      <td>90</td>\n",
              "      <td>60</td>\n",
              "      <td>40</td>\n",
              "      <td>2018</td>\n",
              "    </tr>\n",
              "    <tr>\n",
              "      <th>22007</th>\n",
              "      <td>abhay</td>\n",
              "      <td>70</td>\n",
              "      <td>75</td>\n",
              "      <td>50</td>\n",
              "      <td>2017</td>\n",
              "    </tr>\n",
              "    <tr>\n",
              "      <th>22008</th>\n",
              "      <td>arun</td>\n",
              "      <td>66</td>\n",
              "      <td>98</td>\n",
              "      <td>54</td>\n",
              "      <td>2015</td>\n",
              "    </tr>\n",
              "    <tr>\n",
              "      <th>22009</th>\n",
              "      <td>chaitanya</td>\n",
              "      <td>78</td>\n",
              "      <td>87</td>\n",
              "      <td>33</td>\n",
              "      <td>2017</td>\n",
              "    </tr>\n",
              "    <tr>\n",
              "      <th>220010</th>\n",
              "      <td>sandeep</td>\n",
              "      <td>80</td>\n",
              "      <td>45</td>\n",
              "      <td>60</td>\n",
              "      <td>2020</td>\n",
              "    </tr>\n",
              "  </tbody>\n",
              "</table>\n",
              "</div>"
            ],
            "text/plain": [
              "              name  maths  physics  chemistry  year passing\n",
              "Roll no                                                    \n",
              "22001        pavan     95       60         50          2019\n",
              "22002         anil     90       75         60          2018\n",
              "22003    prashanth     89       85         75          2020\n",
              "22004       deepak     85       69         54          2020\n",
              "22005       vishnu     66       78         90          2019\n",
              "22006       kalyan     90       60         40          2018\n",
              "22007        abhay     70       75         50          2017\n",
              "22008         arun     66       98         54          2015\n",
              "22009    chaitanya     78       87         33          2017\n",
              "220010     sandeep     80       45         60          2020"
            ]
          },
          "execution_count": 82,
          "metadata": {},
          "output_type": "execute_result"
        }
      ],
      "source": [
        "dfm6.sort_values('year passing')\n",
        "dfm6"
      ]
    },
    {
      "cell_type": "code",
      "execution_count": null,
      "id": "88ae8447",
      "metadata": {
        "id": "88ae8447",
        "outputId": "99e342a2-bfb8-4f46-a2cf-f4ccf5a21d35"
      },
      "outputs": [
        {
          "data": {
            "text/html": [
              "<div>\n",
              "<style scoped>\n",
              "    .dataframe tbody tr th:only-of-type {\n",
              "        vertical-align: middle;\n",
              "    }\n",
              "\n",
              "    .dataframe tbody tr th {\n",
              "        vertical-align: top;\n",
              "    }\n",
              "\n",
              "    .dataframe thead th {\n",
              "        text-align: right;\n",
              "    }\n",
              "</style>\n",
              "<table border=\"1\" class=\"dataframe\">\n",
              "  <thead>\n",
              "    <tr style=\"text-align: right;\">\n",
              "      <th></th>\n",
              "      <th>name</th>\n",
              "      <th>maths</th>\n",
              "      <th>physics</th>\n",
              "      <th>chemistry</th>\n",
              "      <th>year passing</th>\n",
              "    </tr>\n",
              "    <tr>\n",
              "      <th>Roll no</th>\n",
              "      <th></th>\n",
              "      <th></th>\n",
              "      <th></th>\n",
              "      <th></th>\n",
              "      <th></th>\n",
              "    </tr>\n",
              "  </thead>\n",
              "  <tbody>\n",
              "    <tr>\n",
              "      <th>22008</th>\n",
              "      <td>arun</td>\n",
              "      <td>66</td>\n",
              "      <td>98</td>\n",
              "      <td>54</td>\n",
              "      <td>2015</td>\n",
              "    </tr>\n",
              "    <tr>\n",
              "      <th>22007</th>\n",
              "      <td>abhay</td>\n",
              "      <td>70</td>\n",
              "      <td>75</td>\n",
              "      <td>50</td>\n",
              "      <td>2017</td>\n",
              "    </tr>\n",
              "    <tr>\n",
              "      <th>22009</th>\n",
              "      <td>chaitanya</td>\n",
              "      <td>78</td>\n",
              "      <td>87</td>\n",
              "      <td>33</td>\n",
              "      <td>2017</td>\n",
              "    </tr>\n",
              "    <tr>\n",
              "      <th>22002</th>\n",
              "      <td>anil</td>\n",
              "      <td>90</td>\n",
              "      <td>75</td>\n",
              "      <td>60</td>\n",
              "      <td>2018</td>\n",
              "    </tr>\n",
              "    <tr>\n",
              "      <th>22006</th>\n",
              "      <td>kalyan</td>\n",
              "      <td>90</td>\n",
              "      <td>60</td>\n",
              "      <td>40</td>\n",
              "      <td>2018</td>\n",
              "    </tr>\n",
              "    <tr>\n",
              "      <th>22001</th>\n",
              "      <td>pavan</td>\n",
              "      <td>95</td>\n",
              "      <td>60</td>\n",
              "      <td>50</td>\n",
              "      <td>2019</td>\n",
              "    </tr>\n",
              "    <tr>\n",
              "      <th>22005</th>\n",
              "      <td>vishnu</td>\n",
              "      <td>66</td>\n",
              "      <td>78</td>\n",
              "      <td>90</td>\n",
              "      <td>2019</td>\n",
              "    </tr>\n",
              "    <tr>\n",
              "      <th>22003</th>\n",
              "      <td>prashanth</td>\n",
              "      <td>89</td>\n",
              "      <td>85</td>\n",
              "      <td>75</td>\n",
              "      <td>2020</td>\n",
              "    </tr>\n",
              "    <tr>\n",
              "      <th>22004</th>\n",
              "      <td>deepak</td>\n",
              "      <td>85</td>\n",
              "      <td>69</td>\n",
              "      <td>54</td>\n",
              "      <td>2020</td>\n",
              "    </tr>\n",
              "    <tr>\n",
              "      <th>220010</th>\n",
              "      <td>sandeep</td>\n",
              "      <td>80</td>\n",
              "      <td>45</td>\n",
              "      <td>60</td>\n",
              "      <td>2020</td>\n",
              "    </tr>\n",
              "  </tbody>\n",
              "</table>\n",
              "</div>"
            ],
            "text/plain": [
              "              name  maths  physics  chemistry  year passing\n",
              "Roll no                                                    \n",
              "22008         arun     66       98         54          2015\n",
              "22007        abhay     70       75         50          2017\n",
              "22009    chaitanya     78       87         33          2017\n",
              "22002         anil     90       75         60          2018\n",
              "22006       kalyan     90       60         40          2018\n",
              "22001        pavan     95       60         50          2019\n",
              "22005       vishnu     66       78         90          2019\n",
              "22003    prashanth     89       85         75          2020\n",
              "22004       deepak     85       69         54          2020\n",
              "220010     sandeep     80       45         60          2020"
            ]
          },
          "execution_count": 83,
          "metadata": {},
          "output_type": "execute_result"
        }
      ],
      "source": [
        "dfm8=dfm6.sort_values('year passing')\n",
        "dfm8"
      ]
    },
    {
      "cell_type": "markdown",
      "id": "6975d2f1",
      "metadata": {
        "id": "6975d2f1"
      },
      "source": [
        "# arrange the values in descending order"
      ]
    },
    {
      "cell_type": "code",
      "execution_count": null,
      "id": "6b6b4eea",
      "metadata": {
        "id": "6b6b4eea",
        "outputId": "48fb7d34-c368-4a81-f5e4-24acd0ec2fe7"
      },
      "outputs": [
        {
          "data": {
            "text/html": [
              "<div>\n",
              "<style scoped>\n",
              "    .dataframe tbody tr th:only-of-type {\n",
              "        vertical-align: middle;\n",
              "    }\n",
              "\n",
              "    .dataframe tbody tr th {\n",
              "        vertical-align: top;\n",
              "    }\n",
              "\n",
              "    .dataframe thead th {\n",
              "        text-align: right;\n",
              "    }\n",
              "</style>\n",
              "<table border=\"1\" class=\"dataframe\">\n",
              "  <thead>\n",
              "    <tr style=\"text-align: right;\">\n",
              "      <th></th>\n",
              "      <th>Roll no</th>\n",
              "      <th>name</th>\n",
              "      <th>maths</th>\n",
              "      <th>physics</th>\n",
              "      <th>chemistry</th>\n",
              "      <th>year passing</th>\n",
              "    </tr>\n",
              "  </thead>\n",
              "  <tbody>\n",
              "    <tr>\n",
              "      <th>2</th>\n",
              "      <td>22003</td>\n",
              "      <td>prashanth</td>\n",
              "      <td>89</td>\n",
              "      <td>85</td>\n",
              "      <td>75</td>\n",
              "      <td>2020</td>\n",
              "    </tr>\n",
              "    <tr>\n",
              "      <th>3</th>\n",
              "      <td>22004</td>\n",
              "      <td>deepak</td>\n",
              "      <td>85</td>\n",
              "      <td>69</td>\n",
              "      <td>54</td>\n",
              "      <td>2020</td>\n",
              "    </tr>\n",
              "    <tr>\n",
              "      <th>9</th>\n",
              "      <td>220010</td>\n",
              "      <td>sandeep</td>\n",
              "      <td>80</td>\n",
              "      <td>45</td>\n",
              "      <td>60</td>\n",
              "      <td>2020</td>\n",
              "    </tr>\n",
              "    <tr>\n",
              "      <th>0</th>\n",
              "      <td>22001</td>\n",
              "      <td>pavan</td>\n",
              "      <td>95</td>\n",
              "      <td>60</td>\n",
              "      <td>50</td>\n",
              "      <td>2019</td>\n",
              "    </tr>\n",
              "    <tr>\n",
              "      <th>4</th>\n",
              "      <td>22005</td>\n",
              "      <td>vishnu</td>\n",
              "      <td>66</td>\n",
              "      <td>78</td>\n",
              "      <td>90</td>\n",
              "      <td>2019</td>\n",
              "    </tr>\n",
              "    <tr>\n",
              "      <th>1</th>\n",
              "      <td>22002</td>\n",
              "      <td>anil</td>\n",
              "      <td>90</td>\n",
              "      <td>75</td>\n",
              "      <td>60</td>\n",
              "      <td>2018</td>\n",
              "    </tr>\n",
              "    <tr>\n",
              "      <th>5</th>\n",
              "      <td>22006</td>\n",
              "      <td>kalyan</td>\n",
              "      <td>90</td>\n",
              "      <td>60</td>\n",
              "      <td>40</td>\n",
              "      <td>2018</td>\n",
              "    </tr>\n",
              "    <tr>\n",
              "      <th>6</th>\n",
              "      <td>22007</td>\n",
              "      <td>abhay</td>\n",
              "      <td>70</td>\n",
              "      <td>75</td>\n",
              "      <td>50</td>\n",
              "      <td>2017</td>\n",
              "    </tr>\n",
              "    <tr>\n",
              "      <th>8</th>\n",
              "      <td>22009</td>\n",
              "      <td>chaitanya</td>\n",
              "      <td>78</td>\n",
              "      <td>87</td>\n",
              "      <td>33</td>\n",
              "      <td>2017</td>\n",
              "    </tr>\n",
              "    <tr>\n",
              "      <th>7</th>\n",
              "      <td>22008</td>\n",
              "      <td>arun</td>\n",
              "      <td>66</td>\n",
              "      <td>98</td>\n",
              "      <td>54</td>\n",
              "      <td>2015</td>\n",
              "    </tr>\n",
              "  </tbody>\n",
              "</table>\n",
              "</div>"
            ],
            "text/plain": [
              "   Roll no       name  maths  physics  chemistry  year passing\n",
              "2    22003  prashanth     89       85         75          2020\n",
              "3    22004     deepak     85       69         54          2020\n",
              "9   220010    sandeep     80       45         60          2020\n",
              "0    22001      pavan     95       60         50          2019\n",
              "4    22005     vishnu     66       78         90          2019\n",
              "1    22002       anil     90       75         60          2018\n",
              "5    22006     kalyan     90       60         40          2018\n",
              "6    22007      abhay     70       75         50          2017\n",
              "8    22009  chaitanya     78       87         33          2017\n",
              "7    22008       arun     66       98         54          2015"
            ]
          },
          "execution_count": 85,
          "metadata": {},
          "output_type": "execute_result"
        }
      ],
      "source": [
        "dfm9=dfm7.sort_values('year passing',ascending=False)\n",
        "dfm9"
      ]
    },
    {
      "cell_type": "markdown",
      "id": "8fd986da",
      "metadata": {
        "id": "8fd986da"
      },
      "source": [
        "# sorting on multiple columns"
      ]
    },
    {
      "cell_type": "markdown",
      "id": "af19122b",
      "metadata": {
        "id": "af19122b"
      },
      "source": [
        "this can be done using an option **by** in the sort_values() method."
      ]
    },
    {
      "cell_type": "code",
      "execution_count": null,
      "id": "51470ba5",
      "metadata": {
        "id": "51470ba5",
        "outputId": "c9089a31-e33e-4431-897b-1fd7989f6fd8"
      },
      "outputs": [
        {
          "data": {
            "text/html": [
              "<div>\n",
              "<style scoped>\n",
              "    .dataframe tbody tr th:only-of-type {\n",
              "        vertical-align: middle;\n",
              "    }\n",
              "\n",
              "    .dataframe tbody tr th {\n",
              "        vertical-align: top;\n",
              "    }\n",
              "\n",
              "    .dataframe thead th {\n",
              "        text-align: right;\n",
              "    }\n",
              "</style>\n",
              "<table border=\"1\" class=\"dataframe\">\n",
              "  <thead>\n",
              "    <tr style=\"text-align: right;\">\n",
              "      <th></th>\n",
              "      <th>Roll no</th>\n",
              "      <th>name</th>\n",
              "      <th>maths</th>\n",
              "      <th>physics</th>\n",
              "      <th>chemistry</th>\n",
              "      <th>year passing</th>\n",
              "    </tr>\n",
              "  </thead>\n",
              "  <tbody>\n",
              "    <tr>\n",
              "      <th>7</th>\n",
              "      <td>22008</td>\n",
              "      <td>arun</td>\n",
              "      <td>66</td>\n",
              "      <td>98</td>\n",
              "      <td>54</td>\n",
              "      <td>2015</td>\n",
              "    </tr>\n",
              "    <tr>\n",
              "      <th>8</th>\n",
              "      <td>22009</td>\n",
              "      <td>chaitanya</td>\n",
              "      <td>78</td>\n",
              "      <td>87</td>\n",
              "      <td>33</td>\n",
              "      <td>2017</td>\n",
              "    </tr>\n",
              "    <tr>\n",
              "      <th>6</th>\n",
              "      <td>22007</td>\n",
              "      <td>abhay</td>\n",
              "      <td>70</td>\n",
              "      <td>75</td>\n",
              "      <td>50</td>\n",
              "      <td>2017</td>\n",
              "    </tr>\n",
              "    <tr>\n",
              "      <th>5</th>\n",
              "      <td>22006</td>\n",
              "      <td>kalyan</td>\n",
              "      <td>90</td>\n",
              "      <td>60</td>\n",
              "      <td>40</td>\n",
              "      <td>2018</td>\n",
              "    </tr>\n",
              "    <tr>\n",
              "      <th>1</th>\n",
              "      <td>22002</td>\n",
              "      <td>anil</td>\n",
              "      <td>90</td>\n",
              "      <td>75</td>\n",
              "      <td>60</td>\n",
              "      <td>2018</td>\n",
              "    </tr>\n",
              "    <tr>\n",
              "      <th>4</th>\n",
              "      <td>22005</td>\n",
              "      <td>vishnu</td>\n",
              "      <td>66</td>\n",
              "      <td>78</td>\n",
              "      <td>90</td>\n",
              "      <td>2019</td>\n",
              "    </tr>\n",
              "    <tr>\n",
              "      <th>0</th>\n",
              "      <td>22001</td>\n",
              "      <td>pavan</td>\n",
              "      <td>95</td>\n",
              "      <td>60</td>\n",
              "      <td>50</td>\n",
              "      <td>2019</td>\n",
              "    </tr>\n",
              "    <tr>\n",
              "      <th>9</th>\n",
              "      <td>220010</td>\n",
              "      <td>sandeep</td>\n",
              "      <td>80</td>\n",
              "      <td>45</td>\n",
              "      <td>60</td>\n",
              "      <td>2020</td>\n",
              "    </tr>\n",
              "    <tr>\n",
              "      <th>3</th>\n",
              "      <td>22004</td>\n",
              "      <td>deepak</td>\n",
              "      <td>85</td>\n",
              "      <td>69</td>\n",
              "      <td>54</td>\n",
              "      <td>2020</td>\n",
              "    </tr>\n",
              "    <tr>\n",
              "      <th>2</th>\n",
              "      <td>22003</td>\n",
              "      <td>prashanth</td>\n",
              "      <td>89</td>\n",
              "      <td>85</td>\n",
              "      <td>75</td>\n",
              "      <td>2020</td>\n",
              "    </tr>\n",
              "  </tbody>\n",
              "</table>\n",
              "</div>"
            ],
            "text/plain": [
              "   Roll no       name  maths  physics  chemistry  year passing\n",
              "7    22008       arun     66       98         54          2015\n",
              "8    22009  chaitanya     78       87         33          2017\n",
              "6    22007      abhay     70       75         50          2017\n",
              "5    22006     kalyan     90       60         40          2018\n",
              "1    22002       anil     90       75         60          2018\n",
              "4    22005     vishnu     66       78         90          2019\n",
              "0    22001      pavan     95       60         50          2019\n",
              "9   220010    sandeep     80       45         60          2020\n",
              "3    22004     deepak     85       69         54          2020\n",
              "2    22003  prashanth     89       85         75          2020"
            ]
          },
          "execution_count": 87,
          "metadata": {},
          "output_type": "execute_result"
        }
      ],
      "source": [
        "#year passing in ascending order and Roll no are in descending order\n",
        "\n",
        "dfm9=dfm7.sort_values(by=['year passing','Roll no'],ascending=[True,False])\n",
        "dfm9\n",
        "\n",
        "#note: when two student having same 'year passing', then their Roll no sorted into descending order."
      ]
    },
    {
      "cell_type": "markdown",
      "id": "73b59c22",
      "metadata": {
        "id": "73b59c22"
      },
      "source": [
        "# Data cleansing\n",
        "\n",
        "filling the missing data or eliminating the missing data is called data cleansing"
      ]
    },
    {
      "cell_type": "markdown",
      "id": "7c1cbe1e",
      "metadata": {
        "id": "7c1cbe1e"
      },
      "source": [
        "# Handling missing data\n",
        "\n",
        "when we receive dat from various sources may not be perfect, that means there may be some missing data."
      ]
    },
    {
      "cell_type": "markdown",
      "id": "3a37e972",
      "metadata": {
        "id": "3a37e972"
      },
      "source": [
        "![image.png](attachment:image.png)"
      ]
    },
    {
      "cell_type": "markdown",
      "id": "e50fd1f5",
      "metadata": {
        "id": "e50fd1f5"
      },
      "source": [
        "when we convert data into dataframe, the missing data is represented by NaN(Not a Number). NaN is default marker for missing data"
      ]
    },
    {
      "cell_type": "code",
      "execution_count": null,
      "id": "b8eacdce",
      "metadata": {
        "id": "b8eacdce",
        "outputId": "224ae135-92a4-4d5f-e195-9d9ad4458712"
      },
      "outputs": [
        {
          "data": {
            "text/html": [
              "<div>\n",
              "<style scoped>\n",
              "    .dataframe tbody tr th:only-of-type {\n",
              "        vertical-align: middle;\n",
              "    }\n",
              "\n",
              "    .dataframe tbody tr th {\n",
              "        vertical-align: top;\n",
              "    }\n",
              "\n",
              "    .dataframe thead th {\n",
              "        text-align: right;\n",
              "    }\n",
              "</style>\n",
              "<table border=\"1\" class=\"dataframe\">\n",
              "  <thead>\n",
              "    <tr style=\"text-align: right;\">\n",
              "      <th></th>\n",
              "      <th>Roll no</th>\n",
              "      <th>name</th>\n",
              "      <th>maths</th>\n",
              "      <th>physics</th>\n",
              "      <th>chemistry</th>\n",
              "      <th>year passing</th>\n",
              "      <th>joining date</th>\n",
              "    </tr>\n",
              "  </thead>\n",
              "  <tbody>\n",
              "    <tr>\n",
              "      <th>0</th>\n",
              "      <td>22001.0</td>\n",
              "      <td>pavan</td>\n",
              "      <td>95.0</td>\n",
              "      <td>60.0</td>\n",
              "      <td>50</td>\n",
              "      <td>2019</td>\n",
              "      <td>10-01-2022</td>\n",
              "    </tr>\n",
              "    <tr>\n",
              "      <th>1</th>\n",
              "      <td>22002.0</td>\n",
              "      <td>anil</td>\n",
              "      <td>90.0</td>\n",
              "      <td>75.0</td>\n",
              "      <td>60</td>\n",
              "      <td>2018</td>\n",
              "      <td>11-05-2020</td>\n",
              "    </tr>\n",
              "    <tr>\n",
              "      <th>2</th>\n",
              "      <td>22003.0</td>\n",
              "      <td>prashanth</td>\n",
              "      <td>NaN</td>\n",
              "      <td>85.0</td>\n",
              "      <td>75</td>\n",
              "      <td>2020</td>\n",
              "      <td>25-03-2018</td>\n",
              "    </tr>\n",
              "    <tr>\n",
              "      <th>3</th>\n",
              "      <td>NaN</td>\n",
              "      <td>deepak</td>\n",
              "      <td>85.0</td>\n",
              "      <td>69.0</td>\n",
              "      <td>54</td>\n",
              "      <td>2020</td>\n",
              "      <td>23-06-2010</td>\n",
              "    </tr>\n",
              "    <tr>\n",
              "      <th>4</th>\n",
              "      <td>22005.0</td>\n",
              "      <td>vishnu</td>\n",
              "      <td>66.0</td>\n",
              "      <td>78.0</td>\n",
              "      <td>90</td>\n",
              "      <td>2019</td>\n",
              "      <td>30-06-2020</td>\n",
              "    </tr>\n",
              "    <tr>\n",
              "      <th>5</th>\n",
              "      <td>22006.0</td>\n",
              "      <td>kalyan</td>\n",
              "      <td>90.0</td>\n",
              "      <td>60.0</td>\n",
              "      <td>40</td>\n",
              "      <td>2018</td>\n",
              "      <td>NaN</td>\n",
              "    </tr>\n",
              "    <tr>\n",
              "      <th>6</th>\n",
              "      <td>22007.0</td>\n",
              "      <td>abhay</td>\n",
              "      <td>70.0</td>\n",
              "      <td>75.0</td>\n",
              "      <td>50</td>\n",
              "      <td>2017</td>\n",
              "      <td>11-12-2021</td>\n",
              "    </tr>\n",
              "    <tr>\n",
              "      <th>7</th>\n",
              "      <td>22008.0</td>\n",
              "      <td>arun</td>\n",
              "      <td>66.0</td>\n",
              "      <td>NaN</td>\n",
              "      <td>54</td>\n",
              "      <td>2015</td>\n",
              "      <td>21-02-2020</td>\n",
              "    </tr>\n",
              "    <tr>\n",
              "      <th>8</th>\n",
              "      <td>22009.0</td>\n",
              "      <td>NaN</td>\n",
              "      <td>78.0</td>\n",
              "      <td>87.0</td>\n",
              "      <td>33</td>\n",
              "      <td>2017</td>\n",
              "      <td>23-05-2021</td>\n",
              "    </tr>\n",
              "    <tr>\n",
              "      <th>9</th>\n",
              "      <td>220010.0</td>\n",
              "      <td>sandeep</td>\n",
              "      <td>80.0</td>\n",
              "      <td>45.0</td>\n",
              "      <td>60</td>\n",
              "      <td>2020</td>\n",
              "      <td>13-05-2019</td>\n",
              "    </tr>\n",
              "  </tbody>\n",
              "</table>\n",
              "</div>"
            ],
            "text/plain": [
              "    Roll no       name  maths  physics  chemistry  year passing joining date\n",
              "0   22001.0      pavan   95.0     60.0         50          2019   10-01-2022\n",
              "1   22002.0       anil   90.0     75.0         60          2018   11-05-2020\n",
              "2   22003.0  prashanth    NaN     85.0         75          2020   25-03-2018\n",
              "3       NaN     deepak   85.0     69.0         54          2020   23-06-2010\n",
              "4   22005.0     vishnu   66.0     78.0         90          2019   30-06-2020\n",
              "5   22006.0     kalyan   90.0     60.0         40          2018          NaN\n",
              "6   22007.0      abhay   70.0     75.0         50          2017   11-12-2021\n",
              "7   22008.0       arun   66.0      NaN         54          2015   21-02-2020\n",
              "8   22009.0        NaN   78.0     87.0         33          2017   23-05-2021\n",
              "9  220010.0    sandeep   80.0     45.0         60          2020   13-05-2019"
            ]
          },
          "execution_count": 114,
          "metadata": {},
          "output_type": "execute_result"
        }
      ],
      "source": [
        "\n",
        "dfm10=pd.read_csv('E:\\\\my youtube channel\\\\master python\\\\first page\\\\students_missing_data.csv')\n",
        "dfm10\n"
      ]
    },
    {
      "cell_type": "code",
      "execution_count": null,
      "id": "55d9a6a4",
      "metadata": {
        "id": "55d9a6a4",
        "outputId": "666ed196-3975-4016-e1aa-4cb91592d3c4"
      },
      "outputs": [
        {
          "data": {
            "text/html": [
              "<div>\n",
              "<style scoped>\n",
              "    .dataframe tbody tr th:only-of-type {\n",
              "        vertical-align: middle;\n",
              "    }\n",
              "\n",
              "    .dataframe tbody tr th {\n",
              "        vertical-align: top;\n",
              "    }\n",
              "\n",
              "    .dataframe thead th {\n",
              "        text-align: right;\n",
              "    }\n",
              "</style>\n",
              "<table border=\"1\" class=\"dataframe\">\n",
              "  <thead>\n",
              "    <tr style=\"text-align: right;\">\n",
              "      <th></th>\n",
              "      <th>Roll no</th>\n",
              "      <th>name</th>\n",
              "      <th>maths</th>\n",
              "      <th>physics</th>\n",
              "      <th>chemistry</th>\n",
              "      <th>year passing</th>\n",
              "      <th>joining date</th>\n",
              "    </tr>\n",
              "  </thead>\n",
              "  <tbody>\n",
              "    <tr>\n",
              "      <th>0</th>\n",
              "      <td>22001.0</td>\n",
              "      <td>pavan</td>\n",
              "      <td>95.0</td>\n",
              "      <td>60.0</td>\n",
              "      <td>50</td>\n",
              "      <td>2019</td>\n",
              "      <td>2022-10-01</td>\n",
              "    </tr>\n",
              "    <tr>\n",
              "      <th>1</th>\n",
              "      <td>22002.0</td>\n",
              "      <td>anil</td>\n",
              "      <td>90.0</td>\n",
              "      <td>75.0</td>\n",
              "      <td>60</td>\n",
              "      <td>2018</td>\n",
              "      <td>2020-11-05</td>\n",
              "    </tr>\n",
              "    <tr>\n",
              "      <th>2</th>\n",
              "      <td>22003.0</td>\n",
              "      <td>prashanth</td>\n",
              "      <td>NaN</td>\n",
              "      <td>85.0</td>\n",
              "      <td>75</td>\n",
              "      <td>2020</td>\n",
              "      <td>2018-03-25</td>\n",
              "    </tr>\n",
              "    <tr>\n",
              "      <th>3</th>\n",
              "      <td>NaN</td>\n",
              "      <td>deepak</td>\n",
              "      <td>85.0</td>\n",
              "      <td>69.0</td>\n",
              "      <td>54</td>\n",
              "      <td>2020</td>\n",
              "      <td>2010-06-23</td>\n",
              "    </tr>\n",
              "    <tr>\n",
              "      <th>4</th>\n",
              "      <td>22005.0</td>\n",
              "      <td>vishnu</td>\n",
              "      <td>66.0</td>\n",
              "      <td>78.0</td>\n",
              "      <td>90</td>\n",
              "      <td>2019</td>\n",
              "      <td>2020-06-30</td>\n",
              "    </tr>\n",
              "    <tr>\n",
              "      <th>5</th>\n",
              "      <td>22006.0</td>\n",
              "      <td>kalyan</td>\n",
              "      <td>90.0</td>\n",
              "      <td>60.0</td>\n",
              "      <td>40</td>\n",
              "      <td>2018</td>\n",
              "      <td>NaT</td>\n",
              "    </tr>\n",
              "    <tr>\n",
              "      <th>6</th>\n",
              "      <td>22007.0</td>\n",
              "      <td>abhay</td>\n",
              "      <td>70.0</td>\n",
              "      <td>75.0</td>\n",
              "      <td>50</td>\n",
              "      <td>2017</td>\n",
              "      <td>2021-11-12</td>\n",
              "    </tr>\n",
              "    <tr>\n",
              "      <th>7</th>\n",
              "      <td>22008.0</td>\n",
              "      <td>arun</td>\n",
              "      <td>66.0</td>\n",
              "      <td>NaN</td>\n",
              "      <td>54</td>\n",
              "      <td>2015</td>\n",
              "      <td>2020-02-21</td>\n",
              "    </tr>\n",
              "    <tr>\n",
              "      <th>8</th>\n",
              "      <td>22009.0</td>\n",
              "      <td>NaN</td>\n",
              "      <td>78.0</td>\n",
              "      <td>87.0</td>\n",
              "      <td>33</td>\n",
              "      <td>2017</td>\n",
              "      <td>2021-05-23</td>\n",
              "    </tr>\n",
              "    <tr>\n",
              "      <th>9</th>\n",
              "      <td>220010.0</td>\n",
              "      <td>sandeep</td>\n",
              "      <td>80.0</td>\n",
              "      <td>45.0</td>\n",
              "      <td>60</td>\n",
              "      <td>2020</td>\n",
              "      <td>2019-05-13</td>\n",
              "    </tr>\n",
              "  </tbody>\n",
              "</table>\n",
              "</div>"
            ],
            "text/plain": [
              "    Roll no       name  maths  physics  chemistry  year passing joining date\n",
              "0   22001.0      pavan   95.0     60.0         50          2019   2022-10-01\n",
              "1   22002.0       anil   90.0     75.0         60          2018   2020-11-05\n",
              "2   22003.0  prashanth    NaN     85.0         75          2020   2018-03-25\n",
              "3       NaN     deepak   85.0     69.0         54          2020   2010-06-23\n",
              "4   22005.0     vishnu   66.0     78.0         90          2019   2020-06-30\n",
              "5   22006.0     kalyan   90.0     60.0         40          2018          NaT\n",
              "6   22007.0      abhay   70.0     75.0         50          2017   2021-11-12\n",
              "7   22008.0       arun   66.0      NaN         54          2015   2020-02-21\n",
              "8   22009.0        NaN   78.0     87.0         33          2017   2021-05-23\n",
              "9  220010.0    sandeep   80.0     45.0         60          2020   2019-05-13"
            ]
          },
          "execution_count": 103,
          "metadata": {},
          "output_type": "execute_result"
        }
      ],
      "source": [
        "dfm11=pd.read_csv('E:\\\\my youtube channel\\\\master python\\\\first page\\\\students_missing_data.csv',parse_dates=['joining date'])\n",
        "dfm11"
      ]
    },
    {
      "cell_type": "markdown",
      "id": "17ac998f",
      "metadata": {
        "id": "17ac998f"
      },
      "source": [
        "# how to manage the missing data\n",
        "we can use **fillna()** method to replace the NaN or NaT values by a specified value."
      ]
    },
    {
      "cell_type": "code",
      "execution_count": null,
      "id": "63f4f6a0",
      "metadata": {
        "id": "63f4f6a0",
        "outputId": "db94b15d-73a4-460d-a249-801e9ffcd256"
      },
      "outputs": [
        {
          "data": {
            "text/html": [
              "<div>\n",
              "<style scoped>\n",
              "    .dataframe tbody tr th:only-of-type {\n",
              "        vertical-align: middle;\n",
              "    }\n",
              "\n",
              "    .dataframe tbody tr th {\n",
              "        vertical-align: top;\n",
              "    }\n",
              "\n",
              "    .dataframe thead th {\n",
              "        text-align: right;\n",
              "    }\n",
              "</style>\n",
              "<table border=\"1\" class=\"dataframe\">\n",
              "  <thead>\n",
              "    <tr style=\"text-align: right;\">\n",
              "      <th></th>\n",
              "      <th>Roll no</th>\n",
              "      <th>name</th>\n",
              "      <th>maths</th>\n",
              "      <th>physics</th>\n",
              "      <th>chemistry</th>\n",
              "      <th>year passing</th>\n",
              "      <th>joining date</th>\n",
              "    </tr>\n",
              "  </thead>\n",
              "  <tbody>\n",
              "    <tr>\n",
              "      <th>0</th>\n",
              "      <td>22001.0</td>\n",
              "      <td>pavan</td>\n",
              "      <td>95.0</td>\n",
              "      <td>60.0</td>\n",
              "      <td>50</td>\n",
              "      <td>2019</td>\n",
              "      <td>2022-10-01 00:00:00</td>\n",
              "    </tr>\n",
              "    <tr>\n",
              "      <th>1</th>\n",
              "      <td>22002.0</td>\n",
              "      <td>anil</td>\n",
              "      <td>90.0</td>\n",
              "      <td>75.0</td>\n",
              "      <td>60</td>\n",
              "      <td>2018</td>\n",
              "      <td>2020-11-05 00:00:00</td>\n",
              "    </tr>\n",
              "    <tr>\n",
              "      <th>2</th>\n",
              "      <td>22003.0</td>\n",
              "      <td>prashanth</td>\n",
              "      <td>0.0</td>\n",
              "      <td>85.0</td>\n",
              "      <td>75</td>\n",
              "      <td>2020</td>\n",
              "      <td>2018-03-25 00:00:00</td>\n",
              "    </tr>\n",
              "    <tr>\n",
              "      <th>3</th>\n",
              "      <td>0.0</td>\n",
              "      <td>deepak</td>\n",
              "      <td>85.0</td>\n",
              "      <td>69.0</td>\n",
              "      <td>54</td>\n",
              "      <td>2020</td>\n",
              "      <td>2010-06-23 00:00:00</td>\n",
              "    </tr>\n",
              "    <tr>\n",
              "      <th>4</th>\n",
              "      <td>22005.0</td>\n",
              "      <td>vishnu</td>\n",
              "      <td>66.0</td>\n",
              "      <td>78.0</td>\n",
              "      <td>90</td>\n",
              "      <td>2019</td>\n",
              "      <td>2020-06-30 00:00:00</td>\n",
              "    </tr>\n",
              "    <tr>\n",
              "      <th>5</th>\n",
              "      <td>22006.0</td>\n",
              "      <td>kalyan</td>\n",
              "      <td>90.0</td>\n",
              "      <td>60.0</td>\n",
              "      <td>40</td>\n",
              "      <td>2018</td>\n",
              "      <td>0</td>\n",
              "    </tr>\n",
              "    <tr>\n",
              "      <th>6</th>\n",
              "      <td>22007.0</td>\n",
              "      <td>abhay</td>\n",
              "      <td>70.0</td>\n",
              "      <td>75.0</td>\n",
              "      <td>50</td>\n",
              "      <td>2017</td>\n",
              "      <td>2021-11-12 00:00:00</td>\n",
              "    </tr>\n",
              "    <tr>\n",
              "      <th>7</th>\n",
              "      <td>22008.0</td>\n",
              "      <td>arun</td>\n",
              "      <td>66.0</td>\n",
              "      <td>0.0</td>\n",
              "      <td>54</td>\n",
              "      <td>2015</td>\n",
              "      <td>2020-02-21 00:00:00</td>\n",
              "    </tr>\n",
              "    <tr>\n",
              "      <th>8</th>\n",
              "      <td>22009.0</td>\n",
              "      <td>0</td>\n",
              "      <td>78.0</td>\n",
              "      <td>87.0</td>\n",
              "      <td>33</td>\n",
              "      <td>2017</td>\n",
              "      <td>2021-05-23 00:00:00</td>\n",
              "    </tr>\n",
              "    <tr>\n",
              "      <th>9</th>\n",
              "      <td>220010.0</td>\n",
              "      <td>sandeep</td>\n",
              "      <td>80.0</td>\n",
              "      <td>45.0</td>\n",
              "      <td>60</td>\n",
              "      <td>2020</td>\n",
              "      <td>2019-05-13 00:00:00</td>\n",
              "    </tr>\n",
              "  </tbody>\n",
              "</table>\n",
              "</div>"
            ],
            "text/plain": [
              "    Roll no       name  maths  physics  chemistry  year passing  \\\n",
              "0   22001.0      pavan   95.0     60.0         50          2019   \n",
              "1   22002.0       anil   90.0     75.0         60          2018   \n",
              "2   22003.0  prashanth    0.0     85.0         75          2020   \n",
              "3       0.0     deepak   85.0     69.0         54          2020   \n",
              "4   22005.0     vishnu   66.0     78.0         90          2019   \n",
              "5   22006.0     kalyan   90.0     60.0         40          2018   \n",
              "6   22007.0      abhay   70.0     75.0         50          2017   \n",
              "7   22008.0       arun   66.0      0.0         54          2015   \n",
              "8   22009.0          0   78.0     87.0         33          2017   \n",
              "9  220010.0    sandeep   80.0     45.0         60          2020   \n",
              "\n",
              "          joining date  \n",
              "0  2022-10-01 00:00:00  \n",
              "1  2020-11-05 00:00:00  \n",
              "2  2018-03-25 00:00:00  \n",
              "3  2010-06-23 00:00:00  \n",
              "4  2020-06-30 00:00:00  \n",
              "5                    0  \n",
              "6  2021-11-12 00:00:00  \n",
              "7  2020-02-21 00:00:00  \n",
              "8  2021-05-23 00:00:00  \n",
              "9  2019-05-13 00:00:00  "
            ]
          },
          "execution_count": 104,
          "metadata": {},
          "output_type": "execute_result"
        }
      ],
      "source": [
        "#fill NaN or NaT values by 0\n",
        "\n",
        "dfm12=dfm10.fillna(0)\n",
        "dfm12"
      ]
    },
    {
      "cell_type": "code",
      "execution_count": null,
      "id": "3e7c4fb3",
      "metadata": {
        "id": "3e7c4fb3",
        "outputId": "abd639a5-8f78-49b4-d958-364305380295"
      },
      "outputs": [
        {
          "data": {
            "text/html": [
              "<div>\n",
              "<style scoped>\n",
              "    .dataframe tbody tr th:only-of-type {\n",
              "        vertical-align: middle;\n",
              "    }\n",
              "\n",
              "    .dataframe tbody tr th {\n",
              "        vertical-align: top;\n",
              "    }\n",
              "\n",
              "    .dataframe thead th {\n",
              "        text-align: right;\n",
              "    }\n",
              "</style>\n",
              "<table border=\"1\" class=\"dataframe\">\n",
              "  <thead>\n",
              "    <tr style=\"text-align: right;\">\n",
              "      <th></th>\n",
              "      <th>Roll no</th>\n",
              "      <th>name</th>\n",
              "      <th>maths</th>\n",
              "      <th>physics</th>\n",
              "      <th>chemistry</th>\n",
              "      <th>year passing</th>\n",
              "      <th>joining date</th>\n",
              "    </tr>\n",
              "  </thead>\n",
              "  <tbody>\n",
              "    <tr>\n",
              "      <th>0</th>\n",
              "      <td>22001.0</td>\n",
              "      <td>pavan</td>\n",
              "      <td>95.0</td>\n",
              "      <td>60.0</td>\n",
              "      <td>50</td>\n",
              "      <td>2019</td>\n",
              "      <td>2022-10-01</td>\n",
              "    </tr>\n",
              "    <tr>\n",
              "      <th>1</th>\n",
              "      <td>22002.0</td>\n",
              "      <td>anil</td>\n",
              "      <td>90.0</td>\n",
              "      <td>75.0</td>\n",
              "      <td>60</td>\n",
              "      <td>2018</td>\n",
              "      <td>2020-11-05</td>\n",
              "    </tr>\n",
              "    <tr>\n",
              "      <th>2</th>\n",
              "      <td>22003.0</td>\n",
              "      <td>prashanth</td>\n",
              "      <td>NaN</td>\n",
              "      <td>85.0</td>\n",
              "      <td>75</td>\n",
              "      <td>2020</td>\n",
              "      <td>2018-03-25</td>\n",
              "    </tr>\n",
              "    <tr>\n",
              "      <th>3</th>\n",
              "      <td>NaN</td>\n",
              "      <td>deepak</td>\n",
              "      <td>85.0</td>\n",
              "      <td>69.0</td>\n",
              "      <td>54</td>\n",
              "      <td>2020</td>\n",
              "      <td>2010-06-23</td>\n",
              "    </tr>\n",
              "    <tr>\n",
              "      <th>4</th>\n",
              "      <td>22005.0</td>\n",
              "      <td>vishnu</td>\n",
              "      <td>66.0</td>\n",
              "      <td>78.0</td>\n",
              "      <td>90</td>\n",
              "      <td>2019</td>\n",
              "      <td>2020-06-30</td>\n",
              "    </tr>\n",
              "    <tr>\n",
              "      <th>5</th>\n",
              "      <td>22006.0</td>\n",
              "      <td>kalyan</td>\n",
              "      <td>90.0</td>\n",
              "      <td>60.0</td>\n",
              "      <td>40</td>\n",
              "      <td>2018</td>\n",
              "      <td>NaT</td>\n",
              "    </tr>\n",
              "    <tr>\n",
              "      <th>6</th>\n",
              "      <td>22007.0</td>\n",
              "      <td>abhay</td>\n",
              "      <td>70.0</td>\n",
              "      <td>75.0</td>\n",
              "      <td>50</td>\n",
              "      <td>2017</td>\n",
              "      <td>2021-11-12</td>\n",
              "    </tr>\n",
              "    <tr>\n",
              "      <th>7</th>\n",
              "      <td>22008.0</td>\n",
              "      <td>arun</td>\n",
              "      <td>66.0</td>\n",
              "      <td>NaN</td>\n",
              "      <td>54</td>\n",
              "      <td>2015</td>\n",
              "      <td>2020-02-21</td>\n",
              "    </tr>\n",
              "    <tr>\n",
              "      <th>8</th>\n",
              "      <td>22009.0</td>\n",
              "      <td>NaN</td>\n",
              "      <td>78.0</td>\n",
              "      <td>87.0</td>\n",
              "      <td>33</td>\n",
              "      <td>2017</td>\n",
              "      <td>2021-05-23</td>\n",
              "    </tr>\n",
              "    <tr>\n",
              "      <th>9</th>\n",
              "      <td>220010.0</td>\n",
              "      <td>sandeep</td>\n",
              "      <td>80.0</td>\n",
              "      <td>45.0</td>\n",
              "      <td>60</td>\n",
              "      <td>2020</td>\n",
              "      <td>2019-05-13</td>\n",
              "    </tr>\n",
              "  </tbody>\n",
              "</table>\n",
              "</div>"
            ],
            "text/plain": [
              "    Roll no       name  maths  physics  chemistry  year passing joining date\n",
              "0   22001.0      pavan   95.0     60.0         50          2019   2022-10-01\n",
              "1   22002.0       anil   90.0     75.0         60          2018   2020-11-05\n",
              "2   22003.0  prashanth    NaN     85.0         75          2020   2018-03-25\n",
              "3       NaN     deepak   85.0     69.0         54          2020   2010-06-23\n",
              "4   22005.0     vishnu   66.0     78.0         90          2019   2020-06-30\n",
              "5   22006.0     kalyan   90.0     60.0         40          2018          NaT\n",
              "6   22007.0      abhay   70.0     75.0         50          2017   2021-11-12\n",
              "7   22008.0       arun   66.0      NaN         54          2015   2020-02-21\n",
              "8   22009.0        NaN   78.0     87.0         33          2017   2021-05-23\n",
              "9  220010.0    sandeep   80.0     45.0         60          2020   2019-05-13"
            ]
          },
          "execution_count": 105,
          "metadata": {},
          "output_type": "execute_result"
        }
      ],
      "source": [
        "dfm11"
      ]
    },
    {
      "cell_type": "code",
      "execution_count": null,
      "id": "f6b2b780",
      "metadata": {
        "id": "f6b2b780",
        "outputId": "39fe5243-a5dd-46de-b2ee-ee0cadf977df"
      },
      "outputs": [
        {
          "data": {
            "text/html": [
              "<div>\n",
              "<style scoped>\n",
              "    .dataframe tbody tr th:only-of-type {\n",
              "        vertical-align: middle;\n",
              "    }\n",
              "\n",
              "    .dataframe tbody tr th {\n",
              "        vertical-align: top;\n",
              "    }\n",
              "\n",
              "    .dataframe thead th {\n",
              "        text-align: right;\n",
              "    }\n",
              "</style>\n",
              "<table border=\"1\" class=\"dataframe\">\n",
              "  <thead>\n",
              "    <tr style=\"text-align: right;\">\n",
              "      <th></th>\n",
              "      <th>Roll no</th>\n",
              "      <th>name</th>\n",
              "      <th>maths</th>\n",
              "      <th>physics</th>\n",
              "      <th>chemistry</th>\n",
              "      <th>year passing</th>\n",
              "      <th>joining date</th>\n",
              "    </tr>\n",
              "  </thead>\n",
              "  <tbody>\n",
              "    <tr>\n",
              "      <th>0</th>\n",
              "      <td>22001.0</td>\n",
              "      <td>pavan</td>\n",
              "      <td>95.0</td>\n",
              "      <td>60.0</td>\n",
              "      <td>50</td>\n",
              "      <td>2019</td>\n",
              "      <td>2022-10-01 00:00:00</td>\n",
              "    </tr>\n",
              "    <tr>\n",
              "      <th>1</th>\n",
              "      <td>22002.0</td>\n",
              "      <td>anil</td>\n",
              "      <td>90.0</td>\n",
              "      <td>75.0</td>\n",
              "      <td>60</td>\n",
              "      <td>2018</td>\n",
              "      <td>2020-11-05 00:00:00</td>\n",
              "    </tr>\n",
              "    <tr>\n",
              "      <th>2</th>\n",
              "      <td>22003.0</td>\n",
              "      <td>prashanth</td>\n",
              "      <td>0.0</td>\n",
              "      <td>85.0</td>\n",
              "      <td>75</td>\n",
              "      <td>2020</td>\n",
              "      <td>2018-03-25 00:00:00</td>\n",
              "    </tr>\n",
              "    <tr>\n",
              "      <th>3</th>\n",
              "      <td>0.0</td>\n",
              "      <td>deepak</td>\n",
              "      <td>85.0</td>\n",
              "      <td>69.0</td>\n",
              "      <td>54</td>\n",
              "      <td>2020</td>\n",
              "      <td>2010-06-23 00:00:00</td>\n",
              "    </tr>\n",
              "    <tr>\n",
              "      <th>4</th>\n",
              "      <td>22005.0</td>\n",
              "      <td>vishnu</td>\n",
              "      <td>66.0</td>\n",
              "      <td>78.0</td>\n",
              "      <td>90</td>\n",
              "      <td>2019</td>\n",
              "      <td>2020-06-30 00:00:00</td>\n",
              "    </tr>\n",
              "    <tr>\n",
              "      <th>5</th>\n",
              "      <td>22006.0</td>\n",
              "      <td>kalyan</td>\n",
              "      <td>90.0</td>\n",
              "      <td>60.0</td>\n",
              "      <td>40</td>\n",
              "      <td>2018</td>\n",
              "      <td>0</td>\n",
              "    </tr>\n",
              "    <tr>\n",
              "      <th>6</th>\n",
              "      <td>22007.0</td>\n",
              "      <td>abhay</td>\n",
              "      <td>70.0</td>\n",
              "      <td>75.0</td>\n",
              "      <td>50</td>\n",
              "      <td>2017</td>\n",
              "      <td>2021-11-12 00:00:00</td>\n",
              "    </tr>\n",
              "    <tr>\n",
              "      <th>7</th>\n",
              "      <td>22008.0</td>\n",
              "      <td>arun</td>\n",
              "      <td>66.0</td>\n",
              "      <td>0.0</td>\n",
              "      <td>54</td>\n",
              "      <td>2015</td>\n",
              "      <td>2020-02-21 00:00:00</td>\n",
              "    </tr>\n",
              "    <tr>\n",
              "      <th>8</th>\n",
              "      <td>22009.0</td>\n",
              "      <td>0</td>\n",
              "      <td>78.0</td>\n",
              "      <td>87.0</td>\n",
              "      <td>33</td>\n",
              "      <td>2017</td>\n",
              "      <td>2021-05-23 00:00:00</td>\n",
              "    </tr>\n",
              "    <tr>\n",
              "      <th>9</th>\n",
              "      <td>220010.0</td>\n",
              "      <td>sandeep</td>\n",
              "      <td>80.0</td>\n",
              "      <td>45.0</td>\n",
              "      <td>60</td>\n",
              "      <td>2020</td>\n",
              "      <td>2019-05-13 00:00:00</td>\n",
              "    </tr>\n",
              "  </tbody>\n",
              "</table>\n",
              "</div>"
            ],
            "text/plain": [
              "    Roll no       name  maths  physics  chemistry  year passing  \\\n",
              "0   22001.0      pavan   95.0     60.0         50          2019   \n",
              "1   22002.0       anil   90.0     75.0         60          2018   \n",
              "2   22003.0  prashanth    0.0     85.0         75          2020   \n",
              "3       0.0     deepak   85.0     69.0         54          2020   \n",
              "4   22005.0     vishnu   66.0     78.0         90          2019   \n",
              "5   22006.0     kalyan   90.0     60.0         40          2018   \n",
              "6   22007.0      abhay   70.0     75.0         50          2017   \n",
              "7   22008.0       arun   66.0      0.0         54          2015   \n",
              "8   22009.0          0   78.0     87.0         33          2017   \n",
              "9  220010.0    sandeep   80.0     45.0         60          2020   \n",
              "\n",
              "          joining date  \n",
              "0  2022-10-01 00:00:00  \n",
              "1  2020-11-05 00:00:00  \n",
              "2  2018-03-25 00:00:00  \n",
              "3  2010-06-23 00:00:00  \n",
              "4  2020-06-30 00:00:00  \n",
              "5                    0  \n",
              "6  2021-11-12 00:00:00  \n",
              "7  2020-02-21 00:00:00  \n",
              "8  2021-05-23 00:00:00  \n",
              "9  2019-05-13 00:00:00  "
            ]
          },
          "execution_count": 107,
          "metadata": {},
          "output_type": "execute_result"
        }
      ],
      "source": [
        "dfm13=dfm11.fillna(0)\n",
        "dfm13"
      ]
    },
    {
      "cell_type": "markdown",
      "id": "2960a697",
      "metadata": {
        "id": "2960a697"
      },
      "source": [
        "# but is it useful?\n",
        "it is not useful as it is filling any type of column with zero. we can fill each column with a different value by passing the column names and the value to be used to fill in the column."
      ]
    },
    {
      "cell_type": "code",
      "execution_count": null,
      "id": "653f7f1c",
      "metadata": {
        "id": "653f7f1c",
        "outputId": "0c2bb2eb-8e9c-483c-98f4-8a65c0a13f0d"
      },
      "outputs": [
        {
          "data": {
            "text/html": [
              "<div>\n",
              "<style scoped>\n",
              "    .dataframe tbody tr th:only-of-type {\n",
              "        vertical-align: middle;\n",
              "    }\n",
              "\n",
              "    .dataframe tbody tr th {\n",
              "        vertical-align: top;\n",
              "    }\n",
              "\n",
              "    .dataframe thead th {\n",
              "        text-align: right;\n",
              "    }\n",
              "</style>\n",
              "<table border=\"1\" class=\"dataframe\">\n",
              "  <thead>\n",
              "    <tr style=\"text-align: right;\">\n",
              "      <th></th>\n",
              "      <th>Roll no</th>\n",
              "      <th>name</th>\n",
              "      <th>maths</th>\n",
              "      <th>physics</th>\n",
              "      <th>chemistry</th>\n",
              "      <th>year passing</th>\n",
              "      <th>joining date</th>\n",
              "    </tr>\n",
              "  </thead>\n",
              "  <tbody>\n",
              "    <tr>\n",
              "      <th>0</th>\n",
              "      <td>22001.0</td>\n",
              "      <td>pavan</td>\n",
              "      <td>95.0</td>\n",
              "      <td>60.0</td>\n",
              "      <td>50</td>\n",
              "      <td>2019</td>\n",
              "      <td>10-01-2022</td>\n",
              "    </tr>\n",
              "    <tr>\n",
              "      <th>1</th>\n",
              "      <td>22002.0</td>\n",
              "      <td>anil</td>\n",
              "      <td>90.0</td>\n",
              "      <td>75.0</td>\n",
              "      <td>60</td>\n",
              "      <td>2018</td>\n",
              "      <td>11-05-2020</td>\n",
              "    </tr>\n",
              "    <tr>\n",
              "      <th>2</th>\n",
              "      <td>22003.0</td>\n",
              "      <td>prashanth</td>\n",
              "      <td>0.0</td>\n",
              "      <td>85.0</td>\n",
              "      <td>75</td>\n",
              "      <td>2020</td>\n",
              "      <td>25-03-2018</td>\n",
              "    </tr>\n",
              "    <tr>\n",
              "      <th>3</th>\n",
              "      <td>0.0</td>\n",
              "      <td>deepak</td>\n",
              "      <td>85.0</td>\n",
              "      <td>69.0</td>\n",
              "      <td>54</td>\n",
              "      <td>2020</td>\n",
              "      <td>23-06-2010</td>\n",
              "    </tr>\n",
              "    <tr>\n",
              "      <th>4</th>\n",
              "      <td>22005.0</td>\n",
              "      <td>vishnu</td>\n",
              "      <td>66.0</td>\n",
              "      <td>78.0</td>\n",
              "      <td>90</td>\n",
              "      <td>2019</td>\n",
              "      <td>30-06-2020</td>\n",
              "    </tr>\n",
              "    <tr>\n",
              "      <th>5</th>\n",
              "      <td>22006.0</td>\n",
              "      <td>kalyan</td>\n",
              "      <td>90.0</td>\n",
              "      <td>60.0</td>\n",
              "      <td>40</td>\n",
              "      <td>2018</td>\n",
              "      <td>00-00-00</td>\n",
              "    </tr>\n",
              "    <tr>\n",
              "      <th>6</th>\n",
              "      <td>22007.0</td>\n",
              "      <td>abhay</td>\n",
              "      <td>70.0</td>\n",
              "      <td>75.0</td>\n",
              "      <td>50</td>\n",
              "      <td>2017</td>\n",
              "      <td>11-12-2021</td>\n",
              "    </tr>\n",
              "    <tr>\n",
              "      <th>7</th>\n",
              "      <td>22008.0</td>\n",
              "      <td>arun</td>\n",
              "      <td>66.0</td>\n",
              "      <td>0.0</td>\n",
              "      <td>54</td>\n",
              "      <td>2015</td>\n",
              "      <td>21-02-2020</td>\n",
              "    </tr>\n",
              "    <tr>\n",
              "      <th>8</th>\n",
              "      <td>22009.0</td>\n",
              "      <td>missing name</td>\n",
              "      <td>78.0</td>\n",
              "      <td>87.0</td>\n",
              "      <td>33</td>\n",
              "      <td>2017</td>\n",
              "      <td>23-05-2021</td>\n",
              "    </tr>\n",
              "    <tr>\n",
              "      <th>9</th>\n",
              "      <td>220010.0</td>\n",
              "      <td>sandeep</td>\n",
              "      <td>80.0</td>\n",
              "      <td>45.0</td>\n",
              "      <td>60</td>\n",
              "      <td>2020</td>\n",
              "      <td>13-05-2019</td>\n",
              "    </tr>\n",
              "  </tbody>\n",
              "</table>\n",
              "</div>"
            ],
            "text/plain": [
              "    Roll no          name  maths  physics  chemistry  year passing  \\\n",
              "0   22001.0         pavan   95.0     60.0         50          2019   \n",
              "1   22002.0          anil   90.0     75.0         60          2018   \n",
              "2   22003.0     prashanth    0.0     85.0         75          2020   \n",
              "3       0.0        deepak   85.0     69.0         54          2020   \n",
              "4   22005.0        vishnu   66.0     78.0         90          2019   \n",
              "5   22006.0        kalyan   90.0     60.0         40          2018   \n",
              "6   22007.0         abhay   70.0     75.0         50          2017   \n",
              "7   22008.0          arun   66.0      0.0         54          2015   \n",
              "8   22009.0  missing name   78.0     87.0         33          2017   \n",
              "9  220010.0       sandeep   80.0     45.0         60          2020   \n",
              "\n",
              "  joining date  \n",
              "0   10-01-2022  \n",
              "1   11-05-2020  \n",
              "2   25-03-2018  \n",
              "3   23-06-2010  \n",
              "4   30-06-2020  \n",
              "5     00-00-00  \n",
              "6   11-12-2021  \n",
              "7   21-02-2020  \n",
              "8   23-05-2021  \n",
              "9   13-05-2019  "
            ]
          },
          "execution_count": 115,
          "metadata": {},
          "output_type": "execute_result"
        }
      ],
      "source": [
        "dfm14=dfm10.fillna({'Roll no':0,'name':'missing name','maths':0,'physics':0,'chemistry':0,'year passing':0,'joining date':'00-00-00'})\n",
        "dfm14"
      ]
    },
    {
      "cell_type": "markdown",
      "id": "db42aa20",
      "metadata": {
        "id": "db42aa20"
      },
      "source": [
        "# if we don't want the missing data and want to remove those rows having NaN and NaT"
      ]
    },
    {
      "cell_type": "markdown",
      "id": "13db65d6",
      "metadata": {
        "id": "13db65d6"
      },
      "source": [
        "we can use **dropna()** method"
      ]
    },
    {
      "cell_type": "code",
      "execution_count": null,
      "id": "ef614adf",
      "metadata": {
        "id": "ef614adf",
        "outputId": "a75d95a5-e808-4b89-93fb-0dfdac709685"
      },
      "outputs": [
        {
          "data": {
            "text/html": [
              "<div>\n",
              "<style scoped>\n",
              "    .dataframe tbody tr th:only-of-type {\n",
              "        vertical-align: middle;\n",
              "    }\n",
              "\n",
              "    .dataframe tbody tr th {\n",
              "        vertical-align: top;\n",
              "    }\n",
              "\n",
              "    .dataframe thead th {\n",
              "        text-align: right;\n",
              "    }\n",
              "</style>\n",
              "<table border=\"1\" class=\"dataframe\">\n",
              "  <thead>\n",
              "    <tr style=\"text-align: right;\">\n",
              "      <th></th>\n",
              "      <th>Roll no</th>\n",
              "      <th>name</th>\n",
              "      <th>maths</th>\n",
              "      <th>physics</th>\n",
              "      <th>chemistry</th>\n",
              "      <th>year passing</th>\n",
              "      <th>joining date</th>\n",
              "    </tr>\n",
              "  </thead>\n",
              "  <tbody>\n",
              "    <tr>\n",
              "      <th>0</th>\n",
              "      <td>22001.0</td>\n",
              "      <td>pavan</td>\n",
              "      <td>95.0</td>\n",
              "      <td>60.0</td>\n",
              "      <td>50</td>\n",
              "      <td>2019</td>\n",
              "      <td>10-01-2022</td>\n",
              "    </tr>\n",
              "    <tr>\n",
              "      <th>1</th>\n",
              "      <td>22002.0</td>\n",
              "      <td>anil</td>\n",
              "      <td>90.0</td>\n",
              "      <td>75.0</td>\n",
              "      <td>60</td>\n",
              "      <td>2018</td>\n",
              "      <td>11-05-2020</td>\n",
              "    </tr>\n",
              "    <tr>\n",
              "      <th>4</th>\n",
              "      <td>22005.0</td>\n",
              "      <td>vishnu</td>\n",
              "      <td>66.0</td>\n",
              "      <td>78.0</td>\n",
              "      <td>90</td>\n",
              "      <td>2019</td>\n",
              "      <td>30-06-2020</td>\n",
              "    </tr>\n",
              "    <tr>\n",
              "      <th>6</th>\n",
              "      <td>22007.0</td>\n",
              "      <td>abhay</td>\n",
              "      <td>70.0</td>\n",
              "      <td>75.0</td>\n",
              "      <td>50</td>\n",
              "      <td>2017</td>\n",
              "      <td>11-12-2021</td>\n",
              "    </tr>\n",
              "    <tr>\n",
              "      <th>9</th>\n",
              "      <td>220010.0</td>\n",
              "      <td>sandeep</td>\n",
              "      <td>80.0</td>\n",
              "      <td>45.0</td>\n",
              "      <td>60</td>\n",
              "      <td>2020</td>\n",
              "      <td>13-05-2019</td>\n",
              "    </tr>\n",
              "  </tbody>\n",
              "</table>\n",
              "</div>"
            ],
            "text/plain": [
              "    Roll no     name  maths  physics  chemistry  year passing joining date\n",
              "0   22001.0    pavan   95.0     60.0         50          2019   10-01-2022\n",
              "1   22002.0     anil   90.0     75.0         60          2018   11-05-2020\n",
              "4   22005.0   vishnu   66.0     78.0         90          2019   30-06-2020\n",
              "6   22007.0    abhay   70.0     75.0         50          2017   11-12-2021\n",
              "9  220010.0  sandeep   80.0     45.0         60          2020   13-05-2019"
            ]
          },
          "execution_count": 117,
          "metadata": {},
          "output_type": "execute_result"
        }
      ],
      "source": [
        "dfm14=dfm10.dropna()\n",
        "dfm14"
      ]
    },
    {
      "cell_type": "code",
      "execution_count": null,
      "id": "7af181e6",
      "metadata": {
        "id": "7af181e6"
      },
      "outputs": [],
      "source": [
        ""
      ]
    },
    {
      "cell_type": "markdown",
      "source": [
        "Data visualization."
      ],
      "metadata": {
        "id": "rPvlCPDH1Knt"
      },
      "id": "rPvlCPDH1Knt"
    },
    {
      "cell_type": "code",
      "execution_count": null,
      "id": "88a71e39",
      "metadata": {
        "id": "88a71e39"
      },
      "outputs": [],
      "source": [
        "import pandas as pd\n",
        "import matplotlib.pyplot as plt\n"
      ]
    },
    {
      "cell_type": "code",
      "execution_count": null,
      "id": "975bb780",
      "metadata": {
        "id": "975bb780"
      },
      "outputs": [],
      "source": [
        "df=pd.read_csv('/content/students.csv')"
      ]
    },
    {
      "cell_type": "code",
      "execution_count": null,
      "id": "64252e70",
      "metadata": {
        "colab": {
          "base_uri": "https://localhost:8080/",
          "height": 363
        },
        "id": "64252e70",
        "outputId": "7f59ec47-6054-4296-9c62-0e093197e4e5"
      },
      "outputs": [
        {
          "output_type": "execute_result",
          "data": {
            "text/html": [
              "\n",
              "  <div id=\"df-2b651a2b-53d2-43e4-8d67-4567b4f25210\">\n",
              "    <div class=\"colab-df-container\">\n",
              "      <div>\n",
              "<style scoped>\n",
              "    .dataframe tbody tr th:only-of-type {\n",
              "        vertical-align: middle;\n",
              "    }\n",
              "\n",
              "    .dataframe tbody tr th {\n",
              "        vertical-align: top;\n",
              "    }\n",
              "\n",
              "    .dataframe thead th {\n",
              "        text-align: right;\n",
              "    }\n",
              "</style>\n",
              "<table border=\"1\" class=\"dataframe\">\n",
              "  <thead>\n",
              "    <tr style=\"text-align: right;\">\n",
              "      <th></th>\n",
              "      <th>Roll no</th>\n",
              "      <th>name</th>\n",
              "      <th>maths</th>\n",
              "      <th>physics</th>\n",
              "      <th>chemistry</th>\n",
              "      <th>year passing</th>\n",
              "    </tr>\n",
              "  </thead>\n",
              "  <tbody>\n",
              "    <tr>\n",
              "      <th>0</th>\n",
              "      <td>22001</td>\n",
              "      <td>pavan</td>\n",
              "      <td>95</td>\n",
              "      <td>60</td>\n",
              "      <td>50</td>\n",
              "      <td>2019</td>\n",
              "    </tr>\n",
              "    <tr>\n",
              "      <th>1</th>\n",
              "      <td>22002</td>\n",
              "      <td>anil</td>\n",
              "      <td>90</td>\n",
              "      <td>75</td>\n",
              "      <td>60</td>\n",
              "      <td>2018</td>\n",
              "    </tr>\n",
              "    <tr>\n",
              "      <th>2</th>\n",
              "      <td>22003</td>\n",
              "      <td>prashanth</td>\n",
              "      <td>89</td>\n",
              "      <td>85</td>\n",
              "      <td>75</td>\n",
              "      <td>2020</td>\n",
              "    </tr>\n",
              "    <tr>\n",
              "      <th>3</th>\n",
              "      <td>22004</td>\n",
              "      <td>deepak</td>\n",
              "      <td>85</td>\n",
              "      <td>69</td>\n",
              "      <td>54</td>\n",
              "      <td>2020</td>\n",
              "    </tr>\n",
              "    <tr>\n",
              "      <th>4</th>\n",
              "      <td>22005</td>\n",
              "      <td>vishnu</td>\n",
              "      <td>66</td>\n",
              "      <td>78</td>\n",
              "      <td>90</td>\n",
              "      <td>2019</td>\n",
              "    </tr>\n",
              "    <tr>\n",
              "      <th>5</th>\n",
              "      <td>22006</td>\n",
              "      <td>kalyan</td>\n",
              "      <td>90</td>\n",
              "      <td>60</td>\n",
              "      <td>40</td>\n",
              "      <td>2018</td>\n",
              "    </tr>\n",
              "    <tr>\n",
              "      <th>6</th>\n",
              "      <td>22007</td>\n",
              "      <td>abhay</td>\n",
              "      <td>70</td>\n",
              "      <td>75</td>\n",
              "      <td>50</td>\n",
              "      <td>2017</td>\n",
              "    </tr>\n",
              "    <tr>\n",
              "      <th>7</th>\n",
              "      <td>22008</td>\n",
              "      <td>arun</td>\n",
              "      <td>66</td>\n",
              "      <td>98</td>\n",
              "      <td>54</td>\n",
              "      <td>2015</td>\n",
              "    </tr>\n",
              "    <tr>\n",
              "      <th>8</th>\n",
              "      <td>22009</td>\n",
              "      <td>chaitanya</td>\n",
              "      <td>78</td>\n",
              "      <td>87</td>\n",
              "      <td>33</td>\n",
              "      <td>2017</td>\n",
              "    </tr>\n",
              "    <tr>\n",
              "      <th>9</th>\n",
              "      <td>220010</td>\n",
              "      <td>sandeep</td>\n",
              "      <td>80</td>\n",
              "      <td>45</td>\n",
              "      <td>60</td>\n",
              "      <td>2020</td>\n",
              "    </tr>\n",
              "  </tbody>\n",
              "</table>\n",
              "</div>\n",
              "      <button class=\"colab-df-convert\" onclick=\"convertToInteractive('df-2b651a2b-53d2-43e4-8d67-4567b4f25210')\"\n",
              "              title=\"Convert this dataframe to an interactive table.\"\n",
              "              style=\"display:none;\">\n",
              "        \n",
              "  <svg xmlns=\"http://www.w3.org/2000/svg\" height=\"24px\"viewBox=\"0 0 24 24\"\n",
              "       width=\"24px\">\n",
              "    <path d=\"M0 0h24v24H0V0z\" fill=\"none\"/>\n",
              "    <path d=\"M18.56 5.44l.94 2.06.94-2.06 2.06-.94-2.06-.94-.94-2.06-.94 2.06-2.06.94zm-11 1L8.5 8.5l.94-2.06 2.06-.94-2.06-.94L8.5 2.5l-.94 2.06-2.06.94zm10 10l.94 2.06.94-2.06 2.06-.94-2.06-.94-.94-2.06-.94 2.06-2.06.94z\"/><path d=\"M17.41 7.96l-1.37-1.37c-.4-.4-.92-.59-1.43-.59-.52 0-1.04.2-1.43.59L10.3 9.45l-7.72 7.72c-.78.78-.78 2.05 0 2.83L4 21.41c.39.39.9.59 1.41.59.51 0 1.02-.2 1.41-.59l7.78-7.78 2.81-2.81c.8-.78.8-2.07 0-2.86zM5.41 20L4 18.59l7.72-7.72 1.47 1.35L5.41 20z\"/>\n",
              "  </svg>\n",
              "      </button>\n",
              "      \n",
              "  <style>\n",
              "    .colab-df-container {\n",
              "      display:flex;\n",
              "      flex-wrap:wrap;\n",
              "      gap: 12px;\n",
              "    }\n",
              "\n",
              "    .colab-df-convert {\n",
              "      background-color: #E8F0FE;\n",
              "      border: none;\n",
              "      border-radius: 50%;\n",
              "      cursor: pointer;\n",
              "      display: none;\n",
              "      fill: #1967D2;\n",
              "      height: 32px;\n",
              "      padding: 0 0 0 0;\n",
              "      width: 32px;\n",
              "    }\n",
              "\n",
              "    .colab-df-convert:hover {\n",
              "      background-color: #E2EBFA;\n",
              "      box-shadow: 0px 1px 2px rgba(60, 64, 67, 0.3), 0px 1px 3px 1px rgba(60, 64, 67, 0.15);\n",
              "      fill: #174EA6;\n",
              "    }\n",
              "\n",
              "    [theme=dark] .colab-df-convert {\n",
              "      background-color: #3B4455;\n",
              "      fill: #D2E3FC;\n",
              "    }\n",
              "\n",
              "    [theme=dark] .colab-df-convert:hover {\n",
              "      background-color: #434B5C;\n",
              "      box-shadow: 0px 1px 3px 1px rgba(0, 0, 0, 0.15);\n",
              "      filter: drop-shadow(0px 1px 2px rgba(0, 0, 0, 0.3));\n",
              "      fill: #FFFFFF;\n",
              "    }\n",
              "  </style>\n",
              "\n",
              "      <script>\n",
              "        const buttonEl =\n",
              "          document.querySelector('#df-2b651a2b-53d2-43e4-8d67-4567b4f25210 button.colab-df-convert');\n",
              "        buttonEl.style.display =\n",
              "          google.colab.kernel.accessAllowed ? 'block' : 'none';\n",
              "\n",
              "        async function convertToInteractive(key) {\n",
              "          const element = document.querySelector('#df-2b651a2b-53d2-43e4-8d67-4567b4f25210');\n",
              "          const dataTable =\n",
              "            await google.colab.kernel.invokeFunction('convertToInteractive',\n",
              "                                                     [key], {});\n",
              "          if (!dataTable) return;\n",
              "\n",
              "          const docLinkHtml = 'Like what you see? Visit the ' +\n",
              "            '<a target=\"_blank\" href=https://colab.research.google.com/notebooks/data_table.ipynb>data table notebook</a>'\n",
              "            + ' to learn more about interactive tables.';\n",
              "          element.innerHTML = '';\n",
              "          dataTable['output_type'] = 'display_data';\n",
              "          await google.colab.output.renderOutput(dataTable, element);\n",
              "          const docLink = document.createElement('div');\n",
              "          docLink.innerHTML = docLinkHtml;\n",
              "          element.appendChild(docLink);\n",
              "        }\n",
              "      </script>\n",
              "    </div>\n",
              "  </div>\n",
              "  "
            ],
            "text/plain": [
              "   Roll no       name  maths  physics  chemistry  year passing\n",
              "0    22001      pavan     95       60         50          2019\n",
              "1    22002       anil     90       75         60          2018\n",
              "2    22003  prashanth     89       85         75          2020\n",
              "3    22004     deepak     85       69         54          2020\n",
              "4    22005     vishnu     66       78         90          2019\n",
              "5    22006     kalyan     90       60         40          2018\n",
              "6    22007      abhay     70       75         50          2017\n",
              "7    22008       arun     66       98         54          2015\n",
              "8    22009  chaitanya     78       87         33          2017\n",
              "9   220010    sandeep     80       45         60          2020"
            ]
          },
          "metadata": {},
          "execution_count": 3
        }
      ],
      "source": [
        "df"
      ]
    },
    {
      "cell_type": "code",
      "execution_count": null,
      "id": "18c7e4b6",
      "metadata": {
        "colab": {
          "base_uri": "https://localhost:8080/",
          "height": 283
        },
        "id": "18c7e4b6",
        "outputId": "1965da18-c260-408e-bb74-0886eb731a33"
      },
      "outputs": [
        {
          "output_type": "execute_result",
          "data": {
            "text/plain": [
              "<BarContainer object of 10 artists>"
            ]
          },
          "metadata": {},
          "execution_count": 14
        },
        {
          "output_type": "display_data",
          "data": {
            "image/png": "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\n",
            "text/plain": [
              "<Figure size 432x288 with 1 Axes>"
            ]
          },
          "metadata": {
            "needs_background": "light"
          }
        }
      ],
      "source": [
        "x=df['name']\n",
        "y=df['maths']\n",
        "plt.bar(x,y)"
      ]
    },
    {
      "cell_type": "code",
      "execution_count": null,
      "id": "80ab5971",
      "metadata": {
        "id": "80ab5971"
      },
      "outputs": [],
      "source": [
        ""
      ]
    },
    {
      "cell_type": "code",
      "execution_count": null,
      "id": "bf1b4034",
      "metadata": {
        "id": "bf1b4034"
      },
      "outputs": [],
      "source": [
        ""
      ]
    },
    {
      "cell_type": "code",
      "execution_count": null,
      "id": "f7e0c1a3",
      "metadata": {
        "id": "f7e0c1a3"
      },
      "outputs": [],
      "source": [
        ""
      ]
    },
    {
      "cell_type": "code",
      "execution_count": null,
      "id": "2b91773d",
      "metadata": {
        "id": "2b91773d"
      },
      "outputs": [],
      "source": [
        ""
      ]
    },
    {
      "cell_type": "code",
      "execution_count": null,
      "id": "8fce0639",
      "metadata": {
        "id": "8fce0639"
      },
      "outputs": [],
      "source": [
        ""
      ]
    },
    {
      "cell_type": "code",
      "execution_count": null,
      "id": "abd7ed35",
      "metadata": {
        "id": "abd7ed35"
      },
      "outputs": [],
      "source": [
        ""
      ]
    },
    {
      "cell_type": "code",
      "execution_count": null,
      "id": "7af65ec1",
      "metadata": {
        "id": "7af65ec1"
      },
      "outputs": [],
      "source": [
        ""
      ]
    },
    {
      "cell_type": "code",
      "execution_count": null,
      "id": "6a945935",
      "metadata": {
        "id": "6a945935"
      },
      "outputs": [],
      "source": [
        ""
      ]
    }
  ],
  "metadata": {
    "kernelspec": {
      "display_name": "Python 3 (ipykernel)",
      "language": "python",
      "name": "python3"
    },
    "language_info": {
      "codemirror_mode": {
        "name": "ipython",
        "version": 3
      },
      "file_extension": ".py",
      "mimetype": "text/x-python",
      "name": "python",
      "nbconvert_exporter": "python",
      "pygments_lexer": "ipython3",
      "version": "3.8.5"
    },
    "colab": {
      "name": "data science part1.ipynb",
      "provenance": [],
      "collapsed_sections": [
        "063d110f",
        "35ef0b72",
        "7f5d62be",
        "10c99d74",
        "22efda7e",
        "375187e0",
        "ca0858a9",
        "dd4311cf",
        "bc31675f",
        "3cd1c9e2",
        "605f92af",
        "1f0dd91b",
        "e827d911",
        "f9ffe18b",
        "579e96cc",
        "6975d2f1",
        "8fd986da",
        "73b59c22",
        "7c1cbe1e",
        "17ac998f",
        "2960a697",
        "db42aa20"
      ],
      "include_colab_link": true
    }
  },
  "nbformat": 4,
  "nbformat_minor": 5
}
