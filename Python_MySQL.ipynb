{
  "cells": [
    {
      "cell_type": "markdown",
      "metadata": {
        "id": "view-in-github",
        "colab_type": "text"
      },
      "source": [
        "<a href=\"https://colab.research.google.com/github/kalyan-81/DataScience-using-Python/blob/main/Python_MySQL.ipynb\" target=\"_parent\"><img src=\"https://colab.research.google.com/assets/colab-badge.svg\" alt=\"Open In Colab\"/></a>"
      ]
    },
    {
      "cell_type": "markdown",
      "id": "784ccbcd",
      "metadata": {
        "id": "784ccbcd"
      },
      "source": [
        "# CHAPTER: PYTHON'S DATABASE CONNECTIVITY\n",
        "The data may be related to employees in the organization or the operational data like proudct information, raw material prices, sales information, profits and losses.\\\n",
        "Without data, no organization will survive. Hence, data is very important and it should never be lost.\n",
        "\n",
        "# DBMS\n",
        "\n",
        "To store data, we can use a flile or a database.\\\n",
        "A file stores data in the secondary storage device, like hard disk, either in text format or binary format.\n",
        "\n",
        "\n",
        "A database represents the collection of data. Just like a file, we can store the data into a database.\\\n",
        "Once the data is stored in a database, we need to perform some operations on data, for example modifying the existing data, deleting the unwanted data, or retrieving the data from data base, etc.\n",
        "\n",
        "To perform such operations, a database comes with a software this is called a database management system(DBMS).\n",
        "\n",
        "**DBMS = database + software to manage the data**\n",
        "\n",
        "# Examples of DBMS:\n",
        "* MySQL\n",
        "* Oracle\n",
        "* Sybase\n",
        "* SQL server,etc\n",
        "\n",
        " # when we have files to handle data, why we need a DBMS?\n",
        " \n",
        " # Advantages of DBMS over Files\n",
        " \n",
        "* If we go for files, we have to write a lot of programming.\n",
        "     * **Example**\n",
        "          * To store data into a file\n",
        "          * To retrieve the data\n",
        "          * To modify data\n",
        "  A lot of programmer's time is consumed in developing these programs.\n",
        "      \n",
        "      \n",
        "* If we use DBMS we can achieve all these using simple tasks without writing any program.\n",
        "  \n",
        "     * we coan store data \n",
        "     * retrieve data\n",
        "     * modify or delete it\n",
        "      by giving simple commands.\n",
        "      \n",
        "   **These commands are written in a language called SQL(structured query language)**\n",
        "      \n",
        "      \n",
        " \n",
        "* Files are not efficient in handling large volumes of data. It would be difficult task to enter large into a file or retrieving it from a file. **but DBMS can handle large volumes of data efficiently and easily**\n",
        "\n",
        "* When multiple users are accessing the data concurrently from the same file, there are changes of wrong results or inconsistent changes to the existing data. **DBMS can take care of Such problems**\n",
        "\n",
        "* Once the changes are made to the file, we cannot restore back them. **Incase of DBMS we can restore the previous state of data by rolling back the changes**\n",
        "\n",
        "* Files offers very weak security of data,**whereas, DBMS offers very good pretection for the data.**\n",
        "\n",
        "# Types of databases used with Python\n",
        "\n",
        "* some of the important databases which can be connected through python are\n",
        " * MySQL\n",
        " * Oracle\n",
        " * Microsoft SQL Server\n",
        " * Sybase\n",
        " * Informix\n",
        " * Firebird, etc.\n",
        " In this tutorial we will focus on \n",
        " * MySQL\n",
        " * Oracle\n",
        " \n",
        " # Installation of MySQL Database software\n",
        " \n",
        " * MySQL is an open source database software that is used by many top development companies to store and retrieve data.\n",
        " * MySQL can manage several databases at a time.\n",
        " * The data in databases stored in the form of tables.\n",
        " * A table contains several number of rows and columns of data.\n",
        " \n",
        " since we want to work with MySQL database in Python language, first of all we should have MySQL software installed on our computer system.\n",
        " \n",
        " 1. Open the mysql.com website and download MySQL installer and install it.\n",
        " \n",
        " Install MySQL Driver\n",
        "Python needs a MySQL driver to access the MySQL database.\n",
        "\n",
        "In this tutorial we will use the driver \"MySQL Connector\".\n",
        "\n",
        "We recommend that you use PIP to install \"MySQL Connector\".\n",
        "\n",
        "PIP is most likely already installed in your Python environment.\n",
        "  \n",
        "      "
      ]
    },
    {
      "cell_type": "code",
      "execution_count": null,
      "id": "24fd3eb4",
      "metadata": {
        "id": "24fd3eb4",
        "outputId": "88e7a208-258a-4e8b-fc53-5c7da3863426"
      },
      "outputs": [
        {
          "name": "stdout",
          "output_type": "stream",
          "text": [
            "Collecting mysqlclient\n",
            "  Downloading mysqlclient-2.1.0-cp38-cp38-win_amd64.whl (180 kB)\n",
            "Installing collected packages: mysqlclient\n",
            "Successfully installed mysqlclient-2.1.0\n",
            "Note: you may need to restart the kernel to use updated packages.\n"
          ]
        }
      ],
      "source": [
        "pip install mysqlclient"
      ]
    },
    {
      "cell_type": "code",
      "execution_count": null,
      "id": "986d64e6",
      "metadata": {
        "id": "986d64e6"
      },
      "outputs": [],
      "source": [
        "from jupyter_client.manager import KernelManager"
      ]
    },
    {
      "cell_type": "code",
      "execution_count": null,
      "id": "4d1d7cfc",
      "metadata": {
        "id": "4d1d7cfc",
        "outputId": "5fd5602d-851a-4448-8f37-a4355da28ee0"
      },
      "outputs": [
        {
          "name": "stdout",
          "output_type": "stream",
          "text": [
            "\n",
            "Please wait a moment while I gather a list of all available modules...\n",
            "\n"
          ]
        },
        {
          "name": "stderr",
          "output_type": "stream",
          "text": [
            "C:\\Users\\home\\miniconda3\\lib\\site-packages\\skimage\\viewer\\utils\\__init__.py:1: UserWarning: Recommended matplotlib backend is `Agg` for full skimage.viewer functionality.\n",
            "  from .core import *\n",
            "NOTE: Redirects are currently not supported in Windows or MacOs.\n",
            "Created a temporary directory at C:\\Users\\home\\AppData\\Local\\Temp\\tmpqdd6vxpd\n",
            "C:\\Users\\home\\miniconda3\\lib\\pkgutil.py:107: VisibleDeprecationWarning: zmq.eventloop.minitornado is deprecated in pyzmq 14.0 and will be removed.\n",
            "    Install tornado itself to use zmq with the tornado IOLoop.\n",
            "    \n",
            "  yield from walk_packages(path, info.name+'.', onerror)\n"
          ]
        },
        {
          "name": "stdout",
          "output_type": "stream",
          "text": [
            "Cython              click               mistune             sspicon\n",
            "IPython             cmath               mkl                 stat\n",
            "MySQLdb             cmd                 mkl_fft             statistics\n",
            "OpenSSL             code                mkl_random          statsmodels\n",
            "PIL                 codecs              mmap                storemagic\n",
            "PyQt5               codeop              mmapfile            string\n",
            "__future__          collections         mmsystem            stringprep\n",
            "_abc                colorama            modulefinder        struct\n",
            "_ast                colorsys            modules             subprocess\n",
            "_asyncio            commctrl            msilib              sunau\n",
            "_bisect             compileall          msvcrt              symbol\n",
            "_blake2             concurrent          multidict           sympyprinting\n",
            "_bootlocale         conda               multiprocessing     symtable\n",
            "_bz2                conda_env           mysql               sys\n",
            "_cffi_backend       conda_package_handling mysqlx              sysconfig\n",
            "_codecs             configparser        nbclassic           tabnanny\n",
            "_codecs_cn          contextlib          nbclient            tarfile\n",
            "_codecs_hk          contextvars         nbconvert           telnetlib\n",
            "_codecs_iso2022     copy                nbformat            tempfile\n",
            "_codecs_jp          copyreg             nest_asyncio        tensorboard\n",
            "_codecs_kr          coverage            netbios             tensorboard_data_server\n",
            "_codecs_tw          crypt               netrc               tensorboard_plugin_wit\n",
            "_collections        cryptography        networkx            tensorflow\n",
            "_collections_abc    csv                 nntplib             tensorflow_estimator\n",
            "_compat_pickle      ctypes              notebook            tensorflow_io_gcs_filesystem\n",
            "_compression        curses              nt                  termcolor\n",
            "_contextvars        cv2                 ntpath              terminado\n",
            "_csv                cv2_excises1        ntsecuritycon       test\n",
            "_ctypes             cv2_getting_start_with_images nturl2path          test_pycosat\n",
            "_ctypes_test        cwp                 numbers             testpath\n",
            "_datetime           cycler              numpy               tests\n",
            "_decimal            cython              oauthlib            textwrap\n",
            "_distutils_hack     cythonmagic         odbc                this\n",
            "_dummy_thread       dataclasses         olefile             threading\n",
            "_elementtree        datetime            opcode              threadpoolctl\n",
            "_functools          dateutil            openpyxl            tifffile\n",
            "_hashlib            dbi                 operator            time\n",
            "_heapq              dbm                 opt_einsum          timeit\n",
            "_imp                dde                 optparse            timer\n",
            "_io                 debugpy             os                  tkinter\n",
            "_json               decimal             packaging           token\n",
            "_locale             decorator           pandas              tokenize\n",
            "_lsprof             defusedxml          pandocfilters       torch\n",
            "_lzma               difflib             parser              torchvision\n",
            "_markupbase         dis                 parso               tornado\n",
            "_md5                distutils           pasta               tqdm\n",
            "_msi                doctest             pathlib             trace\n",
            "_multibytecodec     dummy_threading     patsy               traceback\n",
            "_multiprocessing    easyocr             pdb                 tracemalloc\n",
            "_mysql_connector    editdistance        perfmon             traitlets\n",
            "_mysqlxpb           efficientnet        pickle              tty\n",
            "_nsis               email               pickleshare         turtle\n",
            "_opcode             encodings           pickletools         turtledemo\n",
            "_operator           ensurepip           pip                 types\n",
            "_osx_support        entrypoints         pipes               typing\n",
            "_overlapped         enum                pixellib            typing_extensions\n",
            "_pickle             errno               pkg_resources       unicodedata\n",
            "_py_abc             essential_generators pkgutil             unittest\n",
            "_pydecimal          et_xmlfile          platform            urllib\n",
            "_pyio               faulthandler        plistlib            urllib3\n",
            "_pyrsistent_version filecmp             poplib              uu\n",
            "_queue              fileinput           posixpath           uuid\n",
            "_random             flask               pprint              validators\n",
            "_sha1               flatbuffers         profile             venv\n",
            "_sha256             fnmatch             prometheus_client   warnings\n",
            "_sha3               fontTools           prompt_toolkit      wave\n",
            "_sha512             formatter           pstats              wcwidth\n",
            "_signal             fractions           pty                 weakref\n",
            "_sitebuiltins       ftplib              pvectorc            webbrowser\n",
            "_socket             functools           py_compile          webencodings\n",
            "_sqlite3            gast                pyasn1              websocket\n",
            "_sre                gc                  pyasn1_modules      werkzeug\n",
            "_ssl                genericpath         pyclbr              wheel\n",
            "_stat               getopt              pyclipper           widgetsnbextension\n",
            "_statistics         getpass             pycosat             win2kras\n",
            "_string             gettext             pycparser           win32api\n",
            "_strptime           glob                pydoc               win32clipboard\n",
            "_struct             google_auth_oauthlib pydoc_data          win32com\n",
            "_symtable           grpc                pyexpat             win32con\n",
            "_system_path        gzip                pygments            win32console\n",
            "_testbuffer         h5py                pylab               win32cred\n",
            "_testcapi           hashlib             pyparsing           win32crypt\n",
            "_testconsole        heapq               pyreadline          win32cryptcon\n",
            "_testimportmultiple hmac                pyrsistent          win32event\n",
            "_testinternalcapi   html                pytesseract         win32evtlog\n",
            "_testmultiphase     http                pythoncom           win32evtlogutil\n",
            "_thread             idlelib             pytz                win32file\n",
            "_threading_local    idna                pywin               win32gui\n",
            "_tkinter            image_alignment     pywin32_bootstrap   win32gui_struct\n",
            "_tracemalloc        image_alignment_simple_example pywin32_testutil    win32help\n",
            "_warnings           imageio             pywintypes          win32inet\n",
            "_weakref            imantics            pywt                win32inetcon\n",
            "_weakrefset         imaplib             pyximport           win32job\n",
            "_win32sysloader     imgaug              qtconsole           win32lz\n",
            "_winapi             imghdr              qtpy                win32net\n",
            "_winxptheme         imp                 queue               win32netcon\n",
            "_xxsubinterpreters  importlib           quopri              win32pdh\n",
            "_yaml               importlib_metadata  random              win32pdhquery\n",
            "abc                 inspect             rasutil             win32pdhutil\n",
            "absl                io                  re                  win32pipe\n",
            "adodbapi            ipaddress           readline            win32print\n",
            "afxres              ipykernel           regcheck            win32process\n",
            "aifc                ipykernel_launcher  regutil             win32profile\n",
            "aiohttp             ipython_genutils    reprlib             win32ras\n",
            "antigravity         ipywidgets          requests            win32rcparser\n",
            "anyio               isapi               requests_oauthlib   win32security\n",
            "argon2              itertools           rlcompleter         win32service\n",
            "argparse            itsdangerous        rmagic              win32serviceutil\n",
            "array               jedi                rsa                 win32timezone\n",
            "ast                 jinja2              ruamel_yaml         win32trace\n",
            "astor               joblib              runpy               win32traceutil\n",
            "astunparse          json                sched               win32transaction\n",
            "async_generator     json5               scipy               win32ts\n",
            "async_timeout       jsonschema          seaborn             win32ui\n",
            "asynchat            jupyter             secrets             win32uiole\n",
            "asyncio             jupyter_client      select              win32verstamp\n",
            "asyncore            jupyter_console     selectors           win32wnet\n",
            "atexit              jupyter_core        send2trash          win_inet_pton\n",
            "attr                jupyter_server      servicemanager      wincertstore\n",
            "audioop             jupyterlab          setuptools          winerror\n",
            "autoreload          jupyterlab_pygments shapely             winioctlcon\n",
            "babel               jupyterlab_server   shelve              winnt\n",
            "backcall            jupyterlab_widgets  shlex               winperf\n",
            "base64              jwt                 shutil              winpty\n",
            "bdb                 keras               signal              winreg\n",
            "bidi                keras_applications  sip                 winsound\n",
            "binascii            keras_ocr           sipconfig           winxpgui\n",
            "binhex              keras_preprocessing sipdistutils        winxptheme\n",
            "bisect              keyword             site                wrapt\n",
            "bleach              kiwisolver          six                 wsgiref\n",
            "blinker             labelme2coco        skimage             xdrlib\n",
            "brotli              lib2to3             sklearn             xlrd\n",
            "bs4                 linecache           smtpd               xml\n",
            "builtins            locale              smtplib             xmljson\n",
            "bz2                 logging             sndhdr              xmlrpc\n",
            "cProfile            lxml                sniffio             xxsubtype\n",
            "cachetools          lzma                socket              yaml\n",
            "caffe2              mailbox             socketserver        yarl\n",
            "calendar            mailcap             socks               zipapp\n",
            "certifi             markdown            sockshandler        zipfile\n",
            "cffi                markupsafe          soupsieve           zipimport\n",
            "cgi                 marshal             sqlite3             zipp\n",
            "cgitb               math                sre_compile         zlib\n",
            "chardet             matplotlib          sre_constants       zmq\n",
            "charset_normalizer  matplotlib_inline   sre_parse           ~-mpy\n",
            "chunk               menuinst            ssl                 ~umpy\n",
            "clang               mimetypes           sspi                ~~mpy\n",
            "\n",
            "Enter any module name to get more help.  Or, type \"modules spam\" to search\n",
            "for modules whose name or summary contain the string \"spam\".\n",
            "\n"
          ]
        }
      ],
      "source": [
        "help('modules')"
      ]
    },
    {
      "cell_type": "markdown",
      "id": "54359703",
      "metadata": {
        "id": "54359703"
      },
      "source": [
        "# Using MySQL from Python\n",
        "\n",
        "To work with MySQL in a python program, we have to use **MySQLdb** module."
      ]
    },
    {
      "cell_type": "code",
      "execution_count": null,
      "id": "22b0bb3a",
      "metadata": {
        "id": "22b0bb3a"
      },
      "outputs": [],
      "source": [
        "import MySQLdb"
      ]
    },
    {
      "cell_type": "markdown",
      "id": "29a674eb",
      "metadata": {
        "id": "29a674eb"
      },
      "source": [
        "To establish a connection with MySQL database, we use the method **connect()** of **MySQLdb** module."
      ]
    },
    {
      "cell_type": "code",
      "execution_count": null,
      "id": "82d55c66",
      "metadata": {
        "id": "82d55c66"
      },
      "outputs": [],
      "source": [
        "conn=MySQLdb.connect(host='localhost',database='world',user='root',password='4509')# returns MySQL connection class object 'conn'"
      ]
    },
    {
      "cell_type": "code",
      "execution_count": null,
      "id": "a346505b",
      "metadata": {
        "id": "a346505b",
        "outputId": "25c59291-4498-4a03-eb1a-f5e3b0474a9d"
      },
      "outputs": [
        {
          "name": "stdout",
          "output_type": "stream",
          "text": [
            "<_mysql.connection open to 'localhost' at 0000022C22C72260>\n"
          ]
        }
      ],
      "source": [
        "print(conn)"
      ]
    },
    {
      "cell_type": "markdown",
      "id": "4a191452",
      "metadata": {
        "id": "4a191452"
      },
      "source": [
        "host = in the network, server's ip address should be given as host. if we use individual computer, then string 'local host' can be supplied.\n",
        "\n",
        "database = this is the database name to connect to.\n",
        "\n",
        "User= this represents the user name. Generally this is root\n",
        "\n",
        "password = this indicates the root password.\n"
      ]
    },
    {
      "cell_type": "code",
      "execution_count": null,
      "id": "a3d36927",
      "metadata": {
        "id": "a3d36927"
      },
      "outputs": [],
      "source": [
        "#create cursor class object by calling the cursor() method on \"conn\"\n",
        "cursor=conn.cursor()"
      ]
    },
    {
      "cell_type": "markdown",
      "id": "e31699a8",
      "metadata": {
        "id": "e31699a8"
      },
      "source": [
        "* cursor object is useful to execute SQL commands on the database. for this purpose we can use execute() method of 'cursor' object as:\n"
      ]
    },
    {
      "cell_type": "code",
      "execution_count": null,
      "id": "885b6e3b",
      "metadata": {
        "id": "885b6e3b",
        "outputId": "1bafc8b1-a022-4674-dc3c-0ec7d517f228"
      },
      "outputs": [
        {
          "data": {
            "text/plain": [
              "6"
            ]
          },
          "execution_count": 21,
          "metadata": {},
          "output_type": "execute_result"
        }
      ],
      "source": [
        "cursor.execute(\"SHOW DATABASES\")"
      ]
    },
    {
      "cell_type": "code",
      "execution_count": null,
      "id": "5d218764",
      "metadata": {
        "id": "5d218764",
        "outputId": "231610ff-eae7-473e-f26a-e3f20ca51ecc"
      },
      "outputs": [
        {
          "name": "stdout",
          "output_type": "stream",
          "text": [
            "('information_schema',)\n",
            "('mysql',)\n",
            "('performance_schema',)\n",
            "('sakila',)\n",
            "('sys',)\n",
            "('world',)\n"
          ]
        }
      ],
      "source": [
        "for x in cursor:\n",
        "  print(x)"
      ]
    },
    {
      "cell_type": "markdown",
      "id": "5822e69e",
      "metadata": {
        "id": "5822e69e"
      },
      "source": [
        "# Test MySQL Connector\n",
        "To test if the installation was successful, or if you already have \"MySQL Connector\" installed, create a Python page with the following content:"
      ]
    },
    {
      "cell_type": "code",
      "execution_count": null,
      "id": "47652ec6",
      "metadata": {
        "id": "47652ec6"
      },
      "outputs": [],
      "source": [
        "import mysql.connector"
      ]
    },
    {
      "cell_type": "markdown",
      "id": "6aeddd7a",
      "metadata": {
        "id": "6aeddd7a"
      },
      "source": [
        "# Create Connection\n",
        "Start by creating a connection to the database.\n",
        "\n",
        "Use the username and password from your MySQL database:"
      ]
    },
    {
      "cell_type": "code",
      "execution_count": null,
      "id": "b2547b9a",
      "metadata": {
        "id": "b2547b9a",
        "outputId": "373ab4f7-7ba0-4c3c-8084-77b7a0ac7378"
      },
      "outputs": [
        {
          "name": "stdout",
          "output_type": "stream",
          "text": [
            "<mysql.connector.connection_cext.CMySQLConnection object at 0x0000022C3675DA90>\n"
          ]
        }
      ],
      "source": [
        "import mysql.connector\n",
        "\n",
        "mydb = mysql.connector.connect(\n",
        "  host=\"localhost\",\n",
        "  user=\"root\",\n",
        "  password=\"4509\"\n",
        ")\n",
        "\n",
        "print(mydb)"
      ]
    },
    {
      "cell_type": "markdown",
      "id": "fd5962c1",
      "metadata": {
        "id": "fd5962c1"
      },
      "source": [
        "# Now you can start querying the database using SQL statements."
      ]
    },
    {
      "cell_type": "markdown",
      "id": "9448d112",
      "metadata": {
        "id": "9448d112"
      },
      "source": [
        "# Creating a Database\n",
        "To create a database in MySQL, use the \"CREATE DATABASE\" statement:"
      ]
    },
    {
      "cell_type": "code",
      "execution_count": null,
      "id": "bbe62ec6",
      "metadata": {
        "id": "bbe62ec6"
      },
      "outputs": [],
      "source": [
        "import mysql.connector\n",
        "\n",
        "mydb = mysql.connector.connect(\n",
        "  host=\"localhost\",\n",
        "  user=\"root\",\n",
        "  password=\"4509\"\n",
        ")\n",
        "\n",
        "mycursor = mydb.cursor()\n",
        "\n",
        "mycursor.execute(\"CREATE DATABASE mydatabase\")\n"
      ]
    },
    {
      "cell_type": "markdown",
      "id": "6f82b459",
      "metadata": {
        "id": "6f82b459"
      },
      "source": [
        "# Check if Database Exists\n",
        "You can check if a database exist by listing all databases in your system by using the \"SHOW DATABASES\" statement:"
      ]
    },
    {
      "cell_type": "code",
      "execution_count": null,
      "id": "a2ae3d10",
      "metadata": {
        "id": "a2ae3d10",
        "outputId": "0dee6d0b-d66c-45d6-bd0d-befb76a6900b"
      },
      "outputs": [
        {
          "name": "stdout",
          "output_type": "stream",
          "text": [
            "('information_schema',)\n",
            "('mydatabase',)\n",
            "('mysql',)\n",
            "('performance_schema',)\n",
            "('sakila',)\n",
            "('sys',)\n",
            "('world',)\n"
          ]
        }
      ],
      "source": [
        "import mysql.connector\n",
        "\n",
        "mydb = mysql.connector.connect(\n",
        "  host=\"localhost\",\n",
        "  user=\"root\",\n",
        "  password=\"4509\"\n",
        ")\n",
        "\n",
        "mycursor = mydb.cursor()\n",
        "\n",
        "mycursor.execute(\"SHOW DATABASES\")\n",
        "\n",
        "for x in mycursor:\n",
        "    print(x)"
      ]
    },
    {
      "cell_type": "code",
      "execution_count": null,
      "id": "dbde1e9f",
      "metadata": {
        "id": "dbde1e9f"
      },
      "outputs": [],
      "source": [
        "#Try connecting to the database \"mydatabase\":\n",
        "\n",
        "import mysql.connector\n",
        "\n",
        "mydb = mysql.connector.connect(\n",
        "  host=\"localhost\",\n",
        "  user=\"root\",\n",
        "  password=\"4509\",\n",
        "  database=\"mydatabase\"\n",
        ")"
      ]
    },
    {
      "cell_type": "markdown",
      "id": "03bac4e1",
      "metadata": {
        "id": "03bac4e1"
      },
      "source": [
        "# Creating a Table\n",
        "To create a table in MySQL, use the \"CREATE TABLE\" statement.\n",
        "\n",
        "Make sure you define the name of the database when you create the connection"
      ]
    },
    {
      "cell_type": "code",
      "execution_count": null,
      "id": "2dc2592d",
      "metadata": {
        "id": "2dc2592d"
      },
      "outputs": [],
      "source": [
        "#Create a table named \"customers\":\n",
        "\n",
        "import mysql.connector\n",
        "\n",
        "mydb = mysql.connector.connect(\n",
        "  host=\"localhost\",\n",
        "  user=\"root\",\n",
        "  password=\"4509\",\n",
        "  database=\"mydatabase\"\n",
        ")\n",
        "\n",
        "mycursor = mydb.cursor()\n",
        "\n",
        "mycursor.execute(\"CREATE TABLE customers (name VARCHAR(255), address VARCHAR(255))\")"
      ]
    },
    {
      "cell_type": "markdown",
      "id": "5e43e492",
      "metadata": {
        "id": "5e43e492"
      },
      "source": [
        "# Check if Table Exists\n",
        "You can check if a table exist by listing all tables in your database with the \"SHOW TABLES\" statement:"
      ]
    },
    {
      "cell_type": "code",
      "execution_count": null,
      "id": "17fa762c",
      "metadata": {
        "id": "17fa762c",
        "outputId": "f7c268fc-952a-40e5-ff7a-6bf0e7acee1d"
      },
      "outputs": [
        {
          "name": "stdout",
          "output_type": "stream",
          "text": [
            "('customers',)\n"
          ]
        }
      ],
      "source": [
        "#Return a list of your system's databases:\n",
        "\n",
        "import mysql.connector\n",
        "\n",
        "mydb = mysql.connector.connect(\n",
        "  host=\"localhost\",\n",
        "  user=\"root\",\n",
        "  password=\"4509\",\n",
        "  database=\"mydatabase\"\n",
        ")\n",
        "\n",
        "mycursor = mydb.cursor()\n",
        "\n",
        "mycursor.execute(\"SHOW TABLES\")\n",
        "\n",
        "for x in mycursor:\n",
        "    print(x)"
      ]
    },
    {
      "cell_type": "markdown",
      "id": "fe134df4",
      "metadata": {
        "id": "fe134df4"
      },
      "source": [
        "# Primary Key\n",
        "When creating a table, you should also create a column with a unique key for each record.\n",
        "\n",
        "This can be done by defining a PRIMARY KEY.\n",
        "\n",
        "We use the statement \"INT AUTO_INCREMENT PRIMARY KEY\" which will insert a unique number for each record. Starting at 1, and increased by one for each record."
      ]
    },
    {
      "cell_type": "code",
      "execution_count": null,
      "id": "22507b38",
      "metadata": {
        "id": "22507b38",
        "outputId": "23bf62dd-e43f-4feb-9d4d-6f2874b6f795"
      },
      "outputs": [
        {
          "ename": "ProgrammingError",
          "evalue": "1050 (42S01): Table 'customers' already exists",
          "output_type": "error",
          "traceback": [
            "\u001b[1;31m---------------------------------------------------------------------------\u001b[0m",
            "\u001b[1;31mMySQLInterfaceError\u001b[0m                       Traceback (most recent call last)",
            "\u001b[1;32m~\\miniconda3\\lib\\site-packages\\mysql\\connector\\connection_cext.py\u001b[0m in \u001b[0;36mcmd_query\u001b[1;34m(self, query, raw, buffered, raw_as_string)\u001b[0m\n\u001b[0;32m    522\u001b[0m                 \u001b[0mquery\u001b[0m \u001b[1;33m=\u001b[0m \u001b[0mquery\u001b[0m\u001b[1;33m.\u001b[0m\u001b[0mencode\u001b[0m\u001b[1;33m(\u001b[0m\u001b[1;34m'utf-8'\u001b[0m\u001b[1;33m)\u001b[0m\u001b[1;33m\u001b[0m\u001b[1;33m\u001b[0m\u001b[0m\n\u001b[1;32m--> 523\u001b[1;33m             self._cmysql.query(query,\n\u001b[0m\u001b[0;32m    524\u001b[0m                                \u001b[0mraw\u001b[0m\u001b[1;33m=\u001b[0m\u001b[0mraw\u001b[0m\u001b[1;33m,\u001b[0m \u001b[0mbuffered\u001b[0m\u001b[1;33m=\u001b[0m\u001b[0mbuffered\u001b[0m\u001b[1;33m,\u001b[0m\u001b[1;33m\u001b[0m\u001b[1;33m\u001b[0m\u001b[0m\n",
            "\u001b[1;31mMySQLInterfaceError\u001b[0m: Table 'customers' already exists",
            "\nDuring handling of the above exception, another exception occurred:\n",
            "\u001b[1;31mProgrammingError\u001b[0m                          Traceback (most recent call last)",
            "\u001b[1;32m~\\AppData\\Local\\Temp/ipykernel_2092/3394378155.py\u001b[0m in \u001b[0;36m<module>\u001b[1;34m\u001b[0m\n\u001b[0;32m     12\u001b[0m \u001b[0mmycursor\u001b[0m \u001b[1;33m=\u001b[0m \u001b[0mmydb\u001b[0m\u001b[1;33m.\u001b[0m\u001b[0mcursor\u001b[0m\u001b[1;33m(\u001b[0m\u001b[1;33m)\u001b[0m\u001b[1;33m\u001b[0m\u001b[1;33m\u001b[0m\u001b[0m\n\u001b[0;32m     13\u001b[0m \u001b[1;33m\u001b[0m\u001b[0m\n\u001b[1;32m---> 14\u001b[1;33m \u001b[0mmycursor\u001b[0m\u001b[1;33m.\u001b[0m\u001b[0mexecute\u001b[0m\u001b[1;33m(\u001b[0m\u001b[1;34m\"CREATE TABLE customers (id INT AUTO_INCREMENT PRIMARY KEY, name VARCHAR(255), address VARCHAR(255))\"\u001b[0m\u001b[1;33m)\u001b[0m\u001b[1;33m\u001b[0m\u001b[1;33m\u001b[0m\u001b[0m\n\u001b[0m",
            "\u001b[1;32m~\\miniconda3\\lib\\site-packages\\mysql\\connector\\cursor_cext.py\u001b[0m in \u001b[0;36mexecute\u001b[1;34m(self, operation, params, multi)\u001b[0m\n\u001b[0;32m    267\u001b[0m \u001b[1;33m\u001b[0m\u001b[0m\n\u001b[0;32m    268\u001b[0m         \u001b[1;32mtry\u001b[0m\u001b[1;33m:\u001b[0m\u001b[1;33m\u001b[0m\u001b[1;33m\u001b[0m\u001b[0m\n\u001b[1;32m--> 269\u001b[1;33m             result = self._cnx.cmd_query(stmt, raw=self._raw,\n\u001b[0m\u001b[0;32m    270\u001b[0m                                          \u001b[0mbuffered\u001b[0m\u001b[1;33m=\u001b[0m\u001b[0mself\u001b[0m\u001b[1;33m.\u001b[0m\u001b[0m_buffered\u001b[0m\u001b[1;33m,\u001b[0m\u001b[1;33m\u001b[0m\u001b[1;33m\u001b[0m\u001b[0m\n\u001b[0;32m    271\u001b[0m                                          raw_as_string=self._raw_as_string)\n",
            "\u001b[1;32m~\\miniconda3\\lib\\site-packages\\mysql\\connector\\connection_cext.py\u001b[0m in \u001b[0;36mcmd_query\u001b[1;34m(self, query, raw, buffered, raw_as_string)\u001b[0m\n\u001b[0;32m    526\u001b[0m                                query_attrs=self._query_attrs)\n\u001b[0;32m    527\u001b[0m         \u001b[1;32mexcept\u001b[0m \u001b[0mMySQLInterfaceError\u001b[0m \u001b[1;32mas\u001b[0m \u001b[0mexc\u001b[0m\u001b[1;33m:\u001b[0m\u001b[1;33m\u001b[0m\u001b[1;33m\u001b[0m\u001b[0m\n\u001b[1;32m--> 528\u001b[1;33m             raise errors.get_mysql_exception(exc.errno, msg=exc.msg,\n\u001b[0m\u001b[0;32m    529\u001b[0m                                              sqlstate=exc.sqlstate)\n\u001b[0;32m    530\u001b[0m         \u001b[1;32mexcept\u001b[0m \u001b[0mAttributeError\u001b[0m\u001b[1;33m:\u001b[0m\u001b[1;33m\u001b[0m\u001b[1;33m\u001b[0m\u001b[0m\n",
            "\u001b[1;31mProgrammingError\u001b[0m: 1050 (42S01): Table 'customers' already exists"
          ]
        }
      ],
      "source": [
        "#Create primary key when creating the table:\n",
        "\n",
        "import mysql.connector\n",
        "\n",
        "mydb = mysql.connector.connect(\n",
        "  host=\"localhost\",\n",
        "  user=\"root\",\n",
        "  password=\"4509\",\n",
        "  database=\"mydatabase\"\n",
        ")\n",
        "\n",
        "mycursor = mydb.cursor()\n",
        "\n",
        "mycursor.execute(\"CREATE TABLE customers (id INT AUTO_INCREMENT PRIMARY KEY, name VARCHAR(255), address VARCHAR(255))\")"
      ]
    },
    {
      "cell_type": "markdown",
      "id": "8a8c4291",
      "metadata": {
        "id": "8a8c4291"
      },
      "source": [
        "# If the table already exists, use the ALTER TABLE keyword:"
      ]
    },
    {
      "cell_type": "code",
      "execution_count": null,
      "id": "8539503e",
      "metadata": {
        "id": "8539503e"
      },
      "outputs": [],
      "source": [
        "#Create primary key on an existing table:\n",
        "\n",
        "import mysql.connector\n",
        "\n",
        "mydb = mysql.connector.connect(\n",
        "  host=\"localhost\",\n",
        "  user=\"root\",\n",
        "  password=\"4509\",\n",
        "  database=\"mydatabase\"\n",
        ")\n",
        "\n",
        "mycursor = mydb.cursor()\n",
        "\n",
        "mycursor.execute(\"ALTER TABLE customers ADD COLUMN id INT AUTO_INCREMENT PRIMARY KEY\")\n"
      ]
    },
    {
      "cell_type": "markdown",
      "id": "c9f87396",
      "metadata": {
        "id": "c9f87396"
      },
      "source": [
        "# Insert Into Table\n",
        "To fill a table in MySQL, use the \"INSERT INTO\" statement."
      ]
    },
    {
      "cell_type": "code",
      "execution_count": null,
      "id": "8fda89e4",
      "metadata": {
        "id": "8fda89e4",
        "outputId": "a0bb13cd-d7b5-4c17-b934-b49253f6447b"
      },
      "outputs": [
        {
          "name": "stdout",
          "output_type": "stream",
          "text": [
            "1 record inserted.\n"
          ]
        }
      ],
      "source": [
        "#Insert a record in the \"customers\" table:\n",
        "\n",
        "import mysql.connector\n",
        "\n",
        "mydb = mysql.connector.connect(\n",
        "  host=\"localhost\",\n",
        "  user=\"root\",\n",
        "  password=\"4509\",\n",
        "  database=\"mydatabase\"\n",
        ")\n",
        "\n",
        "mycursor = mydb.cursor()\n",
        "\n",
        "sql = \"INSERT INTO customers (name, address) VALUES (%s, %s)\"\n",
        "val = (\"John\", \"Highway 21\")\n",
        "mycursor.execute(sql, val)\n",
        "\n",
        "mydb.commit()#Important!: Notice the statement: mydb.commit(). It is required to make the changes, otherwise no changes are made to the table.\n",
        "\n",
        "print(mycursor.rowcount, \"record inserted.\")"
      ]
    },
    {
      "cell_type": "markdown",
      "id": "c24dbd05",
      "metadata": {
        "id": "c24dbd05"
      },
      "source": [
        "# Insert Multiple Rows\n",
        "To insert multiple rows into a table, use the executemany() method.\n",
        "\n",
        "The second parameter of the executemany() method is a list of tuples, containing the data you want to insert:"
      ]
    },
    {
      "cell_type": "code",
      "execution_count": null,
      "id": "dff733bb",
      "metadata": {
        "id": "dff733bb",
        "outputId": "a9ba730e-653e-4a4d-bbed-029f4b75d4be"
      },
      "outputs": [
        {
          "name": "stdout",
          "output_type": "stream",
          "text": [
            "13 was inserted.\n"
          ]
        }
      ],
      "source": [
        "#Fill the \"customers\" table with data:\n",
        "\n",
        "import mysql.connector\n",
        "\n",
        "mydb = mysql.connector.connect(\n",
        "  host=\"localhost\",\n",
        "  user=\"root\",\n",
        "  password=\"4509\",\n",
        "  database=\"mydatabase\"\n",
        ")\n",
        "\n",
        "mycursor = mydb.cursor()\n",
        "\n",
        "sql = \"INSERT INTO customers (name, address) VALUES (%s, %s)\"\n",
        "val = [\n",
        "  ('Peter', 'Lowstreet 4'),\n",
        "  ('Amy', 'Apple st 652'),\n",
        "  ('Hannah', 'Mountain 21'),\n",
        "  ('Michael', 'Valley 345'),\n",
        "  ('Sandy', 'Ocean blvd 2'),\n",
        "  ('Betty', 'Green Grass 1'),\n",
        "  ('Richard', 'Sky st 331'),\n",
        "  ('Susan', 'One way 98'),\n",
        "  ('Vicky', 'Yellow Garden 2'),\n",
        "  ('Ben', 'Park Lane 38'),\n",
        "  ('William', 'Central st 954'),\n",
        "  ('Chuck', 'Main Road 989'),\n",
        "  ('Viola', 'Sideway 1633')\n",
        "]\n",
        "\n",
        "mycursor.executemany(sql, val)\n",
        "\n",
        "mydb.commit()\n",
        "\n",
        "print(mycursor.rowcount, \"was inserted.\")\n"
      ]
    },
    {
      "cell_type": "markdown",
      "id": "74d7cf73",
      "metadata": {
        "id": "74d7cf73"
      },
      "source": [
        "# Get Inserted ID\n",
        "You can get the id of the row you just inserted by asking the cursor object.\n",
        "\n",
        "Note: If you insert more than one row, the id of the last inserted row is returned."
      ]
    },
    {
      "cell_type": "code",
      "execution_count": null,
      "id": "f58516e8",
      "metadata": {
        "id": "f58516e8",
        "outputId": "0128d1c3-bbf2-42a2-e6f4-d24231d2a99b"
      },
      "outputs": [
        {
          "name": "stdout",
          "output_type": "stream",
          "text": [
            "1 record inserted, ID: 15\n"
          ]
        }
      ],
      "source": [
        "#Insert one row, and return the ID:\n",
        "\n",
        "import mysql.connector\n",
        "\n",
        "mydb = mysql.connector.connect(\n",
        "  host=\"localhost\",\n",
        "  user=\"root\",\n",
        "  password=\"4509\",\n",
        "  database=\"mydatabase\"\n",
        ")\n",
        "\n",
        "mycursor = mydb.cursor()\n",
        "\n",
        "sql = \"INSERT INTO customers (name, address) VALUES (%s, %s)\"\n",
        "val = (\"Michelle\", \"Blue Village\")\n",
        "mycursor.execute(sql, val)\n",
        "\n",
        "mydb.commit()\n",
        "\n",
        "print(\"1 record inserted, ID:\", mycursor.lastrowid)"
      ]
    },
    {
      "cell_type": "markdown",
      "id": "f0478cdf",
      "metadata": {
        "id": "f0478cdf"
      },
      "source": [
        "# Select From a Table\n",
        "To select from a table in MySQL, use the \"SELECT\" statement:"
      ]
    },
    {
      "cell_type": "code",
      "execution_count": null,
      "id": "ca525934",
      "metadata": {
        "id": "ca525934",
        "outputId": "a8b930ea-2720-4a59-87aa-e53fdf42e112"
      },
      "outputs": [
        {
          "name": "stdout",
          "output_type": "stream",
          "text": [
            "('John', 'Highway 21', 1)\n",
            "('Peter', 'Lowstreet 4', 2)\n",
            "('Amy', 'Apple st 652', 3)\n",
            "('Hannah', 'Mountain 21', 4)\n",
            "('Michael', 'Valley 345', 5)\n",
            "('Sandy', 'Ocean blvd 2', 6)\n",
            "('Betty', 'Green Grass 1', 7)\n",
            "('Richard', 'Sky st 331', 8)\n",
            "('Susan', 'One way 98', 9)\n",
            "('Vicky', 'Yellow Garden 2', 10)\n",
            "('Ben', 'Park Lane 38', 11)\n",
            "('William', 'Central st 954', 12)\n",
            "('Chuck', 'Main Road 989', 13)\n",
            "('Viola', 'Sideway 1633', 14)\n",
            "('Michelle', 'Blue Village', 15)\n"
          ]
        }
      ],
      "source": [
        "#Select all records from the \"customers\" table, and display the result:\n",
        "\n",
        "import mysql.connector\n",
        "\n",
        "mydb = mysql.connector.connect(\n",
        "  host=\"localhost\",\n",
        "  user=\"root\",\n",
        "  password=\"4509\",\n",
        "  database=\"mydatabase\"\n",
        ")\n",
        "\n",
        "mycursor = mydb.cursor()\n",
        "\n",
        "mycursor.execute(\"SELECT * FROM customers\")\n",
        "\n",
        "myresult = mycursor.fetchall()\n",
        "\n",
        "for x in myresult:\n",
        "  print(x)"
      ]
    },
    {
      "cell_type": "markdown",
      "id": "289ee056",
      "metadata": {
        "id": "289ee056"
      },
      "source": [
        "# Note: We use the fetchall() method, which fetches all rows from the last executed statement."
      ]
    },
    {
      "cell_type": "markdown",
      "id": "9d9d7eaa",
      "metadata": {
        "id": "9d9d7eaa"
      },
      "source": [
        "# Selecting Columns\n",
        "To select only some of the columns in a table, use the \"SELECT\" statement followed by the column name(s):"
      ]
    },
    {
      "cell_type": "code",
      "execution_count": null,
      "id": "b95e8db7",
      "metadata": {
        "id": "b95e8db7",
        "outputId": "14916e94-7df8-4145-dc2b-a7d05e730d3d"
      },
      "outputs": [
        {
          "name": "stdout",
          "output_type": "stream",
          "text": [
            "('John', 'Highway 21')\n",
            "('Peter', 'Lowstreet 4')\n",
            "('Amy', 'Apple st 652')\n",
            "('Hannah', 'Mountain 21')\n",
            "('Michael', 'Valley 345')\n",
            "('Sandy', 'Ocean blvd 2')\n",
            "('Betty', 'Green Grass 1')\n",
            "('Richard', 'Sky st 331')\n",
            "('Susan', 'One way 98')\n",
            "('Vicky', 'Yellow Garden 2')\n",
            "('Ben', 'Park Lane 38')\n",
            "('William', 'Central st 954')\n",
            "('Chuck', 'Main Road 989')\n",
            "('Viola', 'Sideway 1633')\n",
            "('Michelle', 'Blue Village')\n"
          ]
        }
      ],
      "source": [
        "#Select only the name and address columns:\n",
        "\n",
        "import mysql.connector\n",
        "\n",
        "mydb = mysql.connector.connect(\n",
        "  host=\"localhost\",\n",
        "  user=\"root\",\n",
        "  password=\"4509\",\n",
        "  database=\"mydatabase\"\n",
        ")\n",
        "\n",
        "mycursor = mydb.cursor()\n",
        "\n",
        "mycursor.execute(\"SELECT name, address FROM customers\")\n",
        "\n",
        "myresult = mycursor.fetchall()\n",
        "\n",
        "for x in myresult:\n",
        "    print(x)"
      ]
    },
    {
      "cell_type": "markdown",
      "id": "8ce0f172",
      "metadata": {
        "id": "8ce0f172"
      },
      "source": [
        "# Using the fetchone() Method\n",
        "If you are only interested in one row, you can use the fetchone() method.\n",
        "\n",
        "The fetchone() method will return the first row of the result:"
      ]
    },
    {
      "cell_type": "code",
      "execution_count": null,
      "id": "d7161acc",
      "metadata": {
        "id": "d7161acc",
        "outputId": "7d18cb00-90a2-4585-b600-e9d280423133"
      },
      "outputs": [
        {
          "name": "stdout",
          "output_type": "stream",
          "text": [
            "('John', 'Highway 21', 1)\n"
          ]
        }
      ],
      "source": [
        "#Fetch only one row:\n",
        "\n",
        "import mysql.connector\n",
        "\n",
        "mydb = mysql.connector.connect(\n",
        "  host=\"localhost\",\n",
        "  user=\"root\",\n",
        "  password=\"4509\",\n",
        "  database=\"mydatabase\"\n",
        ")\n",
        "\n",
        "mycursor = mydb.cursor()\n",
        "\n",
        "mycursor.execute(\"SELECT * FROM customers\")\n",
        "\n",
        "myresult = mycursor.fetchone()\n",
        "\n",
        "print(myresult)"
      ]
    },
    {
      "cell_type": "markdown",
      "id": "fa8dd9a8",
      "metadata": {
        "id": "fa8dd9a8"
      },
      "source": [
        "# Select With a Filter\n",
        "When selecting records from a table, you can filter the selection by using the \"WHERE\" statement:"
      ]
    },
    {
      "cell_type": "code",
      "execution_count": null,
      "id": "95434b9f",
      "metadata": {
        "id": "95434b9f",
        "outputId": "25e1b1a2-8c4e-49af-a408-a53396e7c10b"
      },
      "outputs": [
        {
          "name": "stdout",
          "output_type": "stream",
          "text": [
            "('Ben', 'Park Lane 38', 11)\n"
          ]
        }
      ],
      "source": [
        "#Select record(s) where the address is \"Park Lane 38\": result:\n",
        "\n",
        "import mysql.connector\n",
        "\n",
        "mydb = mysql.connector.connect(\n",
        "  host=\"localhost\",\n",
        "  user=\"root\",\n",
        "  password=\"4509\",\n",
        "  database=\"mydatabase\"\n",
        ")\n",
        "\n",
        "mycursor = mydb.cursor()\n",
        "\n",
        "sql = \"SELECT * FROM customers WHERE address ='Park Lane 38'\"\n",
        "\n",
        "mycursor.execute(sql)\n",
        "\n",
        "myresult = mycursor.fetchall()\n",
        "\n",
        "for x in myresult:\n",
        "  print(x)"
      ]
    },
    {
      "cell_type": "markdown",
      "id": "dd8e95dc",
      "metadata": {
        "id": "dd8e95dc"
      },
      "source": [
        "# Wildcard Characters\n",
        "You can also select the records that starts, includes, or ends with a given letter or phrase.\n",
        "\n",
        "Use the %  to represent wildcard characters:"
      ]
    },
    {
      "cell_type": "code",
      "execution_count": null,
      "id": "3712a944",
      "metadata": {
        "id": "3712a944",
        "outputId": "6b6ea139-95d7-425c-f002-d75c43bc251a"
      },
      "outputs": [
        {
          "name": "stdout",
          "output_type": "stream",
          "text": [
            "('John', 'Highway 21', 1)\n",
            "('Susan', 'One way 98', 9)\n",
            "('Viola', 'Sideway 1633', 14)\n"
          ]
        }
      ],
      "source": [
        "#Select records where the address contains the word \"way\":\n",
        "\n",
        "import mysql.connector\n",
        "\n",
        "mydb = mysql.connector.connect(\n",
        "  host=\"localhost\",\n",
        "  user=\"root\",\n",
        "  password=\"4509\",\n",
        "  database=\"mydatabase\"\n",
        ")\n",
        "\n",
        "mycursor = mydb.cursor()\n",
        "\n",
        "sql = \"SELECT * FROM customers WHERE address LIKE '%way%'\"\n",
        "\n",
        "mycursor.execute(sql)\n",
        "\n",
        "myresult = mycursor.fetchall()\n",
        "\n",
        "for x in myresult:\n",
        "  print(x)\n"
      ]
    },
    {
      "cell_type": "markdown",
      "id": "421fb71f",
      "metadata": {
        "id": "421fb71f"
      },
      "source": [
        "# Prevent SQL Injection\n",
        "When query values are provided by the user, you should escape the values.\n",
        "\n",
        "This is to prevent SQL injections, which is a common web hacking technique to destroy or misuse your database.\n",
        "\n",
        "The mysql.connector module has methods to escape query values:"
      ]
    },
    {
      "cell_type": "code",
      "execution_count": null,
      "id": "b56bf7fd",
      "metadata": {
        "id": "b56bf7fd",
        "outputId": "cc527220-5a84-4c5e-a6c5-66df3d8d7d5e"
      },
      "outputs": [
        {
          "name": "stdout",
          "output_type": "stream",
          "text": [
            "('Vicky', 'Yellow Garden 2', 10)\n"
          ]
        }
      ],
      "source": [
        "#Escape query values by using the placholder %s method:\n",
        "\n",
        "import mysql.connector\n",
        "\n",
        "mydb = mysql.connector.connect(\n",
        "  host=\"localhost\",\n",
        "  user=\"root\",\n",
        "  password=\"4509\",\n",
        "  database=\"mydatabase\"\n",
        ")\n",
        "\n",
        "mycursor = mydb.cursor()\n",
        "\n",
        "sql = \"SELECT * FROM customers WHERE address = %s\"\n",
        "adr = (\"Yellow Garden 2\", )\n",
        "\n",
        "mycursor.execute(sql, adr)\n",
        "\n",
        "myresult = mycursor.fetchall()\n",
        "\n",
        "for x in myresult:\n",
        "  print(x)"
      ]
    },
    {
      "cell_type": "markdown",
      "id": "93fccbe5",
      "metadata": {
        "id": "93fccbe5"
      },
      "source": [
        "# Sort the Result\n",
        "Use the ORDER BY statement to sort the result in ascending or descending order.\n",
        "\n",
        "The ORDER BY keyword sorts the result ascending by default. To sort the result in descending order, use the DESC keyword."
      ]
    },
    {
      "cell_type": "code",
      "execution_count": null,
      "id": "8e38241a",
      "metadata": {
        "id": "8e38241a",
        "outputId": "844a5f61-6eef-4702-d648-722ff4ed53a2"
      },
      "outputs": [
        {
          "name": "stdout",
          "output_type": "stream",
          "text": [
            "('Amy', 'Apple st 652', 3)\n",
            "('Ben', 'Park Lane 38', 11)\n",
            "('Betty', 'Green Grass 1', 7)\n",
            "('Chuck', 'Main Road 989', 13)\n",
            "('Hannah', 'Mountain 21', 4)\n",
            "('John', 'Highway 21', 1)\n",
            "('Michael', 'Valley 345', 5)\n",
            "('Michelle', 'Blue Village', 15)\n",
            "('Peter', 'Lowstreet 4', 2)\n",
            "('Richard', 'Sky st 331', 8)\n",
            "('Sandy', 'Ocean blvd 2', 6)\n",
            "('Susan', 'One way 98', 9)\n",
            "('Vicky', 'Yellow Garden 2', 10)\n",
            "('Viola', 'Sideway 1633', 14)\n",
            "('William', 'Central st 954', 12)\n"
          ]
        }
      ],
      "source": [
        "#Sort the result alphabetically by name: result:\n",
        "\n",
        "import mysql.connector\n",
        "\n",
        "mydb = mysql.connector.connect(\n",
        "  host=\"localhost\",\n",
        "  user=\"root\",\n",
        "  password=\"4509\",\n",
        "  database=\"mydatabase\"\n",
        ")\n",
        "\n",
        "mycursor = mydb.cursor()\n",
        "\n",
        "sql = \"SELECT * FROM customers ORDER BY name\"\n",
        "\n",
        "mycursor.execute(sql)\n",
        "\n",
        "myresult = mycursor.fetchall()\n",
        "\n",
        "for x in myresult:\n",
        "  print(x)"
      ]
    },
    {
      "cell_type": "markdown",
      "id": "1bb525ba",
      "metadata": {
        "id": "1bb525ba"
      },
      "source": [
        "# ORDER BY DESC\n",
        "Use the DESC keyword to sort the result in a descending order."
      ]
    },
    {
      "cell_type": "code",
      "execution_count": null,
      "id": "b9b25cdc",
      "metadata": {
        "id": "b9b25cdc",
        "outputId": "b8212840-3ad3-4b6a-d587-3b1553be28ee"
      },
      "outputs": [
        {
          "name": "stdout",
          "output_type": "stream",
          "text": [
            "('William', 'Central st 954', 12)\n",
            "('Viola', 'Sideway 1633', 14)\n",
            "('Vicky', 'Yellow Garden 2', 10)\n",
            "('Susan', 'One way 98', 9)\n",
            "('Sandy', 'Ocean blvd 2', 6)\n",
            "('Richard', 'Sky st 331', 8)\n",
            "('Peter', 'Lowstreet 4', 2)\n",
            "('Michelle', 'Blue Village', 15)\n",
            "('Michael', 'Valley 345', 5)\n",
            "('John', 'Highway 21', 1)\n",
            "('Hannah', 'Mountain 21', 4)\n",
            "('Chuck', 'Main Road 989', 13)\n",
            "('Betty', 'Green Grass 1', 7)\n",
            "('Ben', 'Park Lane 38', 11)\n",
            "('Amy', 'Apple st 652', 3)\n"
          ]
        }
      ],
      "source": [
        "#Sort the result reverse alphabetically by name:\n",
        "\n",
        "import mysql.connector\n",
        "\n",
        "mydb = mysql.connector.connect(\n",
        "  host=\"localhost\",\n",
        "  user=\"root\",\n",
        "  password=\"4509\",\n",
        "  database=\"mydatabase\"\n",
        ")\n",
        "\n",
        "mycursor = mydb.cursor()\n",
        "\n",
        "sql = \"SELECT * FROM customers ORDER BY name DESC\"\n",
        "\n",
        "mycursor.execute(sql)\n",
        "\n",
        "myresult = mycursor.fetchall()\n",
        "\n",
        "for x in myresult:\n",
        "  print(x)"
      ]
    },
    {
      "cell_type": "markdown",
      "id": "836722f0",
      "metadata": {
        "id": "836722f0"
      },
      "source": [
        "# Delete Record\n",
        "You can delete records from an existing table by using the \"DELETE FROM\" statement:"
      ]
    },
    {
      "cell_type": "code",
      "execution_count": null,
      "id": "e834d908",
      "metadata": {
        "id": "e834d908",
        "outputId": "b0cc2766-a5a7-4e06-9c98-217e141c030d"
      },
      "outputs": [
        {
          "name": "stdout",
          "output_type": "stream",
          "text": [
            "1 record(s) deleted\n"
          ]
        }
      ],
      "source": [
        "#Delete any record where the address is \"Mountain 21\":\n",
        "\n",
        "import mysql.connector\n",
        "\n",
        "mydb = mysql.connector.connect(\n",
        "  host=\"localhost\",\n",
        "  user=\"root\",\n",
        "  password=\"4509\",\n",
        "  database=\"mydatabase\"\n",
        ")\n",
        "\n",
        "mycursor = mydb.cursor()\n",
        "\n",
        "sql = \"DELETE FROM customers WHERE address = 'Mountain 21'\"\n",
        "\n",
        "mycursor.execute(sql)\n",
        "\n",
        "mydb.commit()\n",
        "\n",
        "print(mycursor.rowcount, \"record(s) deleted\")"
      ]
    },
    {
      "cell_type": "markdown",
      "id": "7cbabaa2",
      "metadata": {
        "id": "7cbabaa2"
      },
      "source": [
        "Important!: Notice the statement: mydb.commit(). It is required to make the changes, otherwise no changes are made to the table.\n",
        "\n",
        "Notice the WHERE clause in the DELETE syntax: The WHERE clause specifies which record(s) that should be deleted. If you omit the WHERE clause, all records will be deleted!"
      ]
    },
    {
      "cell_type": "markdown",
      "id": "d1e41c63",
      "metadata": {
        "id": "d1e41c63"
      },
      "source": [
        "# Prevent SQL Injection\n",
        "It is considered a good practice to escape the values of any query, also in delete statements.\n",
        "\n",
        "This is to prevent SQL injections, which is a common web hacking technique to destroy or misuse your database.\n",
        "\n",
        "The mysql.connector module uses the placeholder %s to escape values in the delete statement:"
      ]
    },
    {
      "cell_type": "code",
      "execution_count": null,
      "id": "00576a94",
      "metadata": {
        "id": "00576a94",
        "outputId": "7fc7a339-c613-4a3a-c90c-de9aa88cfc3d"
      },
      "outputs": [
        {
          "name": "stdout",
          "output_type": "stream",
          "text": [
            "1 record(s) deleted\n"
          ]
        }
      ],
      "source": [
        "#Escape values by using the placeholder %s method:\n",
        "\n",
        "import mysql.connector\n",
        "\n",
        "mydb = mysql.connector.connect(\n",
        "  host=\"localhost\",\n",
        "  user=\"root\",\n",
        "  password=\"4509\",\n",
        "  database=\"mydatabase\"\n",
        ")\n",
        "\n",
        "mycursor = mydb.cursor()\n",
        "\n",
        "sql = \"DELETE FROM customers WHERE address = %s\"\n",
        "adr = (\"Yellow Garden 2\", )\n",
        "\n",
        "mycursor.execute(sql, adr)\n",
        "\n",
        "mydb.commit()\n",
        "\n",
        "print(mycursor.rowcount, \"record(s) deleted\")"
      ]
    },
    {
      "cell_type": "markdown",
      "id": "6eff49e1",
      "metadata": {
        "id": "6eff49e1"
      },
      "source": [
        "# Delete a Table\n",
        "You can delete an existing table by using the \"DROP TABLE\" statement:"
      ]
    },
    {
      "cell_type": "code",
      "execution_count": null,
      "id": "dc172519",
      "metadata": {
        "id": "dc172519",
        "outputId": "14bf119b-c984-4b08-dba1-87fe1ec6a13a"
      },
      "outputs": [
        {
          "ename": "ProgrammingError",
          "evalue": "1051 (42S02): Unknown table 'mydatabase.customers'",
          "output_type": "error",
          "traceback": [
            "\u001b[1;31m---------------------------------------------------------------------------\u001b[0m",
            "\u001b[1;31mMySQLInterfaceError\u001b[0m                       Traceback (most recent call last)",
            "\u001b[1;32m~\\miniconda3\\lib\\site-packages\\mysql\\connector\\connection_cext.py\u001b[0m in \u001b[0;36mcmd_query\u001b[1;34m(self, query, raw, buffered, raw_as_string)\u001b[0m\n\u001b[0;32m    522\u001b[0m                 \u001b[0mquery\u001b[0m \u001b[1;33m=\u001b[0m \u001b[0mquery\u001b[0m\u001b[1;33m.\u001b[0m\u001b[0mencode\u001b[0m\u001b[1;33m(\u001b[0m\u001b[1;34m'utf-8'\u001b[0m\u001b[1;33m)\u001b[0m\u001b[1;33m\u001b[0m\u001b[1;33m\u001b[0m\u001b[0m\n\u001b[1;32m--> 523\u001b[1;33m             self._cmysql.query(query,\n\u001b[0m\u001b[0;32m    524\u001b[0m                                \u001b[0mraw\u001b[0m\u001b[1;33m=\u001b[0m\u001b[0mraw\u001b[0m\u001b[1;33m,\u001b[0m \u001b[0mbuffered\u001b[0m\u001b[1;33m=\u001b[0m\u001b[0mbuffered\u001b[0m\u001b[1;33m,\u001b[0m\u001b[1;33m\u001b[0m\u001b[1;33m\u001b[0m\u001b[0m\n",
            "\u001b[1;31mMySQLInterfaceError\u001b[0m: Unknown table 'mydatabase.customers'",
            "\nDuring handling of the above exception, another exception occurred:\n",
            "\u001b[1;31mProgrammingError\u001b[0m                          Traceback (most recent call last)",
            "\u001b[1;32m~\\AppData\\Local\\Temp/ipykernel_2092/355950887.py\u001b[0m in \u001b[0;36m<module>\u001b[1;34m\u001b[0m\n\u001b[0;32m     14\u001b[0m \u001b[0msql\u001b[0m \u001b[1;33m=\u001b[0m \u001b[1;34m\"DROP TABLE customers\"\u001b[0m\u001b[1;33m\u001b[0m\u001b[1;33m\u001b[0m\u001b[0m\n\u001b[0;32m     15\u001b[0m \u001b[1;33m\u001b[0m\u001b[0m\n\u001b[1;32m---> 16\u001b[1;33m \u001b[0mmycursor\u001b[0m\u001b[1;33m.\u001b[0m\u001b[0mexecute\u001b[0m\u001b[1;33m(\u001b[0m\u001b[0msql\u001b[0m\u001b[1;33m)\u001b[0m\u001b[1;33m\u001b[0m\u001b[1;33m\u001b[0m\u001b[0m\n\u001b[0m",
            "\u001b[1;32m~\\miniconda3\\lib\\site-packages\\mysql\\connector\\cursor_cext.py\u001b[0m in \u001b[0;36mexecute\u001b[1;34m(self, operation, params, multi)\u001b[0m\n\u001b[0;32m    267\u001b[0m \u001b[1;33m\u001b[0m\u001b[0m\n\u001b[0;32m    268\u001b[0m         \u001b[1;32mtry\u001b[0m\u001b[1;33m:\u001b[0m\u001b[1;33m\u001b[0m\u001b[1;33m\u001b[0m\u001b[0m\n\u001b[1;32m--> 269\u001b[1;33m             result = self._cnx.cmd_query(stmt, raw=self._raw,\n\u001b[0m\u001b[0;32m    270\u001b[0m                                          \u001b[0mbuffered\u001b[0m\u001b[1;33m=\u001b[0m\u001b[0mself\u001b[0m\u001b[1;33m.\u001b[0m\u001b[0m_buffered\u001b[0m\u001b[1;33m,\u001b[0m\u001b[1;33m\u001b[0m\u001b[1;33m\u001b[0m\u001b[0m\n\u001b[0;32m    271\u001b[0m                                          raw_as_string=self._raw_as_string)\n",
            "\u001b[1;32m~\\miniconda3\\lib\\site-packages\\mysql\\connector\\connection_cext.py\u001b[0m in \u001b[0;36mcmd_query\u001b[1;34m(self, query, raw, buffered, raw_as_string)\u001b[0m\n\u001b[0;32m    526\u001b[0m                                query_attrs=self._query_attrs)\n\u001b[0;32m    527\u001b[0m         \u001b[1;32mexcept\u001b[0m \u001b[0mMySQLInterfaceError\u001b[0m \u001b[1;32mas\u001b[0m \u001b[0mexc\u001b[0m\u001b[1;33m:\u001b[0m\u001b[1;33m\u001b[0m\u001b[1;33m\u001b[0m\u001b[0m\n\u001b[1;32m--> 528\u001b[1;33m             raise errors.get_mysql_exception(exc.errno, msg=exc.msg,\n\u001b[0m\u001b[0;32m    529\u001b[0m                                              sqlstate=exc.sqlstate)\n\u001b[0;32m    530\u001b[0m         \u001b[1;32mexcept\u001b[0m \u001b[0mAttributeError\u001b[0m\u001b[1;33m:\u001b[0m\u001b[1;33m\u001b[0m\u001b[1;33m\u001b[0m\u001b[0m\n",
            "\u001b[1;31mProgrammingError\u001b[0m: 1051 (42S02): Unknown table 'mydatabase.customers'"
          ]
        }
      ],
      "source": [
        "\n",
        "#Delete the table \"customers\":\n",
        "\n",
        "import mysql.connector\n",
        "\n",
        "mydb = mysql.connector.connect(\n",
        "  host=\"localhost\",\n",
        "  user=\"root\",\n",
        "  password=\"4509\",\n",
        "  database=\"mydatabase\"\n",
        ")\n",
        "\n",
        "mycursor = mydb.cursor()\n",
        "\n",
        "sql = \"DROP TABLE customers\"\n",
        "\n",
        "mycursor.execute(sql)"
      ]
    },
    {
      "cell_type": "markdown",
      "id": "499bd1b1",
      "metadata": {
        "id": "499bd1b1"
      },
      "source": [
        "# Drop Only if Exist\n",
        "If the the table you want to delete is already deleted, or for any other reason does not exist, you can use the IF EXISTS keyword to avoid getting an error.\n",
        "\n",
        "Example "
      ]
    },
    {
      "cell_type": "code",
      "execution_count": null,
      "id": "66ef4ced",
      "metadata": {
        "id": "66ef4ced"
      },
      "outputs": [],
      "source": [
        "#Delete the table \"customers\" if it exists:\n",
        "\n",
        "import mysql.connector\n",
        "\n",
        "mydb = mysql.connector.connect(\n",
        "  host=\"localhost\",\n",
        "  user=\"root\",\n",
        "  password=\"4509\",\n",
        "  database=\"mydatabase\"\n",
        ")\n",
        "\n",
        "mycursor = mydb.cursor()\n",
        "\n",
        "sql = \"DROP TABLE IF EXISTS customers\"\n",
        "\n",
        "mycursor.execute(sql)"
      ]
    },
    {
      "cell_type": "markdown",
      "id": "9aa5b6fd",
      "metadata": {
        "id": "9aa5b6fd"
      },
      "source": [
        "# Update Table\n",
        "You can update existing records in a table by using the \"UPDATE\" statement:"
      ]
    },
    {
      "cell_type": "code",
      "execution_count": null,
      "id": "d87fd7fc",
      "metadata": {
        "id": "d87fd7fc",
        "outputId": "360dc643-017c-4d52-c0dd-171bf8497639"
      },
      "outputs": [
        {
          "ename": "ProgrammingError",
          "evalue": "1146 (42S02): Table 'mydatabase.customers' doesn't exist",
          "output_type": "error",
          "traceback": [
            "\u001b[1;31m---------------------------------------------------------------------------\u001b[0m",
            "\u001b[1;31mMySQLInterfaceError\u001b[0m                       Traceback (most recent call last)",
            "\u001b[1;32m~\\miniconda3\\lib\\site-packages\\mysql\\connector\\connection_cext.py\u001b[0m in \u001b[0;36mcmd_query\u001b[1;34m(self, query, raw, buffered, raw_as_string)\u001b[0m\n\u001b[0;32m    522\u001b[0m                 \u001b[0mquery\u001b[0m \u001b[1;33m=\u001b[0m \u001b[0mquery\u001b[0m\u001b[1;33m.\u001b[0m\u001b[0mencode\u001b[0m\u001b[1;33m(\u001b[0m\u001b[1;34m'utf-8'\u001b[0m\u001b[1;33m)\u001b[0m\u001b[1;33m\u001b[0m\u001b[1;33m\u001b[0m\u001b[0m\n\u001b[1;32m--> 523\u001b[1;33m             self._cmysql.query(query,\n\u001b[0m\u001b[0;32m    524\u001b[0m                                \u001b[0mraw\u001b[0m\u001b[1;33m=\u001b[0m\u001b[0mraw\u001b[0m\u001b[1;33m,\u001b[0m \u001b[0mbuffered\u001b[0m\u001b[1;33m=\u001b[0m\u001b[0mbuffered\u001b[0m\u001b[1;33m,\u001b[0m\u001b[1;33m\u001b[0m\u001b[1;33m\u001b[0m\u001b[0m\n",
            "\u001b[1;31mMySQLInterfaceError\u001b[0m: Table 'mydatabase.customers' doesn't exist",
            "\nDuring handling of the above exception, another exception occurred:\n",
            "\u001b[1;31mProgrammingError\u001b[0m                          Traceback (most recent call last)",
            "\u001b[1;32m~\\AppData\\Local\\Temp/ipykernel_2092/3254258911.py\u001b[0m in \u001b[0;36m<module>\u001b[1;34m\u001b[0m\n\u001b[0;32m     14\u001b[0m \u001b[0msql\u001b[0m \u001b[1;33m=\u001b[0m \u001b[1;34m\"UPDATE customers SET address = 'Canyon 123' WHERE address = 'Valley 345'\"\u001b[0m\u001b[1;33m\u001b[0m\u001b[1;33m\u001b[0m\u001b[0m\n\u001b[0;32m     15\u001b[0m \u001b[1;33m\u001b[0m\u001b[0m\n\u001b[1;32m---> 16\u001b[1;33m \u001b[0mmycursor\u001b[0m\u001b[1;33m.\u001b[0m\u001b[0mexecute\u001b[0m\u001b[1;33m(\u001b[0m\u001b[0msql\u001b[0m\u001b[1;33m)\u001b[0m\u001b[1;33m\u001b[0m\u001b[1;33m\u001b[0m\u001b[0m\n\u001b[0m\u001b[0;32m     17\u001b[0m \u001b[1;33m\u001b[0m\u001b[0m\n\u001b[0;32m     18\u001b[0m \u001b[0mmydb\u001b[0m\u001b[1;33m.\u001b[0m\u001b[0mcommit\u001b[0m\u001b[1;33m(\u001b[0m\u001b[1;33m)\u001b[0m\u001b[1;33m\u001b[0m\u001b[1;33m\u001b[0m\u001b[0m\n",
            "\u001b[1;32m~\\miniconda3\\lib\\site-packages\\mysql\\connector\\cursor_cext.py\u001b[0m in \u001b[0;36mexecute\u001b[1;34m(self, operation, params, multi)\u001b[0m\n\u001b[0;32m    267\u001b[0m \u001b[1;33m\u001b[0m\u001b[0m\n\u001b[0;32m    268\u001b[0m         \u001b[1;32mtry\u001b[0m\u001b[1;33m:\u001b[0m\u001b[1;33m\u001b[0m\u001b[1;33m\u001b[0m\u001b[0m\n\u001b[1;32m--> 269\u001b[1;33m             result = self._cnx.cmd_query(stmt, raw=self._raw,\n\u001b[0m\u001b[0;32m    270\u001b[0m                                          \u001b[0mbuffered\u001b[0m\u001b[1;33m=\u001b[0m\u001b[0mself\u001b[0m\u001b[1;33m.\u001b[0m\u001b[0m_buffered\u001b[0m\u001b[1;33m,\u001b[0m\u001b[1;33m\u001b[0m\u001b[1;33m\u001b[0m\u001b[0m\n\u001b[0;32m    271\u001b[0m                                          raw_as_string=self._raw_as_string)\n",
            "\u001b[1;32m~\\miniconda3\\lib\\site-packages\\mysql\\connector\\connection_cext.py\u001b[0m in \u001b[0;36mcmd_query\u001b[1;34m(self, query, raw, buffered, raw_as_string)\u001b[0m\n\u001b[0;32m    526\u001b[0m                                query_attrs=self._query_attrs)\n\u001b[0;32m    527\u001b[0m         \u001b[1;32mexcept\u001b[0m \u001b[0mMySQLInterfaceError\u001b[0m \u001b[1;32mas\u001b[0m \u001b[0mexc\u001b[0m\u001b[1;33m:\u001b[0m\u001b[1;33m\u001b[0m\u001b[1;33m\u001b[0m\u001b[0m\n\u001b[1;32m--> 528\u001b[1;33m             raise errors.get_mysql_exception(exc.errno, msg=exc.msg,\n\u001b[0m\u001b[0;32m    529\u001b[0m                                              sqlstate=exc.sqlstate)\n\u001b[0;32m    530\u001b[0m         \u001b[1;32mexcept\u001b[0m \u001b[0mAttributeError\u001b[0m\u001b[1;33m:\u001b[0m\u001b[1;33m\u001b[0m\u001b[1;33m\u001b[0m\u001b[0m\n",
            "\u001b[1;31mProgrammingError\u001b[0m: 1146 (42S02): Table 'mydatabase.customers' doesn't exist"
          ]
        }
      ],
      "source": [
        "#Overwrite the address column from \"Valley 345\" to \"Canyon 123\":\n",
        "\n",
        "import mysql.connector\n",
        "\n",
        "mydb = mysql.connector.connect(\n",
        "  host=\"localhost\",\n",
        "  user=\"root\",\n",
        "  password=\"4509\",\n",
        "  database=\"mydatabase\"\n",
        ")\n",
        "\n",
        "mycursor = mydb.cursor()\n",
        "\n",
        "sql = \"UPDATE customers SET address = 'Canyon 123' WHERE address = 'Valley 345'\"\n",
        "\n",
        "mycursor.execute(sql)\n",
        "\n",
        "mydb.commit()\n",
        "\n",
        "print(mycursor.rowcount, \"record(s) affected\")"
      ]
    },
    {
      "cell_type": "markdown",
      "id": "a0a0c860",
      "metadata": {
        "id": "a0a0c860"
      },
      "source": [
        "Important!: Notice the statement: mydb.commit(). It is required to make the changes, otherwise no changes are made to the table.\n",
        "\n",
        "Notice the WHERE clause in the UPDATE syntax: The WHERE clause specifies which record or records that should be updated. If you omit the WHERE clause, all records will be updated!"
      ]
    },
    {
      "cell_type": "markdown",
      "id": "b335240f",
      "metadata": {
        "id": "b335240f"
      },
      "source": [
        "# Prevent SQL Injection\n",
        "It is considered a good practice to escape the values of any query, also in update statements.\n",
        "\n",
        "This is to prevent SQL injections, which is a common web hacking technique to destroy or misuse your database.\n",
        "\n",
        "The mysql.connector module uses the placeholder %s to escape values in the delete statement:"
      ]
    },
    {
      "cell_type": "code",
      "execution_count": null,
      "id": "d8fe4534",
      "metadata": {
        "id": "d8fe4534",
        "outputId": "4d65401f-f048-4fdf-e632-9b0447101588"
      },
      "outputs": [
        {
          "ename": "ProgrammingError",
          "evalue": "1146 (42S02): Table 'mydatabase.customers' doesn't exist",
          "output_type": "error",
          "traceback": [
            "\u001b[1;31m---------------------------------------------------------------------------\u001b[0m",
            "\u001b[1;31mMySQLInterfaceError\u001b[0m                       Traceback (most recent call last)",
            "\u001b[1;32m~\\miniconda3\\lib\\site-packages\\mysql\\connector\\connection_cext.py\u001b[0m in \u001b[0;36mcmd_query\u001b[1;34m(self, query, raw, buffered, raw_as_string)\u001b[0m\n\u001b[0;32m    522\u001b[0m                 \u001b[0mquery\u001b[0m \u001b[1;33m=\u001b[0m \u001b[0mquery\u001b[0m\u001b[1;33m.\u001b[0m\u001b[0mencode\u001b[0m\u001b[1;33m(\u001b[0m\u001b[1;34m'utf-8'\u001b[0m\u001b[1;33m)\u001b[0m\u001b[1;33m\u001b[0m\u001b[1;33m\u001b[0m\u001b[0m\n\u001b[1;32m--> 523\u001b[1;33m             self._cmysql.query(query,\n\u001b[0m\u001b[0;32m    524\u001b[0m                                \u001b[0mraw\u001b[0m\u001b[1;33m=\u001b[0m\u001b[0mraw\u001b[0m\u001b[1;33m,\u001b[0m \u001b[0mbuffered\u001b[0m\u001b[1;33m=\u001b[0m\u001b[0mbuffered\u001b[0m\u001b[1;33m,\u001b[0m\u001b[1;33m\u001b[0m\u001b[1;33m\u001b[0m\u001b[0m\n",
            "\u001b[1;31mMySQLInterfaceError\u001b[0m: Table 'mydatabase.customers' doesn't exist",
            "\nDuring handling of the above exception, another exception occurred:\n",
            "\u001b[1;31mProgrammingError\u001b[0m                          Traceback (most recent call last)",
            "\u001b[1;32m~\\AppData\\Local\\Temp/ipykernel_2092/1907955448.py\u001b[0m in \u001b[0;36m<module>\u001b[1;34m\u001b[0m\n\u001b[0;32m     15\u001b[0m \u001b[0mval\u001b[0m \u001b[1;33m=\u001b[0m \u001b[1;33m(\u001b[0m\u001b[1;34m\"Valley 345\"\u001b[0m\u001b[1;33m,\u001b[0m \u001b[1;34m\"Canyon 123\"\u001b[0m\u001b[1;33m)\u001b[0m\u001b[1;33m\u001b[0m\u001b[1;33m\u001b[0m\u001b[0m\n\u001b[0;32m     16\u001b[0m \u001b[1;33m\u001b[0m\u001b[0m\n\u001b[1;32m---> 17\u001b[1;33m \u001b[0mmycursor\u001b[0m\u001b[1;33m.\u001b[0m\u001b[0mexecute\u001b[0m\u001b[1;33m(\u001b[0m\u001b[0msql\u001b[0m\u001b[1;33m,\u001b[0m \u001b[0mval\u001b[0m\u001b[1;33m)\u001b[0m\u001b[1;33m\u001b[0m\u001b[1;33m\u001b[0m\u001b[0m\n\u001b[0m\u001b[0;32m     18\u001b[0m \u001b[1;33m\u001b[0m\u001b[0m\n\u001b[0;32m     19\u001b[0m \u001b[0mmydb\u001b[0m\u001b[1;33m.\u001b[0m\u001b[0mcommit\u001b[0m\u001b[1;33m(\u001b[0m\u001b[1;33m)\u001b[0m\u001b[1;33m\u001b[0m\u001b[1;33m\u001b[0m\u001b[0m\n",
            "\u001b[1;32m~\\miniconda3\\lib\\site-packages\\mysql\\connector\\cursor_cext.py\u001b[0m in \u001b[0;36mexecute\u001b[1;34m(self, operation, params, multi)\u001b[0m\n\u001b[0;32m    267\u001b[0m \u001b[1;33m\u001b[0m\u001b[0m\n\u001b[0;32m    268\u001b[0m         \u001b[1;32mtry\u001b[0m\u001b[1;33m:\u001b[0m\u001b[1;33m\u001b[0m\u001b[1;33m\u001b[0m\u001b[0m\n\u001b[1;32m--> 269\u001b[1;33m             result = self._cnx.cmd_query(stmt, raw=self._raw,\n\u001b[0m\u001b[0;32m    270\u001b[0m                                          \u001b[0mbuffered\u001b[0m\u001b[1;33m=\u001b[0m\u001b[0mself\u001b[0m\u001b[1;33m.\u001b[0m\u001b[0m_buffered\u001b[0m\u001b[1;33m,\u001b[0m\u001b[1;33m\u001b[0m\u001b[1;33m\u001b[0m\u001b[0m\n\u001b[0;32m    271\u001b[0m                                          raw_as_string=self._raw_as_string)\n",
            "\u001b[1;32m~\\miniconda3\\lib\\site-packages\\mysql\\connector\\connection_cext.py\u001b[0m in \u001b[0;36mcmd_query\u001b[1;34m(self, query, raw, buffered, raw_as_string)\u001b[0m\n\u001b[0;32m    526\u001b[0m                                query_attrs=self._query_attrs)\n\u001b[0;32m    527\u001b[0m         \u001b[1;32mexcept\u001b[0m \u001b[0mMySQLInterfaceError\u001b[0m \u001b[1;32mas\u001b[0m \u001b[0mexc\u001b[0m\u001b[1;33m:\u001b[0m\u001b[1;33m\u001b[0m\u001b[1;33m\u001b[0m\u001b[0m\n\u001b[1;32m--> 528\u001b[1;33m             raise errors.get_mysql_exception(exc.errno, msg=exc.msg,\n\u001b[0m\u001b[0;32m    529\u001b[0m                                              sqlstate=exc.sqlstate)\n\u001b[0;32m    530\u001b[0m         \u001b[1;32mexcept\u001b[0m \u001b[0mAttributeError\u001b[0m\u001b[1;33m:\u001b[0m\u001b[1;33m\u001b[0m\u001b[1;33m\u001b[0m\u001b[0m\n",
            "\u001b[1;31mProgrammingError\u001b[0m: 1146 (42S02): Table 'mydatabase.customers' doesn't exist"
          ]
        }
      ],
      "source": [
        "#Escape values by using the placeholder %s method:\n",
        "\n",
        "import mysql.connector\n",
        "\n",
        "mydb = mysql.connector.connect(\n",
        "  host=\"localhost\",\n",
        "  user=\"root\",\n",
        "  password=\"4509\",\n",
        "  database=\"mydatabase\"\n",
        ")\n",
        "\n",
        "mycursor = mydb.cursor()\n",
        "\n",
        "sql = \"UPDATE customers SET address = %s WHERE address = %s\"\n",
        "val = (\"Valley 345\", \"Canyon 123\")\n",
        "\n",
        "mycursor.execute(sql, val)\n",
        "\n",
        "mydb.commit()\n",
        "\n",
        "print(mycursor.rowcount, \"record(s) affected\")"
      ]
    },
    {
      "cell_type": "markdown",
      "id": "f84b14a5",
      "metadata": {
        "id": "f84b14a5"
      },
      "source": [
        "# Limit the Result\n",
        "You can limit the number of records returned from the query, by using the \"LIMIT\" statement:"
      ]
    },
    {
      "cell_type": "code",
      "execution_count": null,
      "id": "deb946c8",
      "metadata": {
        "id": "deb946c8",
        "outputId": "376eaec7-3a8e-4c24-a42d-7fdaf91bd9cd"
      },
      "outputs": [
        {
          "ename": "ProgrammingError",
          "evalue": "1146 (42S02): Table 'mydatabase.customers' doesn't exist",
          "output_type": "error",
          "traceback": [
            "\u001b[1;31m---------------------------------------------------------------------------\u001b[0m",
            "\u001b[1;31mMySQLInterfaceError\u001b[0m                       Traceback (most recent call last)",
            "\u001b[1;32m~\\miniconda3\\lib\\site-packages\\mysql\\connector\\connection_cext.py\u001b[0m in \u001b[0;36mcmd_query\u001b[1;34m(self, query, raw, buffered, raw_as_string)\u001b[0m\n\u001b[0;32m    522\u001b[0m                 \u001b[0mquery\u001b[0m \u001b[1;33m=\u001b[0m \u001b[0mquery\u001b[0m\u001b[1;33m.\u001b[0m\u001b[0mencode\u001b[0m\u001b[1;33m(\u001b[0m\u001b[1;34m'utf-8'\u001b[0m\u001b[1;33m)\u001b[0m\u001b[1;33m\u001b[0m\u001b[1;33m\u001b[0m\u001b[0m\n\u001b[1;32m--> 523\u001b[1;33m             self._cmysql.query(query,\n\u001b[0m\u001b[0;32m    524\u001b[0m                                \u001b[0mraw\u001b[0m\u001b[1;33m=\u001b[0m\u001b[0mraw\u001b[0m\u001b[1;33m,\u001b[0m \u001b[0mbuffered\u001b[0m\u001b[1;33m=\u001b[0m\u001b[0mbuffered\u001b[0m\u001b[1;33m,\u001b[0m\u001b[1;33m\u001b[0m\u001b[1;33m\u001b[0m\u001b[0m\n",
            "\u001b[1;31mMySQLInterfaceError\u001b[0m: Table 'mydatabase.customers' doesn't exist",
            "\nDuring handling of the above exception, another exception occurred:\n",
            "\u001b[1;31mProgrammingError\u001b[0m                          Traceback (most recent call last)",
            "\u001b[1;32m~\\AppData\\Local\\Temp/ipykernel_2092/3453358806.py\u001b[0m in \u001b[0;36m<module>\u001b[1;34m\u001b[0m\n\u001b[0;32m     12\u001b[0m \u001b[0mmycursor\u001b[0m \u001b[1;33m=\u001b[0m \u001b[0mmydb\u001b[0m\u001b[1;33m.\u001b[0m\u001b[0mcursor\u001b[0m\u001b[1;33m(\u001b[0m\u001b[1;33m)\u001b[0m\u001b[1;33m\u001b[0m\u001b[1;33m\u001b[0m\u001b[0m\n\u001b[0;32m     13\u001b[0m \u001b[1;33m\u001b[0m\u001b[0m\n\u001b[1;32m---> 14\u001b[1;33m \u001b[0mmycursor\u001b[0m\u001b[1;33m.\u001b[0m\u001b[0mexecute\u001b[0m\u001b[1;33m(\u001b[0m\u001b[1;34m\"SELECT * FROM customers LIMIT 5\"\u001b[0m\u001b[1;33m)\u001b[0m\u001b[1;33m\u001b[0m\u001b[1;33m\u001b[0m\u001b[0m\n\u001b[0m\u001b[0;32m     15\u001b[0m \u001b[1;33m\u001b[0m\u001b[0m\n\u001b[0;32m     16\u001b[0m \u001b[0mmyresult\u001b[0m \u001b[1;33m=\u001b[0m \u001b[0mmycursor\u001b[0m\u001b[1;33m.\u001b[0m\u001b[0mfetchall\u001b[0m\u001b[1;33m(\u001b[0m\u001b[1;33m)\u001b[0m\u001b[1;33m\u001b[0m\u001b[1;33m\u001b[0m\u001b[0m\n",
            "\u001b[1;32m~\\miniconda3\\lib\\site-packages\\mysql\\connector\\cursor_cext.py\u001b[0m in \u001b[0;36mexecute\u001b[1;34m(self, operation, params, multi)\u001b[0m\n\u001b[0;32m    267\u001b[0m \u001b[1;33m\u001b[0m\u001b[0m\n\u001b[0;32m    268\u001b[0m         \u001b[1;32mtry\u001b[0m\u001b[1;33m:\u001b[0m\u001b[1;33m\u001b[0m\u001b[1;33m\u001b[0m\u001b[0m\n\u001b[1;32m--> 269\u001b[1;33m             result = self._cnx.cmd_query(stmt, raw=self._raw,\n\u001b[0m\u001b[0;32m    270\u001b[0m                                          \u001b[0mbuffered\u001b[0m\u001b[1;33m=\u001b[0m\u001b[0mself\u001b[0m\u001b[1;33m.\u001b[0m\u001b[0m_buffered\u001b[0m\u001b[1;33m,\u001b[0m\u001b[1;33m\u001b[0m\u001b[1;33m\u001b[0m\u001b[0m\n\u001b[0;32m    271\u001b[0m                                          raw_as_string=self._raw_as_string)\n",
            "\u001b[1;32m~\\miniconda3\\lib\\site-packages\\mysql\\connector\\connection_cext.py\u001b[0m in \u001b[0;36mcmd_query\u001b[1;34m(self, query, raw, buffered, raw_as_string)\u001b[0m\n\u001b[0;32m    526\u001b[0m                                query_attrs=self._query_attrs)\n\u001b[0;32m    527\u001b[0m         \u001b[1;32mexcept\u001b[0m \u001b[0mMySQLInterfaceError\u001b[0m \u001b[1;32mas\u001b[0m \u001b[0mexc\u001b[0m\u001b[1;33m:\u001b[0m\u001b[1;33m\u001b[0m\u001b[1;33m\u001b[0m\u001b[0m\n\u001b[1;32m--> 528\u001b[1;33m             raise errors.get_mysql_exception(exc.errno, msg=exc.msg,\n\u001b[0m\u001b[0;32m    529\u001b[0m                                              sqlstate=exc.sqlstate)\n\u001b[0;32m    530\u001b[0m         \u001b[1;32mexcept\u001b[0m \u001b[0mAttributeError\u001b[0m\u001b[1;33m:\u001b[0m\u001b[1;33m\u001b[0m\u001b[1;33m\u001b[0m\u001b[0m\n",
            "\u001b[1;31mProgrammingError\u001b[0m: 1146 (42S02): Table 'mydatabase.customers' doesn't exist"
          ]
        }
      ],
      "source": [
        "#Select the 5 first records in the \"customers\" table:\n",
        "\n",
        "import mysql.connector\n",
        "\n",
        "mydb = mysql.connector.connect(\n",
        "  host=\"localhost\",\n",
        "  user=\"root\",\n",
        "  password=\"4509\",\n",
        "  database=\"mydatabase\"\n",
        ")\n",
        "\n",
        "mycursor = mydb.cursor()\n",
        "\n",
        "mycursor.execute(\"SELECT * FROM customers LIMIT 5\")\n",
        "\n",
        "myresult = mycursor.fetchall()\n",
        "\n",
        "for x in myresult:\n",
        "  print(x)"
      ]
    },
    {
      "cell_type": "markdown",
      "id": "b75dcd95",
      "metadata": {
        "id": "b75dcd95"
      },
      "source": [
        "# Start From Another Position\n",
        "If you want to return five records, starting from the third record, you can use the \"OFFSET\" keyword:"
      ]
    },
    {
      "cell_type": "code",
      "execution_count": null,
      "id": "3590a90a",
      "metadata": {
        "id": "3590a90a",
        "outputId": "3b519e4e-1329-466e-9450-cafdd1b48db3"
      },
      "outputs": [
        {
          "ename": "ProgrammingError",
          "evalue": "1146 (42S02): Table 'mydatabase.customers' doesn't exist",
          "output_type": "error",
          "traceback": [
            "\u001b[1;31m---------------------------------------------------------------------------\u001b[0m",
            "\u001b[1;31mMySQLInterfaceError\u001b[0m                       Traceback (most recent call last)",
            "\u001b[1;32m~\\miniconda3\\lib\\site-packages\\mysql\\connector\\connection_cext.py\u001b[0m in \u001b[0;36mcmd_query\u001b[1;34m(self, query, raw, buffered, raw_as_string)\u001b[0m\n\u001b[0;32m    522\u001b[0m                 \u001b[0mquery\u001b[0m \u001b[1;33m=\u001b[0m \u001b[0mquery\u001b[0m\u001b[1;33m.\u001b[0m\u001b[0mencode\u001b[0m\u001b[1;33m(\u001b[0m\u001b[1;34m'utf-8'\u001b[0m\u001b[1;33m)\u001b[0m\u001b[1;33m\u001b[0m\u001b[1;33m\u001b[0m\u001b[0m\n\u001b[1;32m--> 523\u001b[1;33m             self._cmysql.query(query,\n\u001b[0m\u001b[0;32m    524\u001b[0m                                \u001b[0mraw\u001b[0m\u001b[1;33m=\u001b[0m\u001b[0mraw\u001b[0m\u001b[1;33m,\u001b[0m \u001b[0mbuffered\u001b[0m\u001b[1;33m=\u001b[0m\u001b[0mbuffered\u001b[0m\u001b[1;33m,\u001b[0m\u001b[1;33m\u001b[0m\u001b[1;33m\u001b[0m\u001b[0m\n",
            "\u001b[1;31mMySQLInterfaceError\u001b[0m: Table 'mydatabase.customers' doesn't exist",
            "\nDuring handling of the above exception, another exception occurred:\n",
            "\u001b[1;31mProgrammingError\u001b[0m                          Traceback (most recent call last)",
            "\u001b[1;32m~\\AppData\\Local\\Temp/ipykernel_2092/3179886066.py\u001b[0m in \u001b[0;36m<module>\u001b[1;34m\u001b[0m\n\u001b[0;32m     12\u001b[0m \u001b[0mmycursor\u001b[0m \u001b[1;33m=\u001b[0m \u001b[0mmydb\u001b[0m\u001b[1;33m.\u001b[0m\u001b[0mcursor\u001b[0m\u001b[1;33m(\u001b[0m\u001b[1;33m)\u001b[0m\u001b[1;33m\u001b[0m\u001b[1;33m\u001b[0m\u001b[0m\n\u001b[0;32m     13\u001b[0m \u001b[1;33m\u001b[0m\u001b[0m\n\u001b[1;32m---> 14\u001b[1;33m \u001b[0mmycursor\u001b[0m\u001b[1;33m.\u001b[0m\u001b[0mexecute\u001b[0m\u001b[1;33m(\u001b[0m\u001b[1;34m\"SELECT * FROM customers LIMIT 5 OFFSET 2\"\u001b[0m\u001b[1;33m)\u001b[0m\u001b[1;33m\u001b[0m\u001b[1;33m\u001b[0m\u001b[0m\n\u001b[0m\u001b[0;32m     15\u001b[0m \u001b[1;33m\u001b[0m\u001b[0m\n\u001b[0;32m     16\u001b[0m \u001b[0mmyresult\u001b[0m \u001b[1;33m=\u001b[0m \u001b[0mmycursor\u001b[0m\u001b[1;33m.\u001b[0m\u001b[0mfetchall\u001b[0m\u001b[1;33m(\u001b[0m\u001b[1;33m)\u001b[0m\u001b[1;33m\u001b[0m\u001b[1;33m\u001b[0m\u001b[0m\n",
            "\u001b[1;32m~\\miniconda3\\lib\\site-packages\\mysql\\connector\\cursor_cext.py\u001b[0m in \u001b[0;36mexecute\u001b[1;34m(self, operation, params, multi)\u001b[0m\n\u001b[0;32m    267\u001b[0m \u001b[1;33m\u001b[0m\u001b[0m\n\u001b[0;32m    268\u001b[0m         \u001b[1;32mtry\u001b[0m\u001b[1;33m:\u001b[0m\u001b[1;33m\u001b[0m\u001b[1;33m\u001b[0m\u001b[0m\n\u001b[1;32m--> 269\u001b[1;33m             result = self._cnx.cmd_query(stmt, raw=self._raw,\n\u001b[0m\u001b[0;32m    270\u001b[0m                                          \u001b[0mbuffered\u001b[0m\u001b[1;33m=\u001b[0m\u001b[0mself\u001b[0m\u001b[1;33m.\u001b[0m\u001b[0m_buffered\u001b[0m\u001b[1;33m,\u001b[0m\u001b[1;33m\u001b[0m\u001b[1;33m\u001b[0m\u001b[0m\n\u001b[0;32m    271\u001b[0m                                          raw_as_string=self._raw_as_string)\n",
            "\u001b[1;32m~\\miniconda3\\lib\\site-packages\\mysql\\connector\\connection_cext.py\u001b[0m in \u001b[0;36mcmd_query\u001b[1;34m(self, query, raw, buffered, raw_as_string)\u001b[0m\n\u001b[0;32m    526\u001b[0m                                query_attrs=self._query_attrs)\n\u001b[0;32m    527\u001b[0m         \u001b[1;32mexcept\u001b[0m \u001b[0mMySQLInterfaceError\u001b[0m \u001b[1;32mas\u001b[0m \u001b[0mexc\u001b[0m\u001b[1;33m:\u001b[0m\u001b[1;33m\u001b[0m\u001b[1;33m\u001b[0m\u001b[0m\n\u001b[1;32m--> 528\u001b[1;33m             raise errors.get_mysql_exception(exc.errno, msg=exc.msg,\n\u001b[0m\u001b[0;32m    529\u001b[0m                                              sqlstate=exc.sqlstate)\n\u001b[0;32m    530\u001b[0m         \u001b[1;32mexcept\u001b[0m \u001b[0mAttributeError\u001b[0m\u001b[1;33m:\u001b[0m\u001b[1;33m\u001b[0m\u001b[1;33m\u001b[0m\u001b[0m\n",
            "\u001b[1;31mProgrammingError\u001b[0m: 1146 (42S02): Table 'mydatabase.customers' doesn't exist"
          ]
        }
      ],
      "source": [
        "#Start from position 3, and return 5 records:\n",
        "\n",
        "import mysql.connector\n",
        "\n",
        "mydb = mysql.connector.connect(\n",
        "  host=\"localhost\",\n",
        "  user=\"root\",\n",
        "  password=\"4509\",\n",
        "  database=\"mydatabase\"\n",
        ")\n",
        "\n",
        "mycursor = mydb.cursor()\n",
        "\n",
        "mycursor.execute(\"SELECT * FROM customers LIMIT 5 OFFSET 2\")\n",
        "\n",
        "myresult = mycursor.fetchall()\n",
        "\n",
        "for x in myresult:\n",
        "  print(x)"
      ]
    },
    {
      "cell_type": "markdown",
      "id": "5086631e",
      "metadata": {
        "id": "5086631e"
      },
      "source": [
        "# Join Two or More Tables\n",
        "You can combine rows from two or more tables, based on a related column between them, by using a JOIN statement.\n",
        "\n",
        "Consider you have a \"users\" table and a \"products\" table:"
      ]
    },
    {
      "cell_type": "code",
      "execution_count": null,
      "id": "18267ca1",
      "metadata": {
        "id": "18267ca1",
        "outputId": "df807805-1fd3-4581-c709-a3896ab779d5"
      },
      "outputs": [
        {
          "data": {
            "text/plain": [
              "\"users\\n{ id: 1, name: 'John', fav: 154},\\n{ id: 2, name: 'Peter', fav: 154},\\n{ id: 3, name: 'Amy', fav: 155},\\n{ id: 4, name: 'Hannah', fav:},\\n{ id: 5, name: 'Michael', fav:}\""
            ]
          },
          "execution_count": 63,
          "metadata": {},
          "output_type": "execute_result"
        }
      ],
      "source": [
        "'''users\n",
        "{ id: 1, name: 'John', fav: 154},\n",
        "{ id: 2, name: 'Peter', fav: 154},\n",
        "{ id: 3, name: 'Amy', fav: 155},\n",
        "{ id: 4, name: 'Hannah', fav:},\n",
        "{ id: 5, name: 'Michael', fav:}'''"
      ]
    },
    {
      "cell_type": "code",
      "execution_count": null,
      "id": "f3f3cad4",
      "metadata": {
        "id": "f3f3cad4"
      },
      "outputs": [],
      "source": [
        "'''products\n",
        "{ id: 154, name: 'Chocolate Heaven' },\n",
        "{ id: 155, name: 'Tasty Lemons' },\n",
        "{ id: 156, name: 'Vanilla Dreams' }'''"
      ]
    },
    {
      "cell_type": "markdown",
      "id": "9990ad96",
      "metadata": {
        "id": "9990ad96"
      },
      "source": [
        "These two tables can be combined by using users' fav field and products' id field."
      ]
    },
    {
      "cell_type": "code",
      "execution_count": null,
      "id": "9835a43d",
      "metadata": {
        "id": "9835a43d",
        "outputId": "4b886bba-fc71-4cf2-f31a-910d8ee54fdc"
      },
      "outputs": [
        {
          "ename": "ProgrammingError",
          "evalue": "1146 (42S02): Table 'mydatabase.users' doesn't exist",
          "output_type": "error",
          "traceback": [
            "\u001b[1;31m---------------------------------------------------------------------------\u001b[0m",
            "\u001b[1;31mMySQLInterfaceError\u001b[0m                       Traceback (most recent call last)",
            "\u001b[1;32m~\\miniconda3\\lib\\site-packages\\mysql\\connector\\connection_cext.py\u001b[0m in \u001b[0;36mcmd_query\u001b[1;34m(self, query, raw, buffered, raw_as_string)\u001b[0m\n\u001b[0;32m    522\u001b[0m                 \u001b[0mquery\u001b[0m \u001b[1;33m=\u001b[0m \u001b[0mquery\u001b[0m\u001b[1;33m.\u001b[0m\u001b[0mencode\u001b[0m\u001b[1;33m(\u001b[0m\u001b[1;34m'utf-8'\u001b[0m\u001b[1;33m)\u001b[0m\u001b[1;33m\u001b[0m\u001b[1;33m\u001b[0m\u001b[0m\n\u001b[1;32m--> 523\u001b[1;33m             self._cmysql.query(query,\n\u001b[0m\u001b[0;32m    524\u001b[0m                                \u001b[0mraw\u001b[0m\u001b[1;33m=\u001b[0m\u001b[0mraw\u001b[0m\u001b[1;33m,\u001b[0m \u001b[0mbuffered\u001b[0m\u001b[1;33m=\u001b[0m\u001b[0mbuffered\u001b[0m\u001b[1;33m,\u001b[0m\u001b[1;33m\u001b[0m\u001b[1;33m\u001b[0m\u001b[0m\n",
            "\u001b[1;31mMySQLInterfaceError\u001b[0m: Table 'mydatabase.users' doesn't exist",
            "\nDuring handling of the above exception, another exception occurred:\n",
            "\u001b[1;31mProgrammingError\u001b[0m                          Traceback (most recent call last)",
            "\u001b[1;32m~\\AppData\\Local\\Temp/ipykernel_2092/1958762616.py\u001b[0m in \u001b[0;36m<module>\u001b[1;34m\u001b[0m\n\u001b[0;32m     18\u001b[0m   \u001b[0mINNER\u001b[0m \u001b[0mJOIN\u001b[0m \u001b[0mproducts\u001b[0m \u001b[0mON\u001b[0m \u001b[0musers\u001b[0m\u001b[1;33m.\u001b[0m\u001b[0mfav\u001b[0m \u001b[1;33m=\u001b[0m \u001b[0mproducts\u001b[0m\u001b[1;33m.\u001b[0m\u001b[0mid\u001b[0m\u001b[0;31m\"\u001b[0m\u001b[1;33m\u001b[0m\u001b[1;33m\u001b[0m\u001b[0m\n\u001b[0;32m     19\u001b[0m \u001b[1;33m\u001b[0m\u001b[0m\n\u001b[1;32m---> 20\u001b[1;33m \u001b[0mmycursor\u001b[0m\u001b[1;33m.\u001b[0m\u001b[0mexecute\u001b[0m\u001b[1;33m(\u001b[0m\u001b[0msql\u001b[0m\u001b[1;33m)\u001b[0m\u001b[1;33m\u001b[0m\u001b[1;33m\u001b[0m\u001b[0m\n\u001b[0m\u001b[0;32m     21\u001b[0m \u001b[1;33m\u001b[0m\u001b[0m\n\u001b[0;32m     22\u001b[0m \u001b[0mmyresult\u001b[0m \u001b[1;33m=\u001b[0m \u001b[0mmycursor\u001b[0m\u001b[1;33m.\u001b[0m\u001b[0mfetchall\u001b[0m\u001b[1;33m(\u001b[0m\u001b[1;33m)\u001b[0m\u001b[1;33m\u001b[0m\u001b[1;33m\u001b[0m\u001b[0m\n",
            "\u001b[1;32m~\\miniconda3\\lib\\site-packages\\mysql\\connector\\cursor_cext.py\u001b[0m in \u001b[0;36mexecute\u001b[1;34m(self, operation, params, multi)\u001b[0m\n\u001b[0;32m    267\u001b[0m \u001b[1;33m\u001b[0m\u001b[0m\n\u001b[0;32m    268\u001b[0m         \u001b[1;32mtry\u001b[0m\u001b[1;33m:\u001b[0m\u001b[1;33m\u001b[0m\u001b[1;33m\u001b[0m\u001b[0m\n\u001b[1;32m--> 269\u001b[1;33m             result = self._cnx.cmd_query(stmt, raw=self._raw,\n\u001b[0m\u001b[0;32m    270\u001b[0m                                          \u001b[0mbuffered\u001b[0m\u001b[1;33m=\u001b[0m\u001b[0mself\u001b[0m\u001b[1;33m.\u001b[0m\u001b[0m_buffered\u001b[0m\u001b[1;33m,\u001b[0m\u001b[1;33m\u001b[0m\u001b[1;33m\u001b[0m\u001b[0m\n\u001b[0;32m    271\u001b[0m                                          raw_as_string=self._raw_as_string)\n",
            "\u001b[1;32m~\\miniconda3\\lib\\site-packages\\mysql\\connector\\connection_cext.py\u001b[0m in \u001b[0;36mcmd_query\u001b[1;34m(self, query, raw, buffered, raw_as_string)\u001b[0m\n\u001b[0;32m    526\u001b[0m                                query_attrs=self._query_attrs)\n\u001b[0;32m    527\u001b[0m         \u001b[1;32mexcept\u001b[0m \u001b[0mMySQLInterfaceError\u001b[0m \u001b[1;32mas\u001b[0m \u001b[0mexc\u001b[0m\u001b[1;33m:\u001b[0m\u001b[1;33m\u001b[0m\u001b[1;33m\u001b[0m\u001b[0m\n\u001b[1;32m--> 528\u001b[1;33m             raise errors.get_mysql_exception(exc.errno, msg=exc.msg,\n\u001b[0m\u001b[0;32m    529\u001b[0m                                              sqlstate=exc.sqlstate)\n\u001b[0;32m    530\u001b[0m         \u001b[1;32mexcept\u001b[0m \u001b[0mAttributeError\u001b[0m\u001b[1;33m:\u001b[0m\u001b[1;33m\u001b[0m\u001b[1;33m\u001b[0m\u001b[0m\n",
            "\u001b[1;31mProgrammingError\u001b[0m: 1146 (42S02): Table 'mydatabase.users' doesn't exist"
          ]
        }
      ],
      "source": [
        "#Join users and products to see the name of the users favorite product:\n",
        "\n",
        "import mysql.connector\n",
        "\n",
        "mydb = mysql.connector.connect(\n",
        "  host=\"localhost\",\n",
        "  user=\"root\",\n",
        "  password=\"4509\",\n",
        "  database=\"mydatabase\"\n",
        ")\n",
        "\n",
        "mycursor = mydb.cursor()\n",
        "\n",
        "sql = \"SELECT \\\n",
        "  users.name AS user, \\\n",
        "  products.name AS favorite \\\n",
        "  FROM users \\\n",
        "  INNER JOIN products ON users.fav = products.id\"\n",
        "\n",
        "mycursor.execute(sql)\n",
        "\n",
        "myresult = mycursor.fetchall()\n",
        "\n",
        "for x in myresult:\n",
        "  print(x)\n",
        "#Note: You can use JOIN instead of INNER"
      ]
    },
    {
      "cell_type": "markdown",
      "id": "9681a794",
      "metadata": {
        "id": "9681a794"
      },
      "source": [
        "# LEFT JOIN\n",
        "In the example above, Hannah, and Michael were excluded from the result, that is because INNER JOIN only shows the records where there is a match.\n",
        "\n",
        "If you want to show all users, even if they do not have a favorite product, use the LEFT JOIN statement:"
      ]
    },
    {
      "cell_type": "code",
      "execution_count": null,
      "id": "55bf4188",
      "metadata": {
        "id": "55bf4188",
        "outputId": "586f3071-6ac5-4fc1-d91f-90d478874e52"
      },
      "outputs": [
        {
          "ename": "ProgrammingError",
          "evalue": "1146 (42S02): Table 'mydatabase.users' doesn't exist",
          "output_type": "error",
          "traceback": [
            "\u001b[1;31m---------------------------------------------------------------------------\u001b[0m",
            "\u001b[1;31mMySQLInterfaceError\u001b[0m                       Traceback (most recent call last)",
            "\u001b[1;32m~\\miniconda3\\lib\\site-packages\\mysql\\connector\\connection_cext.py\u001b[0m in \u001b[0;36mcmd_query\u001b[1;34m(self, query, raw, buffered, raw_as_string)\u001b[0m\n\u001b[0;32m    522\u001b[0m                 \u001b[0mquery\u001b[0m \u001b[1;33m=\u001b[0m \u001b[0mquery\u001b[0m\u001b[1;33m.\u001b[0m\u001b[0mencode\u001b[0m\u001b[1;33m(\u001b[0m\u001b[1;34m'utf-8'\u001b[0m\u001b[1;33m)\u001b[0m\u001b[1;33m\u001b[0m\u001b[1;33m\u001b[0m\u001b[0m\n\u001b[1;32m--> 523\u001b[1;33m             self._cmysql.query(query,\n\u001b[0m\u001b[0;32m    524\u001b[0m                                \u001b[0mraw\u001b[0m\u001b[1;33m=\u001b[0m\u001b[0mraw\u001b[0m\u001b[1;33m,\u001b[0m \u001b[0mbuffered\u001b[0m\u001b[1;33m=\u001b[0m\u001b[0mbuffered\u001b[0m\u001b[1;33m,\u001b[0m\u001b[1;33m\u001b[0m\u001b[1;33m\u001b[0m\u001b[0m\n",
            "\u001b[1;31mMySQLInterfaceError\u001b[0m: Table 'mydatabase.users' doesn't exist",
            "\nDuring handling of the above exception, another exception occurred:\n",
            "\u001b[1;31mProgrammingError\u001b[0m                          Traceback (most recent call last)",
            "\u001b[1;32m~\\AppData\\Local\\Temp/ipykernel_2092/1694008660.py\u001b[0m in \u001b[0;36m<module>\u001b[1;34m\u001b[0m\n\u001b[0;32m     16\u001b[0m   \u001b[0mLEFT\u001b[0m \u001b[0mJOIN\u001b[0m \u001b[0mproducts\u001b[0m \u001b[0mON\u001b[0m \u001b[0musers\u001b[0m\u001b[1;33m.\u001b[0m\u001b[0mfav\u001b[0m \u001b[1;33m=\u001b[0m \u001b[0mproducts\u001b[0m\u001b[1;33m.\u001b[0m\u001b[0mid\u001b[0m\u001b[0;31m\"\u001b[0m\u001b[1;33m\u001b[0m\u001b[1;33m\u001b[0m\u001b[0m\n\u001b[0;32m     17\u001b[0m \u001b[1;33m\u001b[0m\u001b[0m\n\u001b[1;32m---> 18\u001b[1;33m \u001b[0mmycursor\u001b[0m\u001b[1;33m.\u001b[0m\u001b[0mexecute\u001b[0m\u001b[1;33m(\u001b[0m\u001b[0msql\u001b[0m\u001b[1;33m)\u001b[0m\u001b[1;33m\u001b[0m\u001b[1;33m\u001b[0m\u001b[0m\n\u001b[0m\u001b[0;32m     19\u001b[0m \u001b[1;33m\u001b[0m\u001b[0m\n\u001b[0;32m     20\u001b[0m \u001b[0mmyresult\u001b[0m \u001b[1;33m=\u001b[0m \u001b[0mmycursor\u001b[0m\u001b[1;33m.\u001b[0m\u001b[0mfetchall\u001b[0m\u001b[1;33m(\u001b[0m\u001b[1;33m)\u001b[0m\u001b[1;33m\u001b[0m\u001b[1;33m\u001b[0m\u001b[0m\n",
            "\u001b[1;32m~\\miniconda3\\lib\\site-packages\\mysql\\connector\\cursor_cext.py\u001b[0m in \u001b[0;36mexecute\u001b[1;34m(self, operation, params, multi)\u001b[0m\n\u001b[0;32m    267\u001b[0m \u001b[1;33m\u001b[0m\u001b[0m\n\u001b[0;32m    268\u001b[0m         \u001b[1;32mtry\u001b[0m\u001b[1;33m:\u001b[0m\u001b[1;33m\u001b[0m\u001b[1;33m\u001b[0m\u001b[0m\n\u001b[1;32m--> 269\u001b[1;33m             result = self._cnx.cmd_query(stmt, raw=self._raw,\n\u001b[0m\u001b[0;32m    270\u001b[0m                                          \u001b[0mbuffered\u001b[0m\u001b[1;33m=\u001b[0m\u001b[0mself\u001b[0m\u001b[1;33m.\u001b[0m\u001b[0m_buffered\u001b[0m\u001b[1;33m,\u001b[0m\u001b[1;33m\u001b[0m\u001b[1;33m\u001b[0m\u001b[0m\n\u001b[0;32m    271\u001b[0m                                          raw_as_string=self._raw_as_string)\n",
            "\u001b[1;32m~\\miniconda3\\lib\\site-packages\\mysql\\connector\\connection_cext.py\u001b[0m in \u001b[0;36mcmd_query\u001b[1;34m(self, query, raw, buffered, raw_as_string)\u001b[0m\n\u001b[0;32m    526\u001b[0m                                query_attrs=self._query_attrs)\n\u001b[0;32m    527\u001b[0m         \u001b[1;32mexcept\u001b[0m \u001b[0mMySQLInterfaceError\u001b[0m \u001b[1;32mas\u001b[0m \u001b[0mexc\u001b[0m\u001b[1;33m:\u001b[0m\u001b[1;33m\u001b[0m\u001b[1;33m\u001b[0m\u001b[0m\n\u001b[1;32m--> 528\u001b[1;33m             raise errors.get_mysql_exception(exc.errno, msg=exc.msg,\n\u001b[0m\u001b[0;32m    529\u001b[0m                                              sqlstate=exc.sqlstate)\n\u001b[0;32m    530\u001b[0m         \u001b[1;32mexcept\u001b[0m \u001b[0mAttributeError\u001b[0m\u001b[1;33m:\u001b[0m\u001b[1;33m\u001b[0m\u001b[1;33m\u001b[0m\u001b[0m\n",
            "\u001b[1;31mProgrammingError\u001b[0m: 1146 (42S02): Table 'mydatabase.users' doesn't exist"
          ]
        }
      ],
      "source": [
        "import mysql.connector\n",
        "\n",
        "mydb = mysql.connector.connect(\n",
        "  host=\"localhost\",\n",
        "  user=\"root\",\n",
        "  password=\"4509\",\n",
        "  database=\"mydatabase\"\n",
        ")\n",
        "\n",
        "mycursor = mydb.cursor()\n",
        "\n",
        "sql = \"SELECT \\\n",
        "  users.name AS user, \\\n",
        "  products.name AS favorite \\\n",
        "  FROM users \\\n",
        "  LEFT JOIN products ON users.fav = products.id\"\n",
        "\n",
        "mycursor.execute(sql)\n",
        "\n",
        "myresult = mycursor.fetchall()\n",
        "\n",
        "for x in myresult:\n",
        "  print(x)\n"
      ]
    },
    {
      "cell_type": "markdown",
      "id": "dc2bbaad",
      "metadata": {
        "id": "dc2bbaad"
      },
      "source": [
        "# RIGHT JOIN\n",
        "If you want to return all products, and the users who have them as their favorite, \n",
        "even if no user have them as their favorite,  use the RIGHT JOIN statement:"
      ]
    },
    {
      "cell_type": "code",
      "execution_count": null,
      "id": "4d21e93a",
      "metadata": {
        "id": "4d21e93a",
        "outputId": "bb03fd85-8fea-427b-8dba-94ebef225d5e"
      },
      "outputs": [
        {
          "ename": "ProgrammingError",
          "evalue": "1146 (42S02): Table 'mydatabase.products' doesn't exist",
          "output_type": "error",
          "traceback": [
            "\u001b[1;31m---------------------------------------------------------------------------\u001b[0m",
            "\u001b[1;31mMySQLInterfaceError\u001b[0m                       Traceback (most recent call last)",
            "\u001b[1;32m~\\miniconda3\\lib\\site-packages\\mysql\\connector\\connection_cext.py\u001b[0m in \u001b[0;36mcmd_query\u001b[1;34m(self, query, raw, buffered, raw_as_string)\u001b[0m\n\u001b[0;32m    522\u001b[0m                 \u001b[0mquery\u001b[0m \u001b[1;33m=\u001b[0m \u001b[0mquery\u001b[0m\u001b[1;33m.\u001b[0m\u001b[0mencode\u001b[0m\u001b[1;33m(\u001b[0m\u001b[1;34m'utf-8'\u001b[0m\u001b[1;33m)\u001b[0m\u001b[1;33m\u001b[0m\u001b[1;33m\u001b[0m\u001b[0m\n\u001b[1;32m--> 523\u001b[1;33m             self._cmysql.query(query,\n\u001b[0m\u001b[0;32m    524\u001b[0m                                \u001b[0mraw\u001b[0m\u001b[1;33m=\u001b[0m\u001b[0mraw\u001b[0m\u001b[1;33m,\u001b[0m \u001b[0mbuffered\u001b[0m\u001b[1;33m=\u001b[0m\u001b[0mbuffered\u001b[0m\u001b[1;33m,\u001b[0m\u001b[1;33m\u001b[0m\u001b[1;33m\u001b[0m\u001b[0m\n",
            "\u001b[1;31mMySQLInterfaceError\u001b[0m: Table 'mydatabase.products' doesn't exist",
            "\nDuring handling of the above exception, another exception occurred:\n",
            "\u001b[1;31mProgrammingError\u001b[0m                          Traceback (most recent call last)",
            "\u001b[1;32m~\\AppData\\Local\\Temp/ipykernel_2092/1128123866.py\u001b[0m in \u001b[0;36m<module>\u001b[1;34m\u001b[0m\n\u001b[0;32m     16\u001b[0m   \u001b[0mRIGHT\u001b[0m \u001b[0mJOIN\u001b[0m \u001b[0mproducts\u001b[0m \u001b[0mON\u001b[0m \u001b[0musers\u001b[0m\u001b[1;33m.\u001b[0m\u001b[0mfav\u001b[0m \u001b[1;33m=\u001b[0m \u001b[0mproducts\u001b[0m\u001b[1;33m.\u001b[0m\u001b[0mid\u001b[0m\u001b[0;31m\"\u001b[0m\u001b[1;33m\u001b[0m\u001b[1;33m\u001b[0m\u001b[0m\n\u001b[0;32m     17\u001b[0m \u001b[1;33m\u001b[0m\u001b[0m\n\u001b[1;32m---> 18\u001b[1;33m \u001b[0mmycursor\u001b[0m\u001b[1;33m.\u001b[0m\u001b[0mexecute\u001b[0m\u001b[1;33m(\u001b[0m\u001b[0msql\u001b[0m\u001b[1;33m)\u001b[0m\u001b[1;33m\u001b[0m\u001b[1;33m\u001b[0m\u001b[0m\n\u001b[0m\u001b[0;32m     19\u001b[0m \u001b[1;33m\u001b[0m\u001b[0m\n\u001b[0;32m     20\u001b[0m \u001b[0mmyresult\u001b[0m \u001b[1;33m=\u001b[0m \u001b[0mmycursor\u001b[0m\u001b[1;33m.\u001b[0m\u001b[0mfetchall\u001b[0m\u001b[1;33m(\u001b[0m\u001b[1;33m)\u001b[0m\u001b[1;33m\u001b[0m\u001b[1;33m\u001b[0m\u001b[0m\n",
            "\u001b[1;32m~\\miniconda3\\lib\\site-packages\\mysql\\connector\\cursor_cext.py\u001b[0m in \u001b[0;36mexecute\u001b[1;34m(self, operation, params, multi)\u001b[0m\n\u001b[0;32m    267\u001b[0m \u001b[1;33m\u001b[0m\u001b[0m\n\u001b[0;32m    268\u001b[0m         \u001b[1;32mtry\u001b[0m\u001b[1;33m:\u001b[0m\u001b[1;33m\u001b[0m\u001b[1;33m\u001b[0m\u001b[0m\n\u001b[1;32m--> 269\u001b[1;33m             result = self._cnx.cmd_query(stmt, raw=self._raw,\n\u001b[0m\u001b[0;32m    270\u001b[0m                                          \u001b[0mbuffered\u001b[0m\u001b[1;33m=\u001b[0m\u001b[0mself\u001b[0m\u001b[1;33m.\u001b[0m\u001b[0m_buffered\u001b[0m\u001b[1;33m,\u001b[0m\u001b[1;33m\u001b[0m\u001b[1;33m\u001b[0m\u001b[0m\n\u001b[0;32m    271\u001b[0m                                          raw_as_string=self._raw_as_string)\n",
            "\u001b[1;32m~\\miniconda3\\lib\\site-packages\\mysql\\connector\\connection_cext.py\u001b[0m in \u001b[0;36mcmd_query\u001b[1;34m(self, query, raw, buffered, raw_as_string)\u001b[0m\n\u001b[0;32m    526\u001b[0m                                query_attrs=self._query_attrs)\n\u001b[0;32m    527\u001b[0m         \u001b[1;32mexcept\u001b[0m \u001b[0mMySQLInterfaceError\u001b[0m \u001b[1;32mas\u001b[0m \u001b[0mexc\u001b[0m\u001b[1;33m:\u001b[0m\u001b[1;33m\u001b[0m\u001b[1;33m\u001b[0m\u001b[0m\n\u001b[1;32m--> 528\u001b[1;33m             raise errors.get_mysql_exception(exc.errno, msg=exc.msg,\n\u001b[0m\u001b[0;32m    529\u001b[0m                                              sqlstate=exc.sqlstate)\n\u001b[0;32m    530\u001b[0m         \u001b[1;32mexcept\u001b[0m \u001b[0mAttributeError\u001b[0m\u001b[1;33m:\u001b[0m\u001b[1;33m\u001b[0m\u001b[1;33m\u001b[0m\u001b[0m\n",
            "\u001b[1;31mProgrammingError\u001b[0m: 1146 (42S02): Table 'mydatabase.products' doesn't exist"
          ]
        }
      ],
      "source": [
        "import mysql.connector\n",
        "\n",
        "mydb = mysql.connector.connect(\n",
        "  host=\"localhost\",\n",
        "  user=\"root\",\n",
        "  password=\"4509\",\n",
        "  database=\"mydatabase\"\n",
        ")\n",
        "\n",
        "mycursor = mydb.cursor()\n",
        "\n",
        "sql = \"SELECT \\\n",
        "  users.name AS user, \\\n",
        "  products.name AS favorite \\\n",
        "  FROM users \\\n",
        "  RIGHT JOIN products ON users.fav = products.id\"\n",
        "\n",
        "mycursor.execute(sql)\n",
        "\n",
        "myresult = mycursor.fetchall()\n",
        "\n",
        "for x in myresult:\n",
        "  print(x)\n"
      ]
    },
    {
      "cell_type": "code",
      "execution_count": null,
      "id": "8ca28850",
      "metadata": {
        "id": "8ca28850"
      },
      "outputs": [],
      "source": [
        ""
      ]
    },
    {
      "cell_type": "code",
      "execution_count": null,
      "id": "afc29161",
      "metadata": {
        "id": "afc29161"
      },
      "outputs": [],
      "source": [
        ""
      ]
    },
    {
      "cell_type": "code",
      "execution_count": null,
      "id": "2fb7e61a",
      "metadata": {
        "id": "2fb7e61a"
      },
      "outputs": [],
      "source": [
        ""
      ]
    },
    {
      "cell_type": "code",
      "execution_count": null,
      "id": "d4f16344",
      "metadata": {
        "id": "d4f16344"
      },
      "outputs": [],
      "source": [
        ""
      ]
    },
    {
      "cell_type": "code",
      "execution_count": null,
      "id": "32d9f85d",
      "metadata": {
        "id": "32d9f85d"
      },
      "outputs": [],
      "source": [
        ""
      ]
    },
    {
      "cell_type": "code",
      "execution_count": null,
      "id": "e4555404",
      "metadata": {
        "id": "e4555404"
      },
      "outputs": [],
      "source": [
        ""
      ]
    },
    {
      "cell_type": "code",
      "execution_count": null,
      "id": "9ed726b1",
      "metadata": {
        "id": "9ed726b1"
      },
      "outputs": [],
      "source": [
        ""
      ]
    },
    {
      "cell_type": "code",
      "execution_count": null,
      "id": "7b8c0126",
      "metadata": {
        "id": "7b8c0126"
      },
      "outputs": [],
      "source": [
        ""
      ]
    },
    {
      "cell_type": "code",
      "execution_count": null,
      "id": "5bdbb2d8",
      "metadata": {
        "id": "5bdbb2d8"
      },
      "outputs": [],
      "source": [
        ""
      ]
    }
  ],
  "metadata": {
    "kernelspec": {
      "display_name": "Python 3 (ipykernel)",
      "language": "python",
      "name": "python3"
    },
    "language_info": {
      "codemirror_mode": {
        "name": "ipython",
        "version": 3
      },
      "file_extension": ".py",
      "mimetype": "text/x-python",
      "name": "python",
      "nbconvert_exporter": "python",
      "pygments_lexer": "ipython3",
      "version": "3.8.5"
    },
    "colab": {
      "name": "Python MySQL.ipynb",
      "provenance": [],
      "include_colab_link": true
    }
  },
  "nbformat": 4,
  "nbformat_minor": 5
}